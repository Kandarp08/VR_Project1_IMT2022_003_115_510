{
  "cells": [
    {
      "cell_type": "code",
      "execution_count": 1,
      "metadata": {
        "colab": {
          "base_uri": "https://localhost:8080/"
        },
        "id": "vzAz-QGOPdGI",
        "outputId": "78e51bce-f8c5-4996-ae5f-f94723f3159f"
      },
      "outputs": [
        {
          "output_type": "stream",
          "name": "stdout",
          "text": [
            "Extracted to: /content/extracted_files\n"
          ]
        }
      ],
      "source": [
        "import zipfile\n",
        "import os\n",
        "\n",
        "# Define paths\n",
        "zip_path = \"/content/dataset.zip\"\n",
        "extract_path = \"/content/extracted_files\"\n",
        "\n",
        "# Extract ZIP file\n",
        "with zipfile.ZipFile(zip_path, 'r') as zip_ref:\n",
        "    zip_ref.extractall(extract_path)\n",
        "\n",
        "print(f\"Extracted to: {extract_path}\")"
      ]
    },
    {
      "cell_type": "code",
      "execution_count": 2,
      "metadata": {
        "id": "PKXUmhyFPdGI"
      },
      "outputs": [],
      "source": [
        "import os\n",
        "import numpy as np\n",
        "import cv2\n",
        "import torch\n",
        "import torch.nn as nn\n",
        "import torch.optim as optim\n",
        "from torch.utils.data import DataLoader\n",
        "from torchvision import transforms\n",
        "from tqdm import tqdm\n",
        "import random\n",
        "import matplotlib.pyplot as plt\n",
        "\n",
        "from skimage.feature import hog, local_binary_pattern\n",
        "from sklearn.model_selection import train_test_split\n",
        "from sklearn.svm import SVC\n",
        "from sklearn.ensemble import RandomForestClassifier\n",
        "from sklearn.metrics import accuracy_score, classification_report\n",
        "from sklearn.preprocessing import StandardScaler"
      ]
    },
    {
      "cell_type": "code",
      "execution_count": 3,
      "metadata": {
        "colab": {
          "base_uri": "https://localhost:8080/"
        },
        "id": "4GaseiYlPdGJ",
        "outputId": "dbe3783c-a8b4-4406-a49a-9c5148eeffbd"
      },
      "outputs": [
        {
          "output_type": "execute_result",
          "data": {
            "text/plain": [
              "<torch._C.Generator at 0x78e849b13890>"
            ]
          },
          "metadata": {},
          "execution_count": 3
        }
      ],
      "source": [
        "random.seed(0)\n",
        "np.random.seed(0)\n",
        "torch.manual_seed(0)"
      ]
    },
    {
      "cell_type": "markdown",
      "source": [
        "# Binary Classification using Handcrafted Features and ML Classifiers"
      ],
      "metadata": {
        "id": "ODewM8CsWygI"
      }
    },
    {
      "cell_type": "code",
      "execution_count": 4,
      "metadata": {
        "colab": {
          "base_uri": "https://localhost:8080/"
        },
        "id": "rE6Rz_5SPdGJ",
        "outputId": "ec5dbe8b-fef5-4c02-f216-3d64583ee006"
      },
      "outputs": [
        {
          "output_type": "stream",
          "name": "stdout",
          "text": [
            "Epoch [10/100], Loss: 0.2733\n",
            "Epoch [20/100], Loss: 0.1153\n",
            "Epoch [30/100], Loss: 0.0545\n",
            "Epoch [40/100], Loss: 0.0212\n",
            "Epoch [50/100], Loss: 0.0117\n",
            "Epoch [60/100], Loss: 0.0072\n",
            "Epoch [70/100], Loss: 0.0058\n",
            "Epoch [80/100], Loss: 0.0037\n",
            "Epoch [90/100], Loss: 0.0035\n",
            "Epoch [100/100], Loss: 0.0035\n",
            "\n",
            "SVM Classifier Report:\n",
            "              precision    recall  f1-score   support\n",
            "\n",
            "           0       0.94      0.94      0.94       386\n",
            "           1       0.95      0.94      0.95       433\n",
            "\n",
            "    accuracy                           0.94       819\n",
            "   macro avg       0.94      0.94      0.94       819\n",
            "weighted avg       0.94      0.94      0.94       819\n",
            "\n",
            "SVM Accuracy: 0.9426129426129426\n",
            "\n",
            "Random Forest Classifier Report:\n",
            "              precision    recall  f1-score   support\n",
            "\n",
            "           0       0.95      0.89      0.92       386\n",
            "           1       0.90      0.96      0.93       433\n",
            "\n",
            "    accuracy                           0.92       819\n",
            "   macro avg       0.93      0.92      0.92       819\n",
            "weighted avg       0.92      0.92      0.92       819\n",
            "\n",
            "Random Forest Accuracy: 0.9230769230769231\n",
            "\n",
            "Neural Network Classifier Report:\n",
            "              precision    recall  f1-score   support\n",
            "\n",
            "           0       0.92      0.94      0.93       386\n",
            "           1       0.94      0.93      0.93       433\n",
            "\n",
            "    accuracy                           0.93       819\n",
            "   macro avg       0.93      0.93      0.93       819\n",
            "weighted avg       0.93      0.93      0.93       819\n",
            "\n",
            "Neural Network Accuracy: 0.9316239316239316\n"
          ]
        }
      ],
      "source": [
        "mask_path = \"/content/extracted_files/dataset/with_mask\"\n",
        "no_mask_path = \"/content/extracted_files/dataset/without_mask\"\n",
        "\n",
        "IMG_SIZE = (64, 64)\n",
        "\n",
        "# Function to extract HOG features\n",
        "def extract_hog_features(image):\n",
        "    image = cv2.resize(image, IMG_SIZE)\n",
        "    gray = cv2.cvtColor(image, cv2.COLOR_BGR2GRAY)\n",
        "    fd, _ = hog(gray, pixels_per_cell=(8, 8), cells_per_block=(2, 2), orientations=9, visualize=True)\n",
        "    return fd\n",
        "\n",
        "# Function to extract LBP features\n",
        "def extract_lbp_features(image):\n",
        "    image = cv2.resize(image, IMG_SIZE)\n",
        "    gray = cv2.cvtColor(image, cv2.COLOR_BGR2GRAY)\n",
        "    lbp = local_binary_pattern(gray, P=8, R=1, method=\"uniform\")\n",
        "    hist, _ = np.histogram(lbp.ravel(), bins=np.arange(0, 11), density=True)\n",
        "    return hist\n",
        "\n",
        "def load_dataset():\n",
        "    X, y = [], []\n",
        "\n",
        "    for img_name in os.listdir(mask_path):\n",
        "        img = cv2.imread(os.path.join(mask_path, img_name))\n",
        "        if img is not None:\n",
        "            hog_features = extract_hog_features(img)\n",
        "            lbp_features = extract_lbp_features(img)\n",
        "            combined_features = np.hstack((hog_features, lbp_features))\n",
        "            X.append(combined_features)\n",
        "            y.append(1)\n",
        "\n",
        "    for img_name in os.listdir(no_mask_path):\n",
        "        img = cv2.imread(os.path.join(no_mask_path, img_name))\n",
        "        if img is not None:\n",
        "            hog_features = extract_hog_features(img)\n",
        "            lbp_features = extract_lbp_features(img)\n",
        "            combined_features = np.hstack((hog_features, lbp_features))\n",
        "            X.append(combined_features)\n",
        "            y.append(0)\n",
        "\n",
        "    return np.array(X), np.array(y)\n",
        "\n",
        "# Preprocessing the dataset\n",
        "X, y = load_dataset()\n",
        "scaler = StandardScaler()\n",
        "X = scaler.fit_transform(X)\n",
        "X_train, X_test, y_train, y_test = train_test_split(X, y, test_size=0.2, random_state=42, stratify=y)\n",
        "\n",
        "# SVM Classifier\n",
        "svm_model = SVC(kernel='rbf', C=10, gamma='scale')\n",
        "svm_model.fit(X_train, y_train)\n",
        "svm_preds = svm_model.predict(X_test)\n",
        "\n",
        "# Random Forest Classifier\n",
        "rf_model = RandomForestClassifier(n_estimators=200, max_depth=20, min_samples_split=5, class_weight='balanced', random_state=42)\n",
        "rf_model.fit(X_train, y_train)\n",
        "rf_preds = rf_model.predict(X_test)\n",
        "\n",
        "# Neural Network\n",
        "class SimpleNN(nn.Module):\n",
        "    def __init__(self, input_dim):\n",
        "        super(SimpleNN, self).__init__()\n",
        "        self.fc1 = nn.Linear(input_dim, 256)\n",
        "        self.relu = nn.ReLU()\n",
        "        self.dropout1 = nn.Dropout(0.3)\n",
        "        self.fc2 = nn.Linear(256, 128)\n",
        "        self.dropout2 = nn.Dropout(0.3)\n",
        "        self.fc3 = nn.Linear(128, 64)\n",
        "        self.fc4 = nn.Linear(64, 1)\n",
        "        self.sigmoid = nn.Sigmoid()\n",
        "\n",
        "    def forward(self, x):\n",
        "        x = self.relu(self.fc1(x))\n",
        "        x = self.dropout1(x)\n",
        "        x = self.relu(self.fc2(x))\n",
        "        x = self.dropout2(x)\n",
        "        x = self.relu(self.fc3(x))\n",
        "        x = self.sigmoid(self.fc4(x))\n",
        "        return x\n",
        "\n",
        "# Convert data to PyTorch tensors\n",
        "X_train_tensor = torch.tensor(X_train, dtype=torch.float32)\n",
        "y_train_tensor = torch.tensor(y_train, dtype=torch.float32).view(-1, 1)\n",
        "X_test_tensor = torch.tensor(X_test, dtype=torch.float32)\n",
        "y_test_tensor = torch.tensor(y_test, dtype=torch.float32).view(-1, 1)\n",
        "\n",
        "input_dim = X_train.shape[1]\n",
        "model = SimpleNN(input_dim)\n",
        "criterion = nn.BCELoss()\n",
        "optimizer = optim.Adam(model.parameters(), lr=0.001)\n",
        "\n",
        "# Train the neural network with learning rate scheduling\n",
        "num_epochs = 100\n",
        "scheduler = optim.lr_scheduler.StepLR(optimizer, step_size=20, gamma=0.5)\n",
        "\n",
        "for epoch in range(num_epochs):\n",
        "    model.train()\n",
        "    optimizer.zero_grad()\n",
        "    outputs = model(X_train_tensor)\n",
        "    loss = criterion(outputs, y_train_tensor)\n",
        "    loss.backward()\n",
        "    optimizer.step()\n",
        "    scheduler.step()\n",
        "    if (epoch + 1) % 10 == 0:\n",
        "        print(f\"Epoch [{epoch+1}/{num_epochs}], Loss: {loss.item():.4f}\")\n",
        "\n",
        "# Evaluate the neural network\n",
        "model.eval()\n",
        "with torch.no_grad():\n",
        "    nn_preds = model(X_test_tensor)\n",
        "    nn_preds = (nn_preds >= 0.5).float().numpy().flatten()\n",
        "\n",
        "# Results\n",
        "print(\"\\nSVM Classifier Report:\")\n",
        "print(classification_report(y_test, svm_preds))\n",
        "print(\"SVM Accuracy:\", accuracy_score(y_test, svm_preds))\n",
        "\n",
        "print(\"\\nRandom Forest Classifier Report:\")\n",
        "print(classification_report(y_test, rf_preds))\n",
        "print(\"Random Forest Accuracy:\", accuracy_score(y_test, rf_preds))\n",
        "\n",
        "print(\"\\nNeural Network Classifier Report:\")\n",
        "print(classification_report(y_test, nn_preds))\n",
        "print(\"Neural Network Accuracy:\", accuracy_score(y_test, nn_preds))"
      ]
    },
    {
      "cell_type": "markdown",
      "source": [
        "# Binary Classification Using CNN"
      ],
      "metadata": {
        "id": "QqwsFGWkXIbz"
      }
    },
    {
      "cell_type": "code",
      "source": [
        "# Create a pytorch dataset of images\n",
        "dataset_path = '/content/extracted_files/dataset'\n",
        "\n",
        "# Calculate dataset mean and std for normalization\n",
        "def calculate_mean_std(dataset_path):\n",
        "    sum_mean = np.zeros(3, dtype=np.float64)\n",
        "    sum_std = np.zeros(3, dtype=np.float64)\n",
        "    count = 0\n",
        "    class_names = ['without_mask', 'with_mask']\n",
        "\n",
        "    print(\"Calculating dataset mean and std...\")\n",
        "    for class_name in class_names:\n",
        "        class_dir = os.path.join(dataset_path, class_name)\n",
        "        image_paths = [os.path.join(class_dir, img) for img in os.listdir(class_dir)]\n",
        "\n",
        "        # Process images in batches with tqdm\n",
        "        for img_path in tqdm(image_paths, desc=f\"Processing {class_name}\"):\n",
        "            # Read image in grayscale first to check if it's valid\n",
        "            if not os.path.exists(img_path):\n",
        "                continue\n",
        "\n",
        "            img = cv2.imread(img_path)\n",
        "            if img is None:\n",
        "                continue\n",
        "            img = cv2.cvtColor(img, cv2.COLOR_BGR2RGB)\n",
        "            img = cv2.resize(img, (128, 128))\n",
        "            img = img.astype(np.float32) / 255.0\n",
        "\n",
        "            # Update running statistics\n",
        "            img_mean = img.mean(axis=(0, 1))\n",
        "            img_std = img.std(axis=(0, 1))\n",
        "\n",
        "            sum_mean += img_mean\n",
        "            sum_std += img_std\n",
        "            count += 1\n",
        "\n",
        "    mean = sum_mean / count\n",
        "    std = sum_std / count\n",
        "\n",
        "    return mean.astype(np.float32), std.astype(np.float32)\n",
        "\n",
        "# Calculate mean and std for the dataset\n",
        "mean, std = calculate_mean_std(dataset_path)\n",
        "print(f\"Dataset mean: {mean}\")\n",
        "print(f\"Dataset std: {std}\")"
      ],
      "metadata": {
        "colab": {
          "base_uri": "https://localhost:8080/"
        },
        "id": "DYibdoOWV9i7",
        "outputId": "522e3adb-0c99-405f-ddb4-868dbe8217a4"
      },
      "execution_count": 15,
      "outputs": [
        {
          "output_type": "stream",
          "name": "stdout",
          "text": [
            "Calculating dataset mean and std...\n"
          ]
        },
        {
          "output_type": "stream",
          "name": "stderr",
          "text": [
            "Processing without_mask: 100%|██████████| 1930/1930 [00:07<00:00, 260.11it/s]\n",
            "Processing with_mask: 100%|██████████| 2165/2165 [00:13<00:00, 163.19it/s]"
          ]
        },
        {
          "output_type": "stream",
          "name": "stdout",
          "text": [
            "Dataset mean: [0.5748376  0.49752444 0.46703878]\n",
            "Dataset std: [0.25625145 0.24203679 0.23397043]\n"
          ]
        },
        {
          "output_type": "stream",
          "name": "stderr",
          "text": [
            "\n"
          ]
        }
      ]
    },
    {
      "cell_type": "code",
      "execution_count": 5,
      "metadata": {
        "id": "xaYvAyEVPdGK"
      },
      "outputs": [],
      "source": [
        "dataset_path = '/content/extracted_files/dataset'\n",
        "\n",
        "# Create a pytorch dataset\n",
        "class FaceMaskDataset(torch.utils.data.Dataset):\n",
        "    def __init__(self, root_dir, transform=None):\n",
        "        self.root_dir = root_dir\n",
        "        self.transform = transform\n",
        "        self.images = []\n",
        "        self.labels = []\n",
        "        self.class_names = ['without_mask', 'with_mask']\n",
        "        for i, class_name in enumerate(self.class_names):\n",
        "            class_dir = os.path.join(self.root_dir, class_name)\n",
        "            for image_name in os.listdir(class_dir):\n",
        "                image_path = os.path.join(class_dir, image_name)\n",
        "                self.images.append(image_path)  # Store path instead of loaded image\n",
        "                self.labels.append(i)\n",
        "\n",
        "    def __len__(self):\n",
        "        return len(self.labels)\n",
        "\n",
        "    def __getitem__(self, idx):\n",
        "        image_path = self.images[idx]\n",
        "        image = cv2.imread(image_path)\n",
        "        # Convert BGR to RGB\n",
        "        image = cv2.cvtColor(image, cv2.COLOR_BGR2RGB)\n",
        "        # Resize to match training size\n",
        "        image = cv2.resize(image, (128, 128))\n",
        "        # Convert to tensor first\n",
        "        image = image.astype(np.float32) / 255.0\n",
        "        image = torch.from_numpy(image).permute(2, 0, 1)  # HWC to CHW\n",
        "\n",
        "        label = self.labels[idx]\n",
        "\n",
        "        if self.transform:\n",
        "            image = self.transform(image)\n",
        "\n",
        "        return image, label\n",
        "\n",
        "# Create a pytorch dataloader\n",
        "transform = transforms.Compose([\n",
        "    transforms.RandomHorizontalFlip(),\n",
        "    transforms.RandomRotation(20),\n",
        "    transforms.Normalize([0.5748376, 0.49752444, 0.46703878], [0.25625145, 0.24203679, 0.23397043])\n",
        "])\n",
        "\n",
        "dataset = FaceMaskDataset(dataset_path, transform=transform)"
      ]
    },
    {
      "cell_type": "code",
      "execution_count": 6,
      "metadata": {
        "id": "VvW4WcpYPdGK"
      },
      "outputs": [],
      "source": [
        "import os\n",
        "\n",
        "# Split the dataset into training and validation sets\n",
        "train_size = int(0.8 * len(dataset))\n",
        "val_size = len(dataset) - train_size\n",
        "train_dataset, val_dataset = torch.utils.data.random_split(dataset, [train_size, val_size])\n",
        "\n",
        "# Determine the optimal number of workers based on available CPU cores\n",
        "num_workers = os.cpu_count()\n",
        "\n",
        "train_loader = DataLoader(train_dataset, batch_size=128, shuffle=True, num_workers=num_workers, pin_memory=True)\n",
        "val_loader = DataLoader(val_dataset, batch_size=128, shuffle=False, num_workers=num_workers, pin_memory=True)"
      ]
    },
    {
      "cell_type": "code",
      "execution_count": 7,
      "metadata": {
        "id": "m3jHfRm9PdGK"
      },
      "outputs": [],
      "source": [
        "# Create a CNN model for face mask detection\n",
        "class ConvBlock(nn.Module):\n",
        "    def __init__(self, in_channels, out_channels, kernel_size=3, stride=1,\n",
        "                 padding=1, pool_type='max', pool_size=2, pool_stride=2,\n",
        "                 activation='relu', batch_norm=False):\n",
        "        super(ConvBlock, self).__init__()\n",
        "\n",
        "        # Conv layer\n",
        "        self.conv = nn.Conv2d(in_channels, out_channels, kernel_size, stride, padding)\n",
        "\n",
        "        # Batch normalization (optional)\n",
        "        self.batch_norm = None\n",
        "        if batch_norm:\n",
        "            self.batch_norm = nn.BatchNorm2d(out_channels)\n",
        "\n",
        "        # Activation function\n",
        "        self.activation_type = activation\n",
        "        if activation == 'relu':\n",
        "            self.activation = nn.ReLU()\n",
        "        elif activation == 'leaky_relu':\n",
        "            self.activation = nn.LeakyReLU(0.1)\n",
        "        elif activation == 'elu':\n",
        "            self.activation = nn.ELU()\n",
        "        elif activation == 'tanh':\n",
        "            self.activation = nn.Tanh()\n",
        "        elif activation == 'sigmoid':\n",
        "            self.activation = nn.Sigmoid()\n",
        "\n",
        "        # Pooling layer\n",
        "        self.pool = None\n",
        "        if pool_type == 'max':\n",
        "            self.pool = nn.MaxPool2d(pool_size, pool_stride)\n",
        "        elif pool_type == 'avg':\n",
        "            self.pool = nn.AvgPool2d(pool_size, pool_stride)\n",
        "\n",
        "    def forward(self, x):\n",
        "        x = self.conv(x)\n",
        "        if self.batch_norm:\n",
        "            x = self.batch_norm(x)\n",
        "        x = self.activation(x)\n",
        "        if self.pool:\n",
        "            x = self.pool(x)\n",
        "        return x\n",
        "\n",
        "class CNN(nn.Module):\n",
        "    def __init__(self, in_channels=3, num_classes=2,\n",
        "                 conv_channels=[16, 32, 64], # List of channels for each conv layer\n",
        "                 kernel_sizes=[3, 3, 3],     # Kernel sizes for each conv layer\n",
        "                 pool_types=['max', 'max', 'max'],   # Pooling type for each layer\n",
        "                 pool_sizes=[2, 2, 2],       # Pool sizes for each layer\n",
        "                 activations=['relu', 'relu', 'relu'],  # Activation functions\n",
        "                 use_batch_norm=False,       # Whether to use batch normalization\n",
        "                 fc_sizes=[128],             # Fully connected layer sizes\n",
        "                 dropout_rates=[0.5],        # Dropout rates for fc layers\n",
        "                 final_pool_size=(4, 4)):    # Final adaptive pooling size\n",
        "\n",
        "        super(CNN, self).__init__()\n",
        "\n",
        "        # Ensure all parameter lists have the same length as conv_channels\n",
        "        num_conv_layers = len(conv_channels)\n",
        "        kernel_sizes = self._extend_param(kernel_sizes, num_conv_layers)\n",
        "        pool_types = self._extend_param(pool_types, num_conv_layers)\n",
        "        pool_sizes = self._extend_param(pool_sizes, num_conv_layers)\n",
        "        activations = self._extend_param(activations, num_conv_layers)\n",
        "\n",
        "        # Create convolutional blocks\n",
        "        self.conv_blocks = nn.ModuleList()\n",
        "        current_channels = in_channels\n",
        "\n",
        "        for i in range(num_conv_layers):\n",
        "            self.conv_blocks.append(\n",
        "                ConvBlock(\n",
        "                    in_channels=current_channels,\n",
        "                    out_channels=conv_channels[i],\n",
        "                    kernel_size=kernel_sizes[i],\n",
        "                    pool_type=pool_types[i],\n",
        "                    pool_size=pool_sizes[i],\n",
        "                    activation=activations[i],\n",
        "                    batch_norm=use_batch_norm\n",
        "                )\n",
        "            )\n",
        "            current_channels = conv_channels[i]\n",
        "\n",
        "        # Final adaptive pooling layer\n",
        "        self.adaptive_pool = nn.AdaptiveAvgPool2d(final_pool_size)\n",
        "\n",
        "        # Calculate the flattened size after conv and pooling\n",
        "        self.flattened_size = conv_channels[-1] * final_pool_size[0] * final_pool_size[1]\n",
        "\n",
        "        # Create fully connected layers\n",
        "        self.fc_layers = nn.ModuleList()\n",
        "        self.dropout_layers = nn.ModuleList()\n",
        "\n",
        "        current_size = self.flattened_size\n",
        "        for i, fc_size in enumerate(fc_sizes):\n",
        "            self.fc_layers.append(nn.Linear(current_size, fc_size))\n",
        "            self.dropout_layers.append(nn.Dropout(dropout_rates[min(i, len(dropout_rates)-1)]))\n",
        "            current_size = fc_size\n",
        "\n",
        "        # Final classification layer\n",
        "        self.final_fc = nn.Linear(current_size, num_classes)\n",
        "\n",
        "        # Save configuration for forward pass\n",
        "        self.final_pool_size = final_pool_size\n",
        "        self.num_conv_layers = num_conv_layers\n",
        "        self.fc_sizes = fc_sizes\n",
        "        self.activations = activations\n",
        "\n",
        "    def _extend_param(self, param_list, target_length):\n",
        "        \"\"\"Extend parameter list to the target length by repeating the last element\"\"\"\n",
        "        if len(param_list) >= target_length:\n",
        "            return param_list[:target_length]\n",
        "        else:\n",
        "            return param_list + [param_list[-1]] * (target_length - len(param_list))\n",
        "\n",
        "    def forward(self, x):\n",
        "        # Pass through all convolutional blocks\n",
        "        for block in self.conv_blocks:\n",
        "            x = block(x)\n",
        "\n",
        "        # Apply adaptive pooling\n",
        "        x = self.adaptive_pool(x)\n",
        "\n",
        "        # Flatten\n",
        "        x = x.view(-1, self.flattened_size)\n",
        "\n",
        "        # Fully connected layers with activation and dropout\n",
        "        for i, (fc_layer, dropout_layer) in enumerate(zip(self.fc_layers, self.dropout_layers)):\n",
        "            x = fc_layer(x)\n",
        "            # Apply the same activation function as specified for the last conv layer\n",
        "            if self.activations[-1] == 'relu':\n",
        "                x = torch.relu(x)\n",
        "            elif self.activations[-1] == 'leaky_relu':\n",
        "                x = torch.nn.functional.leaky_relu(x, 0.1)\n",
        "            elif self.activations[-1] == 'elu':\n",
        "                x = torch.nn.functional.elu(x)\n",
        "            elif self.activations[-1] == 'tanh':\n",
        "                x = torch.tanh(x)\n",
        "            elif self.activations[-1] == 'sigmoid':\n",
        "                x = torch.sigmoid(x)\n",
        "            x = dropout_layer(x)\n",
        "\n",
        "        # Final classification layer\n",
        "        x = self.final_fc(x)\n",
        "        return x"
      ]
    },
    {
      "cell_type": "code",
      "execution_count": 8,
      "metadata": {
        "id": "7YL3be7aPdGL"
      },
      "outputs": [],
      "source": [
        "model = CNN(\n",
        "    in_channels=3,\n",
        "    num_classes=2,\n",
        "    conv_channels=[32, 64, 128],\n",
        "    kernel_sizes=[3, 3, 3],\n",
        "    pool_types=['max', 'max', 'max'],\n",
        "    pool_sizes=[2, 2, 2],\n",
        "    activations=['leaky_relu', 'leaky_relu', 'leaky_relu'],\n",
        "    use_batch_norm=True,\n",
        "    fc_sizes=[128, 64],\n",
        "    dropout_rates=[0],\n",
        "    final_pool_size=(4, 4)\n",
        ")"
      ]
    },
    {
      "cell_type": "code",
      "execution_count": 9,
      "metadata": {
        "id": "1YHrAwq2PdGL"
      },
      "outputs": [],
      "source": [
        "def train_model(model, num_epochs=10, learning_rate=0.001, optimizer_type='adamw'):\n",
        "    # Set up optimizer\n",
        "    if optimizer_type == 'adam':\n",
        "        optimizer = optim.Adam(model.parameters(), lr=learning_rate)\n",
        "    elif optimizer_type == 'adamw':\n",
        "        optimizer = optim.AdamW(model.parameters(), lr=learning_rate)\n",
        "    else:\n",
        "        optimizer = optim.SGD(model.parameters(), lr=learning_rate, momentum=0.9)\n",
        "\n",
        "    # Loss function\n",
        "    criterion = nn.CrossEntropyLoss()\n",
        "\n",
        "    # Training loop\n",
        "    device = torch.device('cuda' if torch.cuda.is_available() else 'cpu')\n",
        "    model.to(device)\n",
        "\n",
        "    # Lists to store metrics for plotting\n",
        "    train_losses = []\n",
        "    val_losses = []\n",
        "    train_accuracies = []\n",
        "    val_accuracies = []\n",
        "\n",
        "    for epoch in range(num_epochs):\n",
        "        # Training phase\n",
        "        model.train()\n",
        "        train_loss = 0.0\n",
        "        correct_train = 0\n",
        "        total_train = 0\n",
        "\n",
        "        train_pbar = tqdm(train_loader, desc=f\"Epoch {epoch+1}/{num_epochs} [Train]\")\n",
        "        for inputs, labels in train_pbar:\n",
        "            inputs, labels = inputs.to(device), labels.to(device)\n",
        "\n",
        "            optimizer.zero_grad()\n",
        "            outputs = model(inputs)\n",
        "            loss = criterion(outputs, labels)\n",
        "            loss.backward()\n",
        "            optimizer.step()\n",
        "\n",
        "            train_loss += loss.item()\n",
        "            _, predicted = outputs.max(1)\n",
        "            total_train += labels.size(0)\n",
        "            correct_train += predicted.eq(labels).sum().item()\n",
        "\n",
        "            # Update progress bar\n",
        "            train_accuracy = correct_train / total_train\n",
        "            train_pbar.set_postfix({\n",
        "                'loss': f\"{train_loss/total_train*labels.size(0):.4f}\",\n",
        "                'acc': f\"{train_accuracy:.4f}\"\n",
        "            })\n",
        "\n",
        "        train_accuracy = correct_train / total_train\n",
        "        avg_train_loss = train_loss / len(train_loader)\n",
        "\n",
        "        # Validation phase\n",
        "        model.eval()\n",
        "        val_loss = 0.0\n",
        "        correct_val = 0\n",
        "        total_val = 0\n",
        "\n",
        "        val_pbar = tqdm(val_loader, desc=f\"Epoch {epoch+1}/{num_epochs} [Val]  \")\n",
        "        with torch.no_grad():\n",
        "            for inputs, labels in val_pbar:\n",
        "                inputs, labels = inputs.to(device), labels.to(device)\n",
        "                outputs = model(inputs)\n",
        "                loss = criterion(outputs, labels)\n",
        "\n",
        "                val_loss += loss.item()\n",
        "                _, predicted = outputs.max(1)\n",
        "                total_val += labels.size(0)\n",
        "                correct_val += predicted.eq(labels).sum().item()\n",
        "\n",
        "                # Update progress bar\n",
        "                val_accuracy = correct_val / total_val\n",
        "                val_pbar.set_postfix({\n",
        "                    'loss': f\"{val_loss/total_val*labels.size(0):.4f}\",\n",
        "                    'acc': f\"{val_accuracy:.4f}\"\n",
        "                })\n",
        "\n",
        "        val_accuracy = correct_val / total_val\n",
        "        avg_val_loss = val_loss / len(val_loader)\n",
        "\n",
        "        # Save metrics for plotting\n",
        "        train_losses.append(avg_train_loss)\n",
        "        val_losses.append(avg_val_loss)\n",
        "        train_accuracies.append(train_accuracy)\n",
        "        val_accuracies.append(val_accuracy)\n",
        "\n",
        "        print(f\"Epoch {epoch+1}/{num_epochs}, \"\n",
        "              f\"Train Loss: {avg_train_loss:.4f}, \"\n",
        "              f\"Train Acc: {train_accuracy:.4f}, \"\n",
        "              f\"Val Loss: {avg_val_loss:.4f}, \"\n",
        "              f\"Val Acc: {val_accuracy:.4f}\")\n",
        "\n",
        "    return model, {\n",
        "        'train_losses': train_losses,\n",
        "        'val_losses': val_losses,\n",
        "        'train_accuracies': train_accuracies,\n",
        "        'val_accuracies': val_accuracies\n",
        "    }"
      ]
    },
    {
      "cell_type": "code",
      "execution_count": 10,
      "metadata": {
        "colab": {
          "base_uri": "https://localhost:8080/"
        },
        "id": "b2Ota1hWPdGM",
        "outputId": "d6e79964-0118-4437-f41d-b26bafe80546"
      },
      "outputs": [
        {
          "output_type": "stream",
          "name": "stderr",
          "text": [
            "Epoch 1/3 [Train]: 100%|██████████| 26/26 [03:53<00:00,  8.98s/it, loss=0.2207, acc=0.8480]\n",
            "Epoch 1/3 [Val]  : 100%|██████████| 7/7 [00:30<00:00,  4.33s/it, loss=0.1125, acc=0.9035]\n"
          ]
        },
        {
          "output_type": "stream",
          "name": "stdout",
          "text": [
            "Epoch 1/3, Train Loss: 0.3658, Train Acc: 0.8480, Val Loss: 0.2582, Val Acc: 0.9035\n"
          ]
        },
        {
          "output_type": "stream",
          "name": "stderr",
          "text": [
            "Epoch 2/3 [Train]: 100%|██████████| 26/26 [03:55<00:00,  9.06s/it, loss=0.1337, acc=0.9154]\n",
            "Epoch 2/3 [Val]  : 100%|██████████| 7/7 [00:28<00:00,  4.14s/it, loss=0.1018, acc=0.8974]\n"
          ]
        },
        {
          "output_type": "stream",
          "name": "stdout",
          "text": [
            "Epoch 2/3, Train Loss: 0.2216, Train Acc: 0.9154, Val Loss: 0.2336, Val Acc: 0.8974\n"
          ]
        },
        {
          "output_type": "stream",
          "name": "stderr",
          "text": [
            "Epoch 3/3 [Train]: 100%|██████████| 26/26 [04:06<00:00,  9.46s/it, loss=0.1084, acc=0.9356]\n",
            "Epoch 3/3 [Val]  : 100%|██████████| 7/7 [00:31<00:00,  4.43s/it, loss=0.0716, acc=0.9280]"
          ]
        },
        {
          "output_type": "stream",
          "name": "stdout",
          "text": [
            "Epoch 3/3, Train Loss: 0.1797, Train Acc: 0.9356, Val Loss: 0.1643, Val Acc: 0.9280\n"
          ]
        },
        {
          "output_type": "stream",
          "name": "stderr",
          "text": [
            "\n"
          ]
        }
      ],
      "source": [
        "# Train the model\n",
        "model, history = train_model(model, num_epochs=3, learning_rate=0.001, optimizer_type='adamw')"
      ]
    },
    {
      "cell_type": "code",
      "execution_count": 11,
      "metadata": {
        "colab": {
          "base_uri": "https://localhost:8080/",
          "height": 428
        },
        "id": "1AH6jUU6PdGM",
        "outputId": "07b5735a-f9f5-4f98-e1f6-873609b7f6f7"
      },
      "outputs": [
        {
          "output_type": "execute_result",
          "data": {
            "text/plain": [
              "<matplotlib.legend.Legend at 0x78e8817b7250>"
            ]
          },
          "metadata": {},
          "execution_count": 11
        },
        {
          "output_type": "display_data",
          "data": {
            "text/plain": [
              "<Figure size 1000x400 with 1 Axes>"
            ],
            "image/png": "[encoded data removed]"
          },
          "metadata": {}
        }
      ],
      "source": [
        "# Plot the losses\n",
        "plt.figure(figsize=(10, 4))\n",
        "plt.subplot(1, 2, 1)\n",
        "plt.title(\"Loss\")\n",
        "plt.plot(history['train_losses'], label='train')\n",
        "plt.plot(history['val_losses'], label='val')\n",
        "plt.xlabel('Epoch')\n",
        "plt.ylabel('Loss')\n",
        "plt.legend()"
      ]
    },
    {
      "cell_type": "code",
      "execution_count": 12,
      "metadata": {
        "colab": {
          "base_uri": "https://localhost:8080/",
          "height": 472
        },
        "id": "Rm5MD0IwPdGM",
        "outputId": "cbd22ed2-04ce-4ed3-af03-b3f00d279fcf"
      },
      "outputs": [
        {
          "output_type": "display_data",
          "data": {
            "text/plain": [
              "<Figure size 640x480 with 1 Axes>"
            ],
            "image/png": "[encoded data removed]"
          },
          "metadata": {}
        }
      ],
      "source": [
        "# Plot accuracy\n",
        "plt.subplot(1, 2, 2)\n",
        "plt.title(\"Accuracy\")\n",
        "plt.plot(history['train_accuracies'], label='train')\n",
        "plt.plot(history['val_accuracies'], label='val')\n",
        "plt.xlabel('Epoch')\n",
        "plt.ylabel('Accuracy')\n",
        "plt.legend()\n",
        "plt.show()"
      ]
    },
    {
      "cell_type": "code",
      "execution_count": null,
      "metadata": {
        "id": "moj311rxPdGN"
      },
      "outputs": [],
      "source": []
    }
  ],
  "metadata": {
    "kernelspec": {
      "display_name": ".venv",
      "language": "python",
      "name": ".venv"
    },
    "language_info": {
      "codemirror_mode": {
        "name": "ipython",
        "version": 3
      },
      "file_extension": ".py",
      "mimetype": "text/x-python",
      "name": "python",
      "nbconvert_exporter": "python",
      "pygments_lexer": "ipython3",
      "version": "3.13.2"
    },
    "colab": {
      "provenance": []
    }
  },
  "nbformat": 4,
  "nbformat_minor": 0
}