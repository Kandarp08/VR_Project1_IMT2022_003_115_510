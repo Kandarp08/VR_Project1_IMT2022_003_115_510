{
 "cells": [
  {
   "cell_type": "code",
   "execution_count": 1,
   "metadata": {},
   "outputs": [],
   "source": [
    "import os\n",
    "import numpy as np\n",
    "import cv2\n",
    "import torch\n",
    "import torch.nn as nn\n",
    "import torch.optim as optim\n",
    "from torch.utils.data import DataLoader\n",
    "from torchvision import transforms\n",
    "from tqdm import tqdm\n",
    "import wandb"
   ]
  },
  {
   "cell_type": "code",
   "execution_count": null,
   "metadata": {},
   "outputs": [
    {
     "name": "stdout",
     "output_type": "stream",
     "text": [
      "Calculating dataset mean and std...\n"
     ]
    },
    {
     "name": "stderr",
     "output_type": "stream",
     "text": [
      "Processing without_mask: 100%|██████████| 1930/1930 [00:01<00:00, 1071.87it/s]\n",
      "Processing with_mask:  20%|█▉        | 427/2165 [00:00<00:03, 520.66it/s]libpng warning: iCCP: known incorrect sRGB profile\n",
      "Processing with_mask:  52%|█████▏    | 1135/2165 [00:02<00:02, 440.64it/s]libpng warning: iCCP: known incorrect sRGB profile\n",
      "Processing with_mask: 100%|██████████| 2165/2165 [00:04<00:00, 454.78it/s]"
     ]
    },
    {
     "name": "stdout",
     "output_type": "stream",
     "text": [
      "Dataset mean: [0.5748376  0.49752444 0.46703878]\n",
      "Dataset std: [0.25625145 0.24203679 0.23397043]\n"
     ]
    },
    {
     "name": "stderr",
     "output_type": "stream",
     "text": [
      "\n"
     ]
    }
   ],
   "source": [
    "# # Create a pytorch dataset of images\n",
    "# dataset_path = 'datasets/face_mask_detection'\n",
    "\n",
    "# # Calculate dataset mean and std for normalization\n",
    "# def calculate_mean_std(dataset_path):\n",
    "#     sum_mean = np.zeros(3, dtype=np.float64)\n",
    "#     sum_std = np.zeros(3, dtype=np.float64)\n",
    "#     count = 0\n",
    "#     class_names = ['without_mask', 'with_mask']\n",
    "    \n",
    "#     print(\"Calculating dataset mean and std...\")\n",
    "#     for class_name in class_names:\n",
    "#         class_dir = os.path.join(dataset_path, class_name)\n",
    "#         image_paths = [os.path.join(class_dir, img) for img in os.listdir(class_dir)]\n",
    "        \n",
    "#         # Process images in batches with tqdm\n",
    "#         for img_path in tqdm(image_paths, desc=f\"Processing {class_name}\"):\n",
    "#             # Read image in grayscale first to check if it's valid\n",
    "#             if not os.path.exists(img_path):\n",
    "#                 continue\n",
    "                \n",
    "#             img = cv2.imread(img_path)\n",
    "#             if img is None:\n",
    "#                 continue\n",
    "#             img = cv2.cvtColor(img, cv2.COLOR_BGR2RGB)\n",
    "#             img = cv2.resize(img, (128, 128))\n",
    "#             img = img.astype(np.float32) / 255.0\n",
    "            \n",
    "#             # Update running statistics\n",
    "#             img_mean = img.mean(axis=(0, 1))\n",
    "#             img_std = img.std(axis=(0, 1))\n",
    "            \n",
    "#             sum_mean += img_mean\n",
    "#             sum_std += img_std\n",
    "#             count += 1\n",
    "    \n",
    "#     mean = sum_mean / count\n",
    "#     std = sum_std / count\n",
    "    \n",
    "#     return mean.astype(np.float32), std.astype(np.float32)\n",
    "\n",
    "# # Calculate mean and std for the dataset\n",
    "# mean, std = calculate_mean_std(dataset_path)\n",
    "# print(f\"Dataset mean: {mean}\")\n",
    "# print(f\"Dataset std: {std}\")"
   ]
  },
  {
   "cell_type": "code",
   "execution_count": 2,
   "metadata": {},
   "outputs": [],
   "source": [
    "dataset_path = 'datasets/face_mask_detection'\n",
    "\n",
    "# Create a pytorch dataset\n",
    "class FaceMaskDataset(torch.utils.data.Dataset):\n",
    "    def __init__(self, root_dir, transform=None):\n",
    "        self.root_dir = root_dir\n",
    "        self.transform = transform\n",
    "        self.images = []\n",
    "        self.labels = []\n",
    "        self.class_names = ['without_mask', 'with_mask']\n",
    "        for i, class_name in enumerate(self.class_names):\n",
    "            class_dir = os.path.join(self.root_dir, class_name)\n",
    "            for image_name in os.listdir(class_dir):\n",
    "                image_path = os.path.join(class_dir, image_name)\n",
    "                self.images.append(image_path)  # Store path instead of loaded image\n",
    "                self.labels.append(i)\n",
    "\n",
    "    def __len__(self):\n",
    "        return len(self.labels)\n",
    "\n",
    "    def __getitem__(self, idx):\n",
    "        image_path = self.images[idx]\n",
    "        image = cv2.imread(image_path)\n",
    "        # Convert BGR to RGB\n",
    "        image = cv2.cvtColor(image, cv2.COLOR_BGR2RGB)\n",
    "        # Resize to match training size\n",
    "        image = cv2.resize(image, (128, 128))\n",
    "        # Convert to tensor first\n",
    "        image = image.astype(np.float32) / 255.0\n",
    "        image = torch.from_numpy(image).permute(2, 0, 1)  # HWC to CHW\n",
    "        \n",
    "        label = self.labels[idx]\n",
    "        \n",
    "        if self.transform:\n",
    "            image = self.transform(image)\n",
    "            \n",
    "        return image, label\n",
    "    \n",
    "# Create a pytorch dataloader\n",
    "transform = transforms.Compose([\n",
    "    transforms.RandomHorizontalFlip(),\n",
    "    transforms.RandomRotation(20),\n",
    "    transforms.Normalize([0.5748376, 0.49752444, 0.46703878], [0.25625145, 0.24203679, 0.23397043])\n",
    "])\n",
    "\n",
    "dataset = FaceMaskDataset(dataset_path, transform=transform)"
   ]
  },
  {
   "cell_type": "code",
   "execution_count": 3,
   "metadata": {},
   "outputs": [],
   "source": [
    "# Split the dataset into training and validation sets\n",
    "train_size = int(0.8 * len(dataset))\n",
    "val_size = len(dataset) - train_size\n",
    "train_dataset, val_dataset = torch.utils.data.random_split(dataset, [train_size, val_size])\n",
    "\n",
    "train_loader = DataLoader(train_dataset, batch_size=128, shuffle=True, num_workers=16, pin_memory=True)\n",
    "val_loader = DataLoader(val_dataset, batch_size=128, shuffle=False, num_workers=16, pin_memory=True)"
   ]
  },
  {
   "cell_type": "code",
   "execution_count": 4,
   "metadata": {},
   "outputs": [],
   "source": [
    "# Create a highly configurable CNN model\n",
    "class ConvBlock(nn.Module):\n",
    "    def __init__(self, in_channels, out_channels, kernel_size=3, stride=1, \n",
    "                 padding=1, pool_type='max', pool_size=2, pool_stride=2, \n",
    "                 activation='relu', batch_norm=False):\n",
    "        super(ConvBlock, self).__init__()\n",
    "        \n",
    "        # Conv layer\n",
    "        self.conv = nn.Conv2d(in_channels, out_channels, kernel_size, stride, padding)\n",
    "        \n",
    "        # Batch normalization (optional)\n",
    "        self.batch_norm = None\n",
    "        if batch_norm:\n",
    "            self.batch_norm = nn.BatchNorm2d(out_channels)\n",
    "        \n",
    "        # Activation function\n",
    "        self.activation_type = activation\n",
    "        if activation == 'relu':\n",
    "            self.activation = nn.ReLU()\n",
    "        elif activation == 'leaky_relu':\n",
    "            self.activation = nn.LeakyReLU(0.1)\n",
    "        elif activation == 'elu':\n",
    "            self.activation = nn.ELU()\n",
    "        elif activation == 'tanh':\n",
    "            self.activation = nn.Tanh()\n",
    "        elif activation == 'sigmoid':\n",
    "            self.activation = nn.Sigmoid()\n",
    "        \n",
    "        # Pooling layer\n",
    "        self.pool = None\n",
    "        if pool_type == 'max':\n",
    "            self.pool = nn.MaxPool2d(pool_size, pool_stride)\n",
    "        elif pool_type == 'avg':\n",
    "            self.pool = nn.AvgPool2d(pool_size, pool_stride)\n",
    "\n",
    "    def forward(self, x):\n",
    "        x = self.conv(x)\n",
    "        if self.batch_norm:\n",
    "            x = self.batch_norm(x)\n",
    "        x = self.activation(x)\n",
    "        if self.pool:\n",
    "            x = self.pool(x)\n",
    "        return x\n",
    "\n",
    "class CNN(nn.Module):\n",
    "    def __init__(self, in_channels=3, num_classes=2, \n",
    "                 conv_channels=[16, 32, 64], # List of channels for each conv layer\n",
    "                 kernel_sizes=[3, 3, 3],     # Kernel sizes for each conv layer\n",
    "                 pool_types=['max', 'max', 'max'],   # Pooling type for each layer\n",
    "                 pool_sizes=[2, 2, 2],       # Pool sizes for each layer\n",
    "                 activations=['relu', 'relu', 'relu'],  # Activation functions\n",
    "                 use_batch_norm=False,       # Whether to use batch normalization\n",
    "                 fc_sizes=[128],             # Fully connected layer sizes\n",
    "                 dropout_rates=[0.5],        # Dropout rates for fc layers\n",
    "                 final_pool_size=(4, 4)):    # Final adaptive pooling size\n",
    "                 \n",
    "        super(CNN, self).__init__()\n",
    "        \n",
    "        # Ensure all parameter lists have the same length as conv_channels\n",
    "        num_conv_layers = len(conv_channels)\n",
    "        kernel_sizes = self._extend_param(kernel_sizes, num_conv_layers)\n",
    "        pool_types = self._extend_param(pool_types, num_conv_layers)\n",
    "        pool_sizes = self._extend_param(pool_sizes, num_conv_layers)\n",
    "        activations = self._extend_param(activations, num_conv_layers)\n",
    "        \n",
    "        # Create convolutional blocks\n",
    "        self.conv_blocks = nn.ModuleList()\n",
    "        current_channels = in_channels\n",
    "        \n",
    "        for i in range(num_conv_layers):\n",
    "            self.conv_blocks.append(\n",
    "                ConvBlock(\n",
    "                    in_channels=current_channels,\n",
    "                    out_channels=conv_channels[i],\n",
    "                    kernel_size=kernel_sizes[i],\n",
    "                    pool_type=pool_types[i],\n",
    "                    pool_size=pool_sizes[i],\n",
    "                    activation=activations[i],\n",
    "                    batch_norm=use_batch_norm\n",
    "                )\n",
    "            )\n",
    "            current_channels = conv_channels[i]\n",
    "        \n",
    "        # Final adaptive pooling layer\n",
    "        self.adaptive_pool = nn.AdaptiveAvgPool2d(final_pool_size)\n",
    "        \n",
    "        # Calculate the flattened size after conv and pooling\n",
    "        self.flattened_size = conv_channels[-1] * final_pool_size[0] * final_pool_size[1]\n",
    "        \n",
    "        # Create fully connected layers\n",
    "        self.fc_layers = nn.ModuleList()\n",
    "        self.dropout_layers = nn.ModuleList()\n",
    "        \n",
    "        current_size = self.flattened_size\n",
    "        for i, fc_size in enumerate(fc_sizes):\n",
    "            self.fc_layers.append(nn.Linear(current_size, fc_size))\n",
    "            self.dropout_layers.append(nn.Dropout(dropout_rates[min(i, len(dropout_rates)-1)]))\n",
    "            current_size = fc_size\n",
    "            \n",
    "        # Final classification layer\n",
    "        self.final_fc = nn.Linear(current_size, num_classes)\n",
    "        \n",
    "        # Save configuration for forward pass\n",
    "        self.final_pool_size = final_pool_size\n",
    "        self.num_conv_layers = num_conv_layers\n",
    "        self.fc_sizes = fc_sizes\n",
    "        self.activations = activations\n",
    "\n",
    "    def _extend_param(self, param_list, target_length):\n",
    "        \"\"\"Extend parameter list to the target length by repeating the last element\"\"\"\n",
    "        if len(param_list) >= target_length:\n",
    "            return param_list[:target_length]\n",
    "        else:\n",
    "            return param_list + [param_list[-1]] * (target_length - len(param_list))\n",
    "\n",
    "    def forward(self, x):\n",
    "        # Pass through all convolutional blocks\n",
    "        for block in self.conv_blocks:\n",
    "            x = block(x)\n",
    "        \n",
    "        # Apply adaptive pooling\n",
    "        x = self.adaptive_pool(x)\n",
    "        \n",
    "        # Flatten\n",
    "        x = x.view(-1, self.flattened_size)\n",
    "        \n",
    "        # Fully connected layers with activation and dropout\n",
    "        for i, (fc_layer, dropout_layer) in enumerate(zip(self.fc_layers, self.dropout_layers)):\n",
    "            x = fc_layer(x)\n",
    "            # Apply the same activation function as specified for the last conv layer\n",
    "            if self.activations[-1] == 'relu':\n",
    "                x = torch.relu(x)\n",
    "            elif self.activations[-1] == 'leaky_relu':\n",
    "                x = torch.nn.functional.leaky_relu(x, 0.1)\n",
    "            elif self.activations[-1] == 'elu':\n",
    "                x = torch.nn.functional.elu(x)\n",
    "            elif self.activations[-1] == 'tanh':\n",
    "                x = torch.tanh(x)\n",
    "            elif self.activations[-1] == 'sigmoid':\n",
    "                x = torch.sigmoid(x)\n",
    "            x = dropout_layer(x)\n",
    "        \n",
    "        # Final classification layer\n",
    "        x = self.final_fc(x)\n",
    "        return x"
   ]
  },
  {
   "cell_type": "code",
   "execution_count": 5,
   "metadata": {},
   "outputs": [],
   "source": [
    "sweep_config = {\n",
    "    'method': 'bayes',  # Bayesian optimization, alternatives: 'grid', 'random'\n",
    "    'metric': {\n",
    "        'name': 'val_accuracy',\n",
    "        'goal': 'maximize'\n",
    "    },\n",
    "    'parameters': {\n",
    "        'learning_rate': {\n",
    "            'min': 0.0001,\n",
    "            'max': 0.01\n",
    "        },\n",
    "        'batch_size': {\n",
    "            'values': [16, 32, 64, 128]\n",
    "        },\n",
    "        'conv_channels': {\n",
    "            'values': [\n",
    "                [16, 32, 64], \n",
    "                [32, 64, 128],\n",
    "                [16, 32, 64, 128]\n",
    "            ]\n",
    "        },\n",
    "        'activations': {\n",
    "            'values': [\n",
    "                ['relu', 'relu', 'relu'],\n",
    "                ['leaky_relu', 'leaky_relu', 'leaky_relu'],\n",
    "            ]\n",
    "        },\n",
    "        'fc_sizes': {\n",
    "            'values': [\n",
    "                [128],\n",
    "                [256],\n",
    "                [128, 64],\n",
    "                [256, 128]\n",
    "            ]\n",
    "        },\n",
    "        'dropout_rates': {\n",
    "            'values': [\n",
    "                [0.0],\n",
    "                [0.3],\n",
    "                [0.5],\n",
    "            ]\n",
    "        },\n",
    "        'use_batch_norm': {\n",
    "            'values': [True, False]\n",
    "        },\n",
    "        'optimizer': {\n",
    "            'values': ['adam', 'adamw']\n",
    "        }\n",
    "    }\n",
    "}"
   ]
  },
  {
   "cell_type": "code",
   "execution_count": 6,
   "metadata": {},
   "outputs": [],
   "source": [
    "def train_model():\n",
    "    # Initialize a wandb run\n",
    "    run = wandb.init()\n",
    "    \n",
    "    # Access your hyperparameters from the run config\n",
    "    config = wandb.config\n",
    "    \n",
    "    # Create your model with the hyperparameters\n",
    "    model = CNN(\n",
    "        in_channels=3,  # Assuming RGB images\n",
    "        num_classes=2,  # Binary classification (mask/no mask)\n",
    "        conv_channels=config.conv_channels,\n",
    "        activations=config.activations,\n",
    "        fc_sizes=config.fc_sizes,\n",
    "        dropout_rates=config.dropout_rates,\n",
    "        use_batch_norm=config.use_batch_norm\n",
    "    )\n",
    "    \n",
    "    # Create datasets and dataloaders\n",
    "    # (You'll need to replace this with your actual dataset setup)\n",
    "    train_loader = DataLoader(train_dataset, batch_size=config.batch_size, shuffle=True)\n",
    "    val_loader = DataLoader(val_dataset, batch_size=config.batch_size, shuffle=False)\n",
    "    \n",
    "    # Set up optimizer\n",
    "    if config.optimizer == 'adam':\n",
    "        optimizer = optim.Adam(model.parameters(), lr=config.learning_rate)\n",
    "    elif config.optimizer == 'adamw':\n",
    "        optimizer = optim.AdamW(model.parameters(), lr=config.learning_rate)\n",
    "    else:\n",
    "        optimizer = optim.SGD(model.parameters(), lr=config.learning_rate, momentum=0.9)\n",
    "    \n",
    "    # Loss function\n",
    "    criterion = nn.CrossEntropyLoss()\n",
    "    \n",
    "    # Training loop\n",
    "    device = torch.device('cuda' if torch.cuda.is_available() else 'cpu')\n",
    "    model.to(device)\n",
    "    \n",
    "    num_epochs = 10  # You can also make this a hyperparameter\n",
    "    \n",
    "    for epoch in range(num_epochs):\n",
    "        # Training phase\n",
    "        model.train()\n",
    "        train_loss = 0.0\n",
    "        correct_train = 0\n",
    "        total_train = 0\n",
    "        \n",
    "        for inputs, labels in train_loader:\n",
    "            inputs, labels = inputs.to(device), labels.to(device)\n",
    "            \n",
    "            optimizer.zero_grad()\n",
    "            outputs = model(inputs)\n",
    "            loss = criterion(outputs, labels)\n",
    "            loss.backward()\n",
    "            optimizer.step()\n",
    "            \n",
    "            train_loss += loss.item()\n",
    "            _, predicted = outputs.max(1)\n",
    "            total_train += labels.size(0)\n",
    "            correct_train += predicted.eq(labels).sum().item()\n",
    "        \n",
    "        train_accuracy = correct_train / total_train\n",
    "        \n",
    "        # Validation phase\n",
    "        model.eval()\n",
    "        val_loss = 0.0\n",
    "        correct_val = 0\n",
    "        total_val = 0\n",
    "        \n",
    "        with torch.no_grad():\n",
    "            for inputs, labels in val_loader:\n",
    "                inputs, labels = inputs.to(device), labels.to(device)\n",
    "                outputs = model(inputs)\n",
    "                loss = criterion(outputs, labels)\n",
    "                \n",
    "                val_loss += loss.item()\n",
    "                _, predicted = outputs.max(1)\n",
    "                total_val += labels.size(0)\n",
    "                correct_val += predicted.eq(labels).sum().item()\n",
    "        \n",
    "        val_accuracy = correct_val / total_val\n",
    "        \n",
    "        # Log metrics to wandb\n",
    "        wandb.log({\n",
    "            'epoch': epoch,\n",
    "            'train_loss': train_loss / len(train_loader),\n",
    "            'train_accuracy': train_accuracy,\n",
    "            'val_loss': val_loss / len(val_loader),\n",
    "            'val_accuracy': val_accuracy\n",
    "        })\n",
    "        \n",
    "        print(f\"Epoch {epoch+1}/{num_epochs}, \"\n",
    "              f\"Train Loss: {train_loss/len(train_loader):.4f}, \"\n",
    "              f\"Train Acc: {train_accuracy:.4f}, \"\n",
    "              f\"Val Loss: {val_loss/len(val_loader):.4f}, \"\n",
    "              f\"Val Acc: {val_accuracy:.4f}\")"
   ]
  },
  {
   "cell_type": "code",
   "execution_count": 7,
   "metadata": {},
   "outputs": [
    {
     "name": "stderr",
     "output_type": "stream",
     "text": [
      "\u001b[34m\u001b[1mwandb\u001b[0m: Using wandb-core as the SDK backend.  Please refer to https://wandb.me/wandb-core for more information.\n"
     ]
    },
    {
     "name": "stdout",
     "output_type": "stream",
     "text": [
      "Create sweep with ID: uo9mdr7h\n",
      "Sweep URL: https://wandb.ai/ritishtest1/face-mask-detection-vr-mini-project-1/sweeps/uo9mdr7h\n"
     ]
    },
    {
     "name": "stderr",
     "output_type": "stream",
     "text": [
      "\u001b[34m\u001b[1mwandb\u001b[0m: Agent Starting Run: e2iqoq5y with config:\n",
      "\u001b[34m\u001b[1mwandb\u001b[0m: \tactivations: ['relu', 'relu', 'relu']\n",
      "\u001b[34m\u001b[1mwandb\u001b[0m: \tbatch_size: 16\n",
      "\u001b[34m\u001b[1mwandb\u001b[0m: \tconv_channels: [16, 32, 64]\n",
      "\u001b[34m\u001b[1mwandb\u001b[0m: \tdropout_rates: [0]\n",
      "\u001b[34m\u001b[1mwandb\u001b[0m: \tfc_sizes: [256]\n",
      "\u001b[34m\u001b[1mwandb\u001b[0m: \tlearning_rate: 0.002516890529200087\n",
      "\u001b[34m\u001b[1mwandb\u001b[0m: \toptimizer: adamw\n",
      "\u001b[34m\u001b[1mwandb\u001b[0m: \tuse_batch_norm: True\n",
      "\u001b[34m\u001b[1mwandb\u001b[0m: Currently logged in as: \u001b[33mritishshrirao\u001b[0m (\u001b[33mritishtest1\u001b[0m) to \u001b[32mhttps://api.wandb.ai\u001b[0m. Use \u001b[1m`wandb login --relogin`\u001b[0m to force relogin\n"
     ]
    },
    {
     "data": {
      "text/html": [
       "Tracking run with wandb version 0.19.8"
      ],
      "text/plain": [
       "<IPython.core.display.HTML object>"
      ]
     },
     "metadata": {},
     "output_type": "display_data"
    },
    {
     "data": {
      "text/html": [
       "Run data is saved locally in <code>/home/ritish/prog/college/VR/mini_project_1/wandb/run-20250306_194555-e2iqoq5y</code>"
      ],
      "text/plain": [
       "<IPython.core.display.HTML object>"
      ]
     },
     "metadata": {},
     "output_type": "display_data"
    },
    {
     "data": {
      "text/html": [
       "Syncing run <strong><a href='https://wandb.ai/ritishtest1/face-mask-detection-vr-mini-project-1/runs/e2iqoq5y' target=\"_blank\">drawn-sweep-1</a></strong> to <a href='https://wandb.ai/ritishtest1/face-mask-detection-vr-mini-project-1' target=\"_blank\">Weights & Biases</a> (<a href='https://wandb.me/developer-guide' target=\"_blank\">docs</a>)<br>Sweep page: <a href='https://wandb.ai/ritishtest1/face-mask-detection-vr-mini-project-1/sweeps/uo9mdr7h' target=\"_blank\">https://wandb.ai/ritishtest1/face-mask-detection-vr-mini-project-1/sweeps/uo9mdr7h</a>"
      ],
      "text/plain": [
       "<IPython.core.display.HTML object>"
      ]
     },
     "metadata": {},
     "output_type": "display_data"
    },
    {
     "data": {
      "text/html": [
       " View project at <a href='https://wandb.ai/ritishtest1/face-mask-detection-vr-mini-project-1' target=\"_blank\">https://wandb.ai/ritishtest1/face-mask-detection-vr-mini-project-1</a>"
      ],
      "text/plain": [
       "<IPython.core.display.HTML object>"
      ]
     },
     "metadata": {},
     "output_type": "display_data"
    },
    {
     "data": {
      "text/html": [
       " View sweep at <a href='https://wandb.ai/ritishtest1/face-mask-detection-vr-mini-project-1/sweeps/uo9mdr7h' target=\"_blank\">https://wandb.ai/ritishtest1/face-mask-detection-vr-mini-project-1/sweeps/uo9mdr7h</a>"
      ],
      "text/plain": [
       "<IPython.core.display.HTML object>"
      ]
     },
     "metadata": {},
     "output_type": "display_data"
    },
    {
     "data": {
      "text/html": [
       " View run at <a href='https://wandb.ai/ritishtest1/face-mask-detection-vr-mini-project-1/runs/e2iqoq5y' target=\"_blank\">https://wandb.ai/ritishtest1/face-mask-detection-vr-mini-project-1/runs/e2iqoq5y</a>"
      ],
      "text/plain": [
       "<IPython.core.display.HTML object>"
      ]
     },
     "metadata": {},
     "output_type": "display_data"
    },
    {
     "name": "stderr",
     "output_type": "stream",
     "text": [
      "libpng warning: iCCP: known incorrect sRGB profile\n",
      "libpng warning: iCCP: known incorrect sRGB profile\n"
     ]
    },
    {
     "name": "stdout",
     "output_type": "stream",
     "text": [
      "Epoch 1/10, Train Loss: 0.3583, Train Acc: 0.8626, Val Loss: 0.2449, Val Acc: 0.9206\n"
     ]
    },
    {
     "name": "stderr",
     "output_type": "stream",
     "text": [
      "libpng warning: iCCP: known incorrect sRGB profile\n",
      "libpng warning: iCCP: known incorrect sRGB profile\n"
     ]
    },
    {
     "name": "stdout",
     "output_type": "stream",
     "text": [
      "Epoch 2/10, Train Loss: 0.2377, Train Acc: 0.9100, Val Loss: 0.2823, Val Acc: 0.8828\n"
     ]
    },
    {
     "name": "stderr",
     "output_type": "stream",
     "text": [
      "libpng warning: iCCP: known incorrect sRGB profile\n",
      "libpng warning: iCCP: known incorrect sRGB profile\n"
     ]
    },
    {
     "name": "stdout",
     "output_type": "stream",
     "text": [
      "Epoch 3/10, Train Loss: 0.2099, Train Acc: 0.9197, Val Loss: 0.1670, Val Acc: 0.9402\n"
     ]
    },
    {
     "name": "stderr",
     "output_type": "stream",
     "text": [
      "libpng warning: iCCP: known incorrect sRGB profile\n",
      "libpng warning: iCCP: known incorrect sRGB profile\n"
     ]
    },
    {
     "name": "stdout",
     "output_type": "stream",
     "text": [
      "Epoch 4/10, Train Loss: 0.2043, Train Acc: 0.9243, Val Loss: 0.2559, Val Acc: 0.8974\n"
     ]
    },
    {
     "name": "stderr",
     "output_type": "stream",
     "text": [
      "libpng warning: iCCP: known incorrect sRGB profile\n",
      "libpng warning: iCCP: known incorrect sRGB profile\n"
     ]
    },
    {
     "name": "stdout",
     "output_type": "stream",
     "text": [
      "Epoch 5/10, Train Loss: 0.1782, Train Acc: 0.9322, Val Loss: 0.1609, Val Acc: 0.9451\n"
     ]
    },
    {
     "name": "stderr",
     "output_type": "stream",
     "text": [
      "libpng warning: iCCP: known incorrect sRGB profile\n",
      "libpng warning: iCCP: known incorrect sRGB profile\n"
     ]
    },
    {
     "name": "stdout",
     "output_type": "stream",
     "text": [
      "Epoch 6/10, Train Loss: 0.1624, Train Acc: 0.9341, Val Loss: 0.1362, Val Acc: 0.9524\n"
     ]
    },
    {
     "name": "stderr",
     "output_type": "stream",
     "text": [
      "libpng warning: iCCP: known incorrect sRGB profile\n",
      "libpng warning: iCCP: known incorrect sRGB profile\n"
     ]
    },
    {
     "name": "stdout",
     "output_type": "stream",
     "text": [
      "Epoch 7/10, Train Loss: 0.1634, Train Acc: 0.9405, Val Loss: 0.1581, Val Acc: 0.9414\n"
     ]
    },
    {
     "name": "stderr",
     "output_type": "stream",
     "text": [
      "libpng warning: iCCP: known incorrect sRGB profile\n",
      "libpng warning: iCCP: known incorrect sRGB profile\n"
     ]
    },
    {
     "name": "stdout",
     "output_type": "stream",
     "text": [
      "Epoch 8/10, Train Loss: 0.1647, Train Acc: 0.9353, Val Loss: 0.1541, Val Acc: 0.9463\n"
     ]
    },
    {
     "name": "stderr",
     "output_type": "stream",
     "text": [
      "libpng warning: iCCP: known incorrect sRGB profile\n",
      "libpng warning: iCCP: known incorrect sRGB profile\n"
     ]
    },
    {
     "name": "stdout",
     "output_type": "stream",
     "text": [
      "Epoch 9/10, Train Loss: 0.1488, Train Acc: 0.9423, Val Loss: 0.1265, Val Acc: 0.9573\n"
     ]
    },
    {
     "name": "stderr",
     "output_type": "stream",
     "text": [
      "libpng warning: iCCP: known incorrect sRGB profile\n",
      "libpng warning: iCCP: known incorrect sRGB profile\n"
     ]
    },
    {
     "name": "stdout",
     "output_type": "stream",
     "text": [
      "Epoch 10/10, Train Loss: 0.1470, Train Acc: 0.9451, Val Loss: 0.1145, Val Acc: 0.9585\n"
     ]
    },
    {
     "data": {
      "text/html": [],
      "text/plain": [
       "<IPython.core.display.HTML object>"
      ]
     },
     "metadata": {},
     "output_type": "display_data"
    },
    {
     "data": {
      "text/html": [
       "<br>    <style><br>        .wandb-row {<br>            display: flex;<br>            flex-direction: row;<br>            flex-wrap: wrap;<br>            justify-content: flex-start;<br>            width: 100%;<br>        }<br>        .wandb-col {<br>            display: flex;<br>            flex-direction: column;<br>            flex-basis: 100%;<br>            flex: 1;<br>            padding: 10px;<br>        }<br>    </style><br><div class=\"wandb-row\"><div class=\"wandb-col\"><h3>Run history:</h3><br/><table class=\"wandb\"><tr><td>epoch</td><td>▁▂▃▃▄▅▆▆▇█</td></tr><tr><td>train_accuracy</td><td>▁▅▆▆▇▇█▇██</td></tr><tr><td>train_loss</td><td>█▄▃▃▂▂▂▂▁▁</td></tr><tr><td>val_accuracy</td><td>▅▁▆▂▇▇▆▇██</td></tr><tr><td>val_loss</td><td>▆█▃▇▃▂▃▃▁▁</td></tr></table><br/></div><div class=\"wandb-col\"><h3>Run summary:</h3><br/><table class=\"wandb\"><tr><td>epoch</td><td>9</td></tr><tr><td>train_accuracy</td><td>0.94505</td></tr><tr><td>train_loss</td><td>0.147</td></tr><tr><td>val_accuracy</td><td>0.95849</td></tr><tr><td>val_loss</td><td>0.11451</td></tr></table><br/></div></div>"
      ],
      "text/plain": [
       "<IPython.core.display.HTML object>"
      ]
     },
     "metadata": {},
     "output_type": "display_data"
    },
    {
     "data": {
      "text/html": [
       " View run <strong style=\"color:#cdcd00\">drawn-sweep-1</strong> at: <a href='https://wandb.ai/ritishtest1/face-mask-detection-vr-mini-project-1/runs/e2iqoq5y' target=\"_blank\">https://wandb.ai/ritishtest1/face-mask-detection-vr-mini-project-1/runs/e2iqoq5y</a><br> View project at: <a href='https://wandb.ai/ritishtest1/face-mask-detection-vr-mini-project-1' target=\"_blank\">https://wandb.ai/ritishtest1/face-mask-detection-vr-mini-project-1</a><br>Synced 5 W&B file(s), 0 media file(s), 0 artifact file(s) and 0 other file(s)"
      ],
      "text/plain": [
       "<IPython.core.display.HTML object>"
      ]
     },
     "metadata": {},
     "output_type": "display_data"
    },
    {
     "data": {
      "text/html": [
       "Find logs at: <code>./wandb/run-20250306_194555-e2iqoq5y/logs</code>"
      ],
      "text/plain": [
       "<IPython.core.display.HTML object>"
      ]
     },
     "metadata": {},
     "output_type": "display_data"
    },
    {
     "name": "stderr",
     "output_type": "stream",
     "text": [
      "\u001b[34m\u001b[1mwandb\u001b[0m: Agent Starting Run: 6thvt3l0 with config:\n",
      "\u001b[34m\u001b[1mwandb\u001b[0m: \tactivations: ['relu', 'relu', 'relu']\n",
      "\u001b[34m\u001b[1mwandb\u001b[0m: \tbatch_size: 64\n",
      "\u001b[34m\u001b[1mwandb\u001b[0m: \tconv_channels: [16, 32, 64, 128]\n",
      "\u001b[34m\u001b[1mwandb\u001b[0m: \tdropout_rates: [0.3]\n",
      "\u001b[34m\u001b[1mwandb\u001b[0m: \tfc_sizes: [128]\n",
      "\u001b[34m\u001b[1mwandb\u001b[0m: \tlearning_rate: 0.006740643842678123\n",
      "\u001b[34m\u001b[1mwandb\u001b[0m: \toptimizer: adam\n",
      "\u001b[34m\u001b[1mwandb\u001b[0m: \tuse_batch_norm: True\n"
     ]
    },
    {
     "data": {
      "text/html": [
       "Tracking run with wandb version 0.19.8"
      ],
      "text/plain": [
       "<IPython.core.display.HTML object>"
      ]
     },
     "metadata": {},
     "output_type": "display_data"
    },
    {
     "data": {
      "text/html": [
       "Run data is saved locally in <code>/home/ritish/prog/college/VR/mini_project_1/wandb/run-20250306_194722-6thvt3l0</code>"
      ],
      "text/plain": [
       "<IPython.core.display.HTML object>"
      ]
     },
     "metadata": {},
     "output_type": "display_data"
    },
    {
     "data": {
      "text/html": [
       "Syncing run <strong><a href='https://wandb.ai/ritishtest1/face-mask-detection-vr-mini-project-1/runs/6thvt3l0' target=\"_blank\">major-sweep-2</a></strong> to <a href='https://wandb.ai/ritishtest1/face-mask-detection-vr-mini-project-1' target=\"_blank\">Weights & Biases</a> (<a href='https://wandb.me/developer-guide' target=\"_blank\">docs</a>)<br>Sweep page: <a href='https://wandb.ai/ritishtest1/face-mask-detection-vr-mini-project-1/sweeps/uo9mdr7h' target=\"_blank\">https://wandb.ai/ritishtest1/face-mask-detection-vr-mini-project-1/sweeps/uo9mdr7h</a>"
      ],
      "text/plain": [
       "<IPython.core.display.HTML object>"
      ]
     },
     "metadata": {},
     "output_type": "display_data"
    },
    {
     "data": {
      "text/html": [
       " View project at <a href='https://wandb.ai/ritishtest1/face-mask-detection-vr-mini-project-1' target=\"_blank\">https://wandb.ai/ritishtest1/face-mask-detection-vr-mini-project-1</a>"
      ],
      "text/plain": [
       "<IPython.core.display.HTML object>"
      ]
     },
     "metadata": {},
     "output_type": "display_data"
    },
    {
     "data": {
      "text/html": [
       " View sweep at <a href='https://wandb.ai/ritishtest1/face-mask-detection-vr-mini-project-1/sweeps/uo9mdr7h' target=\"_blank\">https://wandb.ai/ritishtest1/face-mask-detection-vr-mini-project-1/sweeps/uo9mdr7h</a>"
      ],
      "text/plain": [
       "<IPython.core.display.HTML object>"
      ]
     },
     "metadata": {},
     "output_type": "display_data"
    },
    {
     "data": {
      "text/html": [
       " View run at <a href='https://wandb.ai/ritishtest1/face-mask-detection-vr-mini-project-1/runs/6thvt3l0' target=\"_blank\">https://wandb.ai/ritishtest1/face-mask-detection-vr-mini-project-1/runs/6thvt3l0</a>"
      ],
      "text/plain": [
       "<IPython.core.display.HTML object>"
      ]
     },
     "metadata": {},
     "output_type": "display_data"
    },
    {
     "name": "stderr",
     "output_type": "stream",
     "text": [
      "libpng warning: iCCP: known incorrect sRGB profile\n",
      "libpng warning: iCCP: known incorrect sRGB profile\n"
     ]
    },
    {
     "name": "stdout",
     "output_type": "stream",
     "text": [
      "Epoch 1/10, Train Loss: 0.6852, Train Acc: 0.7961, Val Loss: 0.3301, Val Acc: 0.8694\n"
     ]
    },
    {
     "name": "stderr",
     "output_type": "stream",
     "text": [
      "libpng warning: iCCP: known incorrect sRGB profile\n",
      "libpng warning: iCCP: known incorrect sRGB profile\n"
     ]
    },
    {
     "name": "stdout",
     "output_type": "stream",
     "text": [
      "Epoch 2/10, Train Loss: 0.2720, Train Acc: 0.9029, Val Loss: 0.1805, Val Acc: 0.9341\n"
     ]
    },
    {
     "name": "stderr",
     "output_type": "stream",
     "text": [
      "libpng warning: iCCP: known incorrect sRGB profile\n",
      "libpng warning: iCCP: known incorrect sRGB profile\n"
     ]
    },
    {
     "name": "stdout",
     "output_type": "stream",
     "text": [
      "Epoch 3/10, Train Loss: 0.2228, Train Acc: 0.9200, Val Loss: 0.2890, Val Acc: 0.8779\n"
     ]
    },
    {
     "name": "stderr",
     "output_type": "stream",
     "text": [
      "libpng warning: iCCP: known incorrect sRGB profile\n",
      "libpng warning: iCCP: known incorrect sRGB profile\n"
     ]
    },
    {
     "name": "stdout",
     "output_type": "stream",
     "text": [
      "Epoch 4/10, Train Loss: 0.2221, Train Acc: 0.9206, Val Loss: 0.1765, Val Acc: 0.9377\n"
     ]
    },
    {
     "name": "stderr",
     "output_type": "stream",
     "text": [
      "libpng warning: iCCP: known incorrect sRGB profile\n",
      "libpng warning: iCCP: known incorrect sRGB profile\n"
     ]
    },
    {
     "name": "stdout",
     "output_type": "stream",
     "text": [
      "Epoch 5/10, Train Loss: 0.1997, Train Acc: 0.9246, Val Loss: 0.1497, Val Acc: 0.9438\n"
     ]
    },
    {
     "name": "stderr",
     "output_type": "stream",
     "text": [
      "libpng warning: iCCP: known incorrect sRGB profile\n",
      "libpng warning: iCCP: known incorrect sRGB profile\n"
     ]
    },
    {
     "name": "stdout",
     "output_type": "stream",
     "text": [
      "Epoch 6/10, Train Loss: 0.1973, Train Acc: 0.9283, Val Loss: 0.2342, Val Acc: 0.9133\n"
     ]
    },
    {
     "name": "stderr",
     "output_type": "stream",
     "text": [
      "libpng warning: iCCP: known incorrect sRGB profile\n",
      "libpng warning: iCCP: known incorrect sRGB profile\n"
     ]
    },
    {
     "name": "stdout",
     "output_type": "stream",
     "text": [
      "Epoch 7/10, Train Loss: 0.1987, Train Acc: 0.9228, Val Loss: 0.1621, Val Acc: 0.9316\n"
     ]
    },
    {
     "name": "stderr",
     "output_type": "stream",
     "text": [
      "libpng warning: iCCP: known incorrect sRGB profile\n",
      "libpng warning: iCCP: known incorrect sRGB profile\n"
     ]
    },
    {
     "name": "stdout",
     "output_type": "stream",
     "text": [
      "Epoch 8/10, Train Loss: 0.1816, Train Acc: 0.9325, Val Loss: 0.1538, Val Acc: 0.9499\n"
     ]
    },
    {
     "name": "stderr",
     "output_type": "stream",
     "text": [
      "libpng warning: iCCP: known incorrect sRGB profile\n",
      "libpng warning: iCCP: known incorrect sRGB profile\n"
     ]
    },
    {
     "name": "stdout",
     "output_type": "stream",
     "text": [
      "Epoch 9/10, Train Loss: 0.1901, Train Acc: 0.9289, Val Loss: 0.2094, Val Acc: 0.9170\n"
     ]
    },
    {
     "name": "stderr",
     "output_type": "stream",
     "text": [
      "libpng warning: iCCP: known incorrect sRGB profile\n",
      "libpng warning: iCCP: known incorrect sRGB profile\n"
     ]
    },
    {
     "name": "stdout",
     "output_type": "stream",
     "text": [
      "Epoch 10/10, Train Loss: 0.1462, Train Acc: 0.9460, Val Loss: 0.1236, Val Acc: 0.9536\n"
     ]
    },
    {
     "data": {
      "text/html": [],
      "text/plain": [
       "<IPython.core.display.HTML object>"
      ]
     },
     "metadata": {},
     "output_type": "display_data"
    },
    {
     "data": {
      "text/html": [
       "<br>    <style><br>        .wandb-row {<br>            display: flex;<br>            flex-direction: row;<br>            flex-wrap: wrap;<br>            justify-content: flex-start;<br>            width: 100%;<br>        }<br>        .wandb-col {<br>            display: flex;<br>            flex-direction: column;<br>            flex-basis: 100%;<br>            flex: 1;<br>            padding: 10px;<br>        }<br>    </style><br><div class=\"wandb-row\"><div class=\"wandb-col\"><h3>Run history:</h3><br/><table class=\"wandb\"><tr><td>epoch</td><td>▁▂▃▃▄▅▆▆▇█</td></tr><tr><td>train_accuracy</td><td>▁▆▇▇▇▇▇▇▇█</td></tr><tr><td>train_loss</td><td>█▃▂▂▂▂▂▁▂▁</td></tr><tr><td>val_accuracy</td><td>▁▆▂▇▇▅▆█▅█</td></tr><tr><td>val_loss</td><td>█▃▇▃▂▅▂▂▄▁</td></tr></table><br/></div><div class=\"wandb-col\"><h3>Run summary:</h3><br/><table class=\"wandb\"><tr><td>epoch</td><td>9</td></tr><tr><td>train_accuracy</td><td>0.94597</td></tr><tr><td>train_loss</td><td>0.1462</td></tr><tr><td>val_accuracy</td><td>0.9536</td></tr><tr><td>val_loss</td><td>0.12365</td></tr></table><br/></div></div>"
      ],
      "text/plain": [
       "<IPython.core.display.HTML object>"
      ]
     },
     "metadata": {},
     "output_type": "display_data"
    },
    {
     "data": {
      "text/html": [
       " View run <strong style=\"color:#cdcd00\">major-sweep-2</strong> at: <a href='https://wandb.ai/ritishtest1/face-mask-detection-vr-mini-project-1/runs/6thvt3l0' target=\"_blank\">https://wandb.ai/ritishtest1/face-mask-detection-vr-mini-project-1/runs/6thvt3l0</a><br> View project at: <a href='https://wandb.ai/ritishtest1/face-mask-detection-vr-mini-project-1' target=\"_blank\">https://wandb.ai/ritishtest1/face-mask-detection-vr-mini-project-1</a><br>Synced 5 W&B file(s), 0 media file(s), 0 artifact file(s) and 0 other file(s)"
      ],
      "text/plain": [
       "<IPython.core.display.HTML object>"
      ]
     },
     "metadata": {},
     "output_type": "display_data"
    },
    {
     "data": {
      "text/html": [
       "Find logs at: <code>./wandb/run-20250306_194722-6thvt3l0/logs</code>"
      ],
      "text/plain": [
       "<IPython.core.display.HTML object>"
      ]
     },
     "metadata": {},
     "output_type": "display_data"
    },
    {
     "name": "stderr",
     "output_type": "stream",
     "text": [
      "\u001b[34m\u001b[1mwandb\u001b[0m: Agent Starting Run: zhhduoiz with config:\n",
      "\u001b[34m\u001b[1mwandb\u001b[0m: \tactivations: ['leaky_relu', 'leaky_relu', 'leaky_relu']\n",
      "\u001b[34m\u001b[1mwandb\u001b[0m: \tbatch_size: 16\n",
      "\u001b[34m\u001b[1mwandb\u001b[0m: \tconv_channels: [16, 32, 64]\n",
      "\u001b[34m\u001b[1mwandb\u001b[0m: \tdropout_rates: [0.5]\n",
      "\u001b[34m\u001b[1mwandb\u001b[0m: \tfc_sizes: [128, 64]\n",
      "\u001b[34m\u001b[1mwandb\u001b[0m: \tlearning_rate: 0.006250588547753344\n",
      "\u001b[34m\u001b[1mwandb\u001b[0m: \toptimizer: adamw\n",
      "\u001b[34m\u001b[1mwandb\u001b[0m: \tuse_batch_norm: True\n"
     ]
    },
    {
     "data": {
      "text/html": [
       "Tracking run with wandb version 0.19.8"
      ],
      "text/plain": [
       "<IPython.core.display.HTML object>"
      ]
     },
     "metadata": {},
     "output_type": "display_data"
    },
    {
     "data": {
      "text/html": [
       "Run data is saved locally in <code>/home/ritish/prog/college/VR/mini_project_1/wandb/run-20250306_194847-zhhduoiz</code>"
      ],
      "text/plain": [
       "<IPython.core.display.HTML object>"
      ]
     },
     "metadata": {},
     "output_type": "display_data"
    },
    {
     "data": {
      "text/html": [
       "Syncing run <strong><a href='https://wandb.ai/ritishtest1/face-mask-detection-vr-mini-project-1/runs/zhhduoiz' target=\"_blank\">generous-sweep-3</a></strong> to <a href='https://wandb.ai/ritishtest1/face-mask-detection-vr-mini-project-1' target=\"_blank\">Weights & Biases</a> (<a href='https://wandb.me/developer-guide' target=\"_blank\">docs</a>)<br>Sweep page: <a href='https://wandb.ai/ritishtest1/face-mask-detection-vr-mini-project-1/sweeps/uo9mdr7h' target=\"_blank\">https://wandb.ai/ritishtest1/face-mask-detection-vr-mini-project-1/sweeps/uo9mdr7h</a>"
      ],
      "text/plain": [
       "<IPython.core.display.HTML object>"
      ]
     },
     "metadata": {},
     "output_type": "display_data"
    },
    {
     "data": {
      "text/html": [
       " View project at <a href='https://wandb.ai/ritishtest1/face-mask-detection-vr-mini-project-1' target=\"_blank\">https://wandb.ai/ritishtest1/face-mask-detection-vr-mini-project-1</a>"
      ],
      "text/plain": [
       "<IPython.core.display.HTML object>"
      ]
     },
     "metadata": {},
     "output_type": "display_data"
    },
    {
     "data": {
      "text/html": [
       " View sweep at <a href='https://wandb.ai/ritishtest1/face-mask-detection-vr-mini-project-1/sweeps/uo9mdr7h' target=\"_blank\">https://wandb.ai/ritishtest1/face-mask-detection-vr-mini-project-1/sweeps/uo9mdr7h</a>"
      ],
      "text/plain": [
       "<IPython.core.display.HTML object>"
      ]
     },
     "metadata": {},
     "output_type": "display_data"
    },
    {
     "data": {
      "text/html": [
       " View run at <a href='https://wandb.ai/ritishtest1/face-mask-detection-vr-mini-project-1/runs/zhhduoiz' target=\"_blank\">https://wandb.ai/ritishtest1/face-mask-detection-vr-mini-project-1/runs/zhhduoiz</a>"
      ],
      "text/plain": [
       "<IPython.core.display.HTML object>"
      ]
     },
     "metadata": {},
     "output_type": "display_data"
    },
    {
     "name": "stderr",
     "output_type": "stream",
     "text": [
      "libpng warning: iCCP: known incorrect sRGB profile\n",
      "libpng warning: iCCP: known incorrect sRGB profile\n"
     ]
    },
    {
     "name": "stdout",
     "output_type": "stream",
     "text": [
      "Epoch 1/10, Train Loss: 0.4382, Train Acc: 0.8309, Val Loss: 0.3331, Val Acc: 0.8864\n"
     ]
    },
    {
     "name": "stderr",
     "output_type": "stream",
     "text": [
      "libpng warning: iCCP: known incorrect sRGB profile\n",
      "libpng warning: iCCP: known incorrect sRGB profile\n"
     ]
    },
    {
     "name": "stdout",
     "output_type": "stream",
     "text": [
      "Epoch 2/10, Train Loss: 0.3410, Train Acc: 0.8761, Val Loss: 0.3584, Val Acc: 0.8425\n"
     ]
    },
    {
     "name": "stderr",
     "output_type": "stream",
     "text": [
      "libpng warning: iCCP: known incorrect sRGB profile\n",
      "libpng warning: iCCP: known incorrect sRGB profile\n"
     ]
    },
    {
     "name": "stdout",
     "output_type": "stream",
     "text": [
      "Epoch 3/10, Train Loss: 0.3084, Train Acc: 0.8825, Val Loss: 0.2708, Val Acc: 0.9035\n"
     ]
    },
    {
     "name": "stderr",
     "output_type": "stream",
     "text": [
      "libpng warning: iCCP: known incorrect sRGB profile\n",
      "libpng warning: iCCP: known incorrect sRGB profile\n"
     ]
    },
    {
     "name": "stdout",
     "output_type": "stream",
     "text": [
      "Epoch 4/10, Train Loss: 0.2835, Train Acc: 0.9066, Val Loss: 0.2156, Val Acc: 0.9182\n"
     ]
    },
    {
     "name": "stderr",
     "output_type": "stream",
     "text": [
      "libpng warning: iCCP: known incorrect sRGB profile\n",
      "libpng warning: iCCP: known incorrect sRGB profile\n"
     ]
    },
    {
     "name": "stdout",
     "output_type": "stream",
     "text": [
      "Epoch 5/10, Train Loss: 0.2538, Train Acc: 0.9066, Val Loss: 0.2149, Val Acc: 0.9145\n"
     ]
    },
    {
     "name": "stderr",
     "output_type": "stream",
     "text": [
      "libpng warning: iCCP: known incorrect sRGB profile\n",
      "libpng warning: iCCP: known incorrect sRGB profile\n"
     ]
    },
    {
     "name": "stdout",
     "output_type": "stream",
     "text": [
      "Epoch 6/10, Train Loss: 0.2612, Train Acc: 0.9084, Val Loss: 0.2160, Val Acc: 0.9292\n"
     ]
    },
    {
     "name": "stderr",
     "output_type": "stream",
     "text": [
      "libpng warning: iCCP: known incorrect sRGB profile\n",
      "libpng warning: iCCP: known incorrect sRGB profile\n"
     ]
    },
    {
     "name": "stdout",
     "output_type": "stream",
     "text": [
      "Epoch 7/10, Train Loss: 0.2573, Train Acc: 0.9072, Val Loss: 0.1625, Val Acc: 0.9402\n"
     ]
    },
    {
     "name": "stderr",
     "output_type": "stream",
     "text": [
      "libpng warning: iCCP: known incorrect sRGB profile\n",
      "libpng warning: iCCP: known incorrect sRGB profile\n"
     ]
    },
    {
     "name": "stdout",
     "output_type": "stream",
     "text": [
      "Epoch 8/10, Train Loss: 0.2430, Train Acc: 0.9176, Val Loss: 0.2380, Val Acc: 0.9072\n"
     ]
    },
    {
     "name": "stderr",
     "output_type": "stream",
     "text": [
      "libpng warning: iCCP: known incorrect sRGB profile\n",
      "libpng warning: iCCP: known incorrect sRGB profile\n"
     ]
    },
    {
     "name": "stdout",
     "output_type": "stream",
     "text": [
      "Epoch 9/10, Train Loss: 0.2339, Train Acc: 0.9164, Val Loss: 0.1542, Val Acc: 0.9316\n"
     ]
    },
    {
     "name": "stderr",
     "output_type": "stream",
     "text": [
      "libpng warning: iCCP: known incorrect sRGB profile\n",
      "libpng warning: iCCP: known incorrect sRGB profile\n"
     ]
    },
    {
     "name": "stdout",
     "output_type": "stream",
     "text": [
      "Epoch 10/10, Train Loss: 0.2345, Train Acc: 0.9212, Val Loss: 0.2031, Val Acc: 0.9194\n"
     ]
    },
    {
     "data": {
      "text/html": [],
      "text/plain": [
       "<IPython.core.display.HTML object>"
      ]
     },
     "metadata": {},
     "output_type": "display_data"
    },
    {
     "data": {
      "text/html": [
       "<br>    <style><br>        .wandb-row {<br>            display: flex;<br>            flex-direction: row;<br>            flex-wrap: wrap;<br>            justify-content: flex-start;<br>            width: 100%;<br>        }<br>        .wandb-col {<br>            display: flex;<br>            flex-direction: column;<br>            flex-basis: 100%;<br>            flex: 1;<br>            padding: 10px;<br>        }<br>    </style><br><div class=\"wandb-row\"><div class=\"wandb-col\"><h3>Run history:</h3><br/><table class=\"wandb\"><tr><td>epoch</td><td>▁▂▃▃▄▅▆▆▇█</td></tr><tr><td>train_accuracy</td><td>▁▅▅▇▇▇▇███</td></tr><tr><td>train_loss</td><td>█▅▄▃▂▂▂▁▁▁</td></tr><tr><td>val_accuracy</td><td>▄▁▅▆▆▇█▆▇▇</td></tr><tr><td>val_loss</td><td>▇█▅▃▃▃▁▄▁▃</td></tr></table><br/></div><div class=\"wandb-col\"><h3>Run summary:</h3><br/><table class=\"wandb\"><tr><td>epoch</td><td>9</td></tr><tr><td>train_accuracy</td><td>0.92125</td></tr><tr><td>train_loss</td><td>0.23452</td></tr><tr><td>val_accuracy</td><td>0.91941</td></tr><tr><td>val_loss</td><td>0.20315</td></tr></table><br/></div></div>"
      ],
      "text/plain": [
       "<IPython.core.display.HTML object>"
      ]
     },
     "metadata": {},
     "output_type": "display_data"
    },
    {
     "data": {
      "text/html": [
       " View run <strong style=\"color:#cdcd00\">generous-sweep-3</strong> at: <a href='https://wandb.ai/ritishtest1/face-mask-detection-vr-mini-project-1/runs/zhhduoiz' target=\"_blank\">https://wandb.ai/ritishtest1/face-mask-detection-vr-mini-project-1/runs/zhhduoiz</a><br> View project at: <a href='https://wandb.ai/ritishtest1/face-mask-detection-vr-mini-project-1' target=\"_blank\">https://wandb.ai/ritishtest1/face-mask-detection-vr-mini-project-1</a><br>Synced 5 W&B file(s), 0 media file(s), 0 artifact file(s) and 0 other file(s)"
      ],
      "text/plain": [
       "<IPython.core.display.HTML object>"
      ]
     },
     "metadata": {},
     "output_type": "display_data"
    },
    {
     "data": {
      "text/html": [
       "Find logs at: <code>./wandb/run-20250306_194847-zhhduoiz/logs</code>"
      ],
      "text/plain": [
       "<IPython.core.display.HTML object>"
      ]
     },
     "metadata": {},
     "output_type": "display_data"
    },
    {
     "name": "stderr",
     "output_type": "stream",
     "text": [
      "\u001b[34m\u001b[1mwandb\u001b[0m: Agent Starting Run: 2lrjwwol with config:\n",
      "\u001b[34m\u001b[1mwandb\u001b[0m: \tactivations: ['leaky_relu', 'leaky_relu', 'leaky_relu']\n",
      "\u001b[34m\u001b[1mwandb\u001b[0m: \tbatch_size: 16\n",
      "\u001b[34m\u001b[1mwandb\u001b[0m: \tconv_channels: [32, 64, 128]\n",
      "\u001b[34m\u001b[1mwandb\u001b[0m: \tdropout_rates: [0.3]\n",
      "\u001b[34m\u001b[1mwandb\u001b[0m: \tfc_sizes: [128, 64]\n",
      "\u001b[34m\u001b[1mwandb\u001b[0m: \tlearning_rate: 0.0026404616736181987\n",
      "\u001b[34m\u001b[1mwandb\u001b[0m: \toptimizer: adamw\n",
      "\u001b[34m\u001b[1mwandb\u001b[0m: \tuse_batch_norm: True\n"
     ]
    },
    {
     "data": {
      "text/html": [
       "Tracking run with wandb version 0.19.8"
      ],
      "text/plain": [
       "<IPython.core.display.HTML object>"
      ]
     },
     "metadata": {},
     "output_type": "display_data"
    },
    {
     "data": {
      "text/html": [
       "Run data is saved locally in <code>/home/ritish/prog/college/VR/mini_project_1/wandb/run-20250306_195013-2lrjwwol</code>"
      ],
      "text/plain": [
       "<IPython.core.display.HTML object>"
      ]
     },
     "metadata": {},
     "output_type": "display_data"
    },
    {
     "data": {
      "text/html": [
       "Syncing run <strong><a href='https://wandb.ai/ritishtest1/face-mask-detection-vr-mini-project-1/runs/2lrjwwol' target=\"_blank\">youthful-sweep-4</a></strong> to <a href='https://wandb.ai/ritishtest1/face-mask-detection-vr-mini-project-1' target=\"_blank\">Weights & Biases</a> (<a href='https://wandb.me/developer-guide' target=\"_blank\">docs</a>)<br>Sweep page: <a href='https://wandb.ai/ritishtest1/face-mask-detection-vr-mini-project-1/sweeps/uo9mdr7h' target=\"_blank\">https://wandb.ai/ritishtest1/face-mask-detection-vr-mini-project-1/sweeps/uo9mdr7h</a>"
      ],
      "text/plain": [
       "<IPython.core.display.HTML object>"
      ]
     },
     "metadata": {},
     "output_type": "display_data"
    },
    {
     "data": {
      "text/html": [
       " View project at <a href='https://wandb.ai/ritishtest1/face-mask-detection-vr-mini-project-1' target=\"_blank\">https://wandb.ai/ritishtest1/face-mask-detection-vr-mini-project-1</a>"
      ],
      "text/plain": [
       "<IPython.core.display.HTML object>"
      ]
     },
     "metadata": {},
     "output_type": "display_data"
    },
    {
     "data": {
      "text/html": [
       " View sweep at <a href='https://wandb.ai/ritishtest1/face-mask-detection-vr-mini-project-1/sweeps/uo9mdr7h' target=\"_blank\">https://wandb.ai/ritishtest1/face-mask-detection-vr-mini-project-1/sweeps/uo9mdr7h</a>"
      ],
      "text/plain": [
       "<IPython.core.display.HTML object>"
      ]
     },
     "metadata": {},
     "output_type": "display_data"
    },
    {
     "data": {
      "text/html": [
       " View run at <a href='https://wandb.ai/ritishtest1/face-mask-detection-vr-mini-project-1/runs/2lrjwwol' target=\"_blank\">https://wandb.ai/ritishtest1/face-mask-detection-vr-mini-project-1/runs/2lrjwwol</a>"
      ],
      "text/plain": [
       "<IPython.core.display.HTML object>"
      ]
     },
     "metadata": {},
     "output_type": "display_data"
    },
    {
     "name": "stderr",
     "output_type": "stream",
     "text": [
      "libpng warning: iCCP: known incorrect sRGB profile\n",
      "libpng warning: iCCP: known incorrect sRGB profile\n"
     ]
    },
    {
     "name": "stdout",
     "output_type": "stream",
     "text": [
      "Epoch 1/10, Train Loss: 0.3580, Train Acc: 0.8611, Val Loss: 0.2910, Val Acc: 0.8950\n"
     ]
    },
    {
     "name": "stderr",
     "output_type": "stream",
     "text": [
      "libpng warning: iCCP: known incorrect sRGB profile\n",
      "libpng warning: iCCP: known incorrect sRGB profile\n"
     ]
    },
    {
     "name": "stdout",
     "output_type": "stream",
     "text": [
      "Epoch 2/10, Train Loss: 0.2863, Train Acc: 0.8971, Val Loss: 0.2019, Val Acc: 0.9243\n"
     ]
    },
    {
     "name": "stderr",
     "output_type": "stream",
     "text": [
      "libpng warning: iCCP: known incorrect sRGB profile\n",
      "libpng warning: iCCP: known incorrect sRGB profile\n"
     ]
    },
    {
     "name": "stdout",
     "output_type": "stream",
     "text": [
      "Epoch 3/10, Train Loss: 0.2466, Train Acc: 0.9060, Val Loss: 0.1592, Val Acc: 0.9426\n"
     ]
    },
    {
     "name": "stderr",
     "output_type": "stream",
     "text": [
      "libpng warning: iCCP: known incorrect sRGB profile\n",
      "libpng warning: iCCP: known incorrect sRGB profile\n"
     ]
    },
    {
     "name": "stdout",
     "output_type": "stream",
     "text": [
      "Epoch 4/10, Train Loss: 0.2362, Train Acc: 0.9118, Val Loss: 0.1589, Val Acc: 0.9426\n"
     ]
    },
    {
     "name": "stderr",
     "output_type": "stream",
     "text": [
      "libpng warning: iCCP: known incorrect sRGB profile\n",
      "libpng warning: iCCP: known incorrect sRGB profile\n"
     ]
    },
    {
     "name": "stdout",
     "output_type": "stream",
     "text": [
      "Epoch 5/10, Train Loss: 0.2208, Train Acc: 0.9185, Val Loss: 0.1955, Val Acc: 0.9133\n"
     ]
    },
    {
     "name": "stderr",
     "output_type": "stream",
     "text": [
      "libpng warning: iCCP: known incorrect sRGB profile\n",
      "libpng warning: iCCP: known incorrect sRGB profile\n"
     ]
    },
    {
     "name": "stdout",
     "output_type": "stream",
     "text": [
      "Epoch 6/10, Train Loss: 0.2210, Train Acc: 0.9212, Val Loss: 0.1362, Val Acc: 0.9499\n"
     ]
    },
    {
     "name": "stderr",
     "output_type": "stream",
     "text": [
      "libpng warning: iCCP: known incorrect sRGB profile\n",
      "libpng warning: iCCP: known incorrect sRGB profile\n"
     ]
    },
    {
     "name": "stdout",
     "output_type": "stream",
     "text": [
      "Epoch 7/10, Train Loss: 0.1986, Train Acc: 0.9203, Val Loss: 0.2041, Val Acc: 0.9341\n"
     ]
    },
    {
     "name": "stderr",
     "output_type": "stream",
     "text": [
      "libpng warning: iCCP: known incorrect sRGB profile\n",
      "libpng warning: iCCP: known incorrect sRGB profile\n"
     ]
    },
    {
     "name": "stdout",
     "output_type": "stream",
     "text": [
      "Epoch 8/10, Train Loss: 0.1839, Train Acc: 0.9374, Val Loss: 0.1411, Val Acc: 0.9426\n"
     ]
    },
    {
     "name": "stderr",
     "output_type": "stream",
     "text": [
      "libpng warning: iCCP: known incorrect sRGB profile\n",
      "libpng warning: iCCP: known incorrect sRGB profile\n"
     ]
    },
    {
     "name": "stdout",
     "output_type": "stream",
     "text": [
      "Epoch 9/10, Train Loss: 0.1700, Train Acc: 0.9396, Val Loss: 0.1487, Val Acc: 0.9463\n"
     ]
    },
    {
     "name": "stderr",
     "output_type": "stream",
     "text": [
      "libpng warning: iCCP: known incorrect sRGB profile\n",
      "libpng warning: iCCP: known incorrect sRGB profile\n"
     ]
    },
    {
     "name": "stdout",
     "output_type": "stream",
     "text": [
      "Epoch 10/10, Train Loss: 0.1740, Train Acc: 0.9371, Val Loss: 0.1540, Val Acc: 0.9438\n"
     ]
    },
    {
     "data": {
      "text/html": [],
      "text/plain": [
       "<IPython.core.display.HTML object>"
      ]
     },
     "metadata": {},
     "output_type": "display_data"
    },
    {
     "data": {
      "text/html": [
       "<br>    <style><br>        .wandb-row {<br>            display: flex;<br>            flex-direction: row;<br>            flex-wrap: wrap;<br>            justify-content: flex-start;<br>            width: 100%;<br>        }<br>        .wandb-col {<br>            display: flex;<br>            flex-direction: column;<br>            flex-basis: 100%;<br>            flex: 1;<br>            padding: 10px;<br>        }<br>    </style><br><div class=\"wandb-row\"><div class=\"wandb-col\"><h3>Run history:</h3><br/><table class=\"wandb\"><tr><td>epoch</td><td>▁▂▃▃▄▅▆▆▇█</td></tr><tr><td>train_accuracy</td><td>▁▄▅▆▆▆▆███</td></tr><tr><td>train_loss</td><td>█▅▄▃▃▃▂▂▁▁</td></tr><tr><td>val_accuracy</td><td>▁▅▇▇▃█▆▇█▇</td></tr><tr><td>val_loss</td><td>█▄▂▂▄▁▄▁▂▂</td></tr></table><br/></div><div class=\"wandb-col\"><h3>Run summary:</h3><br/><table class=\"wandb\"><tr><td>epoch</td><td>9</td></tr><tr><td>train_accuracy</td><td>0.93712</td></tr><tr><td>train_loss</td><td>0.17402</td></tr><tr><td>val_accuracy</td><td>0.94383</td></tr><tr><td>val_loss</td><td>0.15399</td></tr></table><br/></div></div>"
      ],
      "text/plain": [
       "<IPython.core.display.HTML object>"
      ]
     },
     "metadata": {},
     "output_type": "display_data"
    },
    {
     "data": {
      "text/html": [
       " View run <strong style=\"color:#cdcd00\">youthful-sweep-4</strong> at: <a href='https://wandb.ai/ritishtest1/face-mask-detection-vr-mini-project-1/runs/2lrjwwol' target=\"_blank\">https://wandb.ai/ritishtest1/face-mask-detection-vr-mini-project-1/runs/2lrjwwol</a><br> View project at: <a href='https://wandb.ai/ritishtest1/face-mask-detection-vr-mini-project-1' target=\"_blank\">https://wandb.ai/ritishtest1/face-mask-detection-vr-mini-project-1</a><br>Synced 5 W&B file(s), 0 media file(s), 0 artifact file(s) and 0 other file(s)"
      ],
      "text/plain": [
       "<IPython.core.display.HTML object>"
      ]
     },
     "metadata": {},
     "output_type": "display_data"
    },
    {
     "data": {
      "text/html": [
       "Find logs at: <code>./wandb/run-20250306_195013-2lrjwwol/logs</code>"
      ],
      "text/plain": [
       "<IPython.core.display.HTML object>"
      ]
     },
     "metadata": {},
     "output_type": "display_data"
    },
    {
     "name": "stderr",
     "output_type": "stream",
     "text": [
      "\u001b[34m\u001b[1mwandb\u001b[0m: Agent Starting Run: 04i9d71u with config:\n",
      "\u001b[34m\u001b[1mwandb\u001b[0m: \tactivations: ['relu', 'relu', 'relu']\n",
      "\u001b[34m\u001b[1mwandb\u001b[0m: \tbatch_size: 32\n",
      "\u001b[34m\u001b[1mwandb\u001b[0m: \tconv_channels: [16, 32, 64]\n",
      "\u001b[34m\u001b[1mwandb\u001b[0m: \tdropout_rates: [0]\n",
      "\u001b[34m\u001b[1mwandb\u001b[0m: \tfc_sizes: [256, 128]\n",
      "\u001b[34m\u001b[1mwandb\u001b[0m: \tlearning_rate: 0.006549785684219953\n",
      "\u001b[34m\u001b[1mwandb\u001b[0m: \toptimizer: adam\n",
      "\u001b[34m\u001b[1mwandb\u001b[0m: \tuse_batch_norm: False\n"
     ]
    },
    {
     "data": {
      "text/html": [
       "Tracking run with wandb version 0.19.8"
      ],
      "text/plain": [
       "<IPython.core.display.HTML object>"
      ]
     },
     "metadata": {},
     "output_type": "display_data"
    },
    {
     "data": {
      "text/html": [
       "Run data is saved locally in <code>/home/ritish/prog/college/VR/mini_project_1/wandb/run-20250306_195149-04i9d71u</code>"
      ],
      "text/plain": [
       "<IPython.core.display.HTML object>"
      ]
     },
     "metadata": {},
     "output_type": "display_data"
    },
    {
     "data": {
      "text/html": [
       "Syncing run <strong><a href='https://wandb.ai/ritishtest1/face-mask-detection-vr-mini-project-1/runs/04i9d71u' target=\"_blank\">earthy-sweep-5</a></strong> to <a href='https://wandb.ai/ritishtest1/face-mask-detection-vr-mini-project-1' target=\"_blank\">Weights & Biases</a> (<a href='https://wandb.me/developer-guide' target=\"_blank\">docs</a>)<br>Sweep page: <a href='https://wandb.ai/ritishtest1/face-mask-detection-vr-mini-project-1/sweeps/uo9mdr7h' target=\"_blank\">https://wandb.ai/ritishtest1/face-mask-detection-vr-mini-project-1/sweeps/uo9mdr7h</a>"
      ],
      "text/plain": [
       "<IPython.core.display.HTML object>"
      ]
     },
     "metadata": {},
     "output_type": "display_data"
    },
    {
     "data": {
      "text/html": [
       " View project at <a href='https://wandb.ai/ritishtest1/face-mask-detection-vr-mini-project-1' target=\"_blank\">https://wandb.ai/ritishtest1/face-mask-detection-vr-mini-project-1</a>"
      ],
      "text/plain": [
       "<IPython.core.display.HTML object>"
      ]
     },
     "metadata": {},
     "output_type": "display_data"
    },
    {
     "data": {
      "text/html": [
       " View sweep at <a href='https://wandb.ai/ritishtest1/face-mask-detection-vr-mini-project-1/sweeps/uo9mdr7h' target=\"_blank\">https://wandb.ai/ritishtest1/face-mask-detection-vr-mini-project-1/sweeps/uo9mdr7h</a>"
      ],
      "text/plain": [
       "<IPython.core.display.HTML object>"
      ]
     },
     "metadata": {},
     "output_type": "display_data"
    },
    {
     "data": {
      "text/html": [
       " View run at <a href='https://wandb.ai/ritishtest1/face-mask-detection-vr-mini-project-1/runs/04i9d71u' target=\"_blank\">https://wandb.ai/ritishtest1/face-mask-detection-vr-mini-project-1/runs/04i9d71u</a>"
      ],
      "text/plain": [
       "<IPython.core.display.HTML object>"
      ]
     },
     "metadata": {},
     "output_type": "display_data"
    },
    {
     "name": "stderr",
     "output_type": "stream",
     "text": [
      "libpng warning: iCCP: known incorrect sRGB profile\n",
      "libpng warning: iCCP: known incorrect sRGB profile\n"
     ]
    },
    {
     "name": "stdout",
     "output_type": "stream",
     "text": [
      "Epoch 1/10, Train Loss: 0.4844, Train Acc: 0.7790, Val Loss: 0.3292, Val Acc: 0.8864\n"
     ]
    },
    {
     "name": "stderr",
     "output_type": "stream",
     "text": [
      "libpng warning: iCCP: known incorrect sRGB profile\n",
      "libpng warning: iCCP: known incorrect sRGB profile\n"
     ]
    },
    {
     "name": "stdout",
     "output_type": "stream",
     "text": [
      "Epoch 2/10, Train Loss: 0.3371, Train Acc: 0.8730, Val Loss: 0.3122, Val Acc: 0.8974\n"
     ]
    },
    {
     "name": "stderr",
     "output_type": "stream",
     "text": [
      "libpng warning: iCCP: known incorrect sRGB profile\n",
      "libpng warning: iCCP: known incorrect sRGB profile\n"
     ]
    },
    {
     "name": "stdout",
     "output_type": "stream",
     "text": [
      "Epoch 3/10, Train Loss: 0.3066, Train Acc: 0.8834, Val Loss: 0.3045, Val Acc: 0.8999\n"
     ]
    },
    {
     "name": "stderr",
     "output_type": "stream",
     "text": [
      "libpng warning: iCCP: known incorrect sRGB profile\n",
      "libpng warning: iCCP: known incorrect sRGB profile\n"
     ]
    },
    {
     "name": "stdout",
     "output_type": "stream",
     "text": [
      "Epoch 4/10, Train Loss: 0.2983, Train Acc: 0.8871, Val Loss: 0.2556, Val Acc: 0.9023\n"
     ]
    },
    {
     "name": "stderr",
     "output_type": "stream",
     "text": [
      "libpng warning: iCCP: known incorrect sRGB profile\n",
      "libpng warning: iCCP: known incorrect sRGB profile\n"
     ]
    },
    {
     "name": "stdout",
     "output_type": "stream",
     "text": [
      "Epoch 5/10, Train Loss: 0.3029, Train Acc: 0.8868, Val Loss: 0.2713, Val Acc: 0.8877\n"
     ]
    },
    {
     "name": "stderr",
     "output_type": "stream",
     "text": [
      "libpng warning: iCCP: known incorrect sRGB profile\n",
      "libpng warning: iCCP: known incorrect sRGB profile\n"
     ]
    },
    {
     "name": "stdout",
     "output_type": "stream",
     "text": [
      "Epoch 6/10, Train Loss: 0.2457, Train Acc: 0.9106, Val Loss: 0.2404, Val Acc: 0.9072\n"
     ]
    },
    {
     "name": "stderr",
     "output_type": "stream",
     "text": [
      "libpng warning: iCCP: known incorrect sRGB profile\n",
      "libpng warning: iCCP: known incorrect sRGB profile\n"
     ]
    },
    {
     "name": "stdout",
     "output_type": "stream",
     "text": [
      "Epoch 7/10, Train Loss: 0.2279, Train Acc: 0.9109, Val Loss: 0.2181, Val Acc: 0.9182\n"
     ]
    },
    {
     "name": "stderr",
     "output_type": "stream",
     "text": [
      "libpng warning: iCCP: known incorrect sRGB profile\n",
      "libpng warning: iCCP: known incorrect sRGB profile\n"
     ]
    },
    {
     "name": "stdout",
     "output_type": "stream",
     "text": [
      "Epoch 8/10, Train Loss: 0.2175, Train Acc: 0.9170, Val Loss: 0.2712, Val Acc: 0.9072\n"
     ]
    },
    {
     "name": "stderr",
     "output_type": "stream",
     "text": [
      "libpng warning: iCCP: known incorrect sRGB profile\n",
      "libpng warning: iCCP: known incorrect sRGB profile\n"
     ]
    },
    {
     "name": "stdout",
     "output_type": "stream",
     "text": [
      "Epoch 9/10, Train Loss: 0.2274, Train Acc: 0.9118, Val Loss: 0.2514, Val Acc: 0.8926\n"
     ]
    },
    {
     "name": "stderr",
     "output_type": "stream",
     "text": [
      "libpng warning: iCCP: known incorrect sRGB profile\n",
      "libpng warning: iCCP: known incorrect sRGB profile\n"
     ]
    },
    {
     "name": "stdout",
     "output_type": "stream",
     "text": [
      "Epoch 10/10, Train Loss: 0.2227, Train Acc: 0.9158, Val Loss: 0.1977, Val Acc: 0.9231\n"
     ]
    },
    {
     "data": {
      "text/html": [],
      "text/plain": [
       "<IPython.core.display.HTML object>"
      ]
     },
     "metadata": {},
     "output_type": "display_data"
    },
    {
     "data": {
      "text/html": [
       "<br>    <style><br>        .wandb-row {<br>            display: flex;<br>            flex-direction: row;<br>            flex-wrap: wrap;<br>            justify-content: flex-start;<br>            width: 100%;<br>        }<br>        .wandb-col {<br>            display: flex;<br>            flex-direction: column;<br>            flex-basis: 100%;<br>            flex: 1;<br>            padding: 10px;<br>        }<br>    </style><br><div class=\"wandb-row\"><div class=\"wandb-col\"><h3>Run history:</h3><br/><table class=\"wandb\"><tr><td>epoch</td><td>▁▂▃▃▄▅▆▆▇█</td></tr><tr><td>train_accuracy</td><td>▁▆▆▆▆█████</td></tr><tr><td>train_loss</td><td>█▄▃▃▃▂▁▁▁▁</td></tr><tr><td>val_accuracy</td><td>▁▃▄▄▁▅▇▅▂█</td></tr><tr><td>val_loss</td><td>█▇▇▄▅▃▂▅▄▁</td></tr></table><br/></div><div class=\"wandb-col\"><h3>Run summary:</h3><br/><table class=\"wandb\"><tr><td>epoch</td><td>9</td></tr><tr><td>train_accuracy</td><td>0.91575</td></tr><tr><td>train_loss</td><td>0.22274</td></tr><tr><td>val_accuracy</td><td>0.92308</td></tr><tr><td>val_loss</td><td>0.19769</td></tr></table><br/></div></div>"
      ],
      "text/plain": [
       "<IPython.core.display.HTML object>"
      ]
     },
     "metadata": {},
     "output_type": "display_data"
    },
    {
     "data": {
      "text/html": [
       " View run <strong style=\"color:#cdcd00\">earthy-sweep-5</strong> at: <a href='https://wandb.ai/ritishtest1/face-mask-detection-vr-mini-project-1/runs/04i9d71u' target=\"_blank\">https://wandb.ai/ritishtest1/face-mask-detection-vr-mini-project-1/runs/04i9d71u</a><br> View project at: <a href='https://wandb.ai/ritishtest1/face-mask-detection-vr-mini-project-1' target=\"_blank\">https://wandb.ai/ritishtest1/face-mask-detection-vr-mini-project-1</a><br>Synced 5 W&B file(s), 0 media file(s), 0 artifact file(s) and 0 other file(s)"
      ],
      "text/plain": [
       "<IPython.core.display.HTML object>"
      ]
     },
     "metadata": {},
     "output_type": "display_data"
    },
    {
     "data": {
      "text/html": [
       "Find logs at: <code>./wandb/run-20250306_195149-04i9d71u/logs</code>"
      ],
      "text/plain": [
       "<IPython.core.display.HTML object>"
      ]
     },
     "metadata": {},
     "output_type": "display_data"
    },
    {
     "name": "stderr",
     "output_type": "stream",
     "text": [
      "\u001b[34m\u001b[1mwandb\u001b[0m: Agent Starting Run: wd1yuuwm with config:\n",
      "\u001b[34m\u001b[1mwandb\u001b[0m: \tactivations: ['relu', 'relu', 'relu']\n",
      "\u001b[34m\u001b[1mwandb\u001b[0m: \tbatch_size: 16\n",
      "\u001b[34m\u001b[1mwandb\u001b[0m: \tconv_channels: [16, 32, 64]\n",
      "\u001b[34m\u001b[1mwandb\u001b[0m: \tdropout_rates: [0.3]\n",
      "\u001b[34m\u001b[1mwandb\u001b[0m: \tfc_sizes: [256]\n",
      "\u001b[34m\u001b[1mwandb\u001b[0m: \tlearning_rate: 0.0023575911437658404\n",
      "\u001b[34m\u001b[1mwandb\u001b[0m: \toptimizer: adamw\n",
      "\u001b[34m\u001b[1mwandb\u001b[0m: \tuse_batch_norm: False\n"
     ]
    },
    {
     "data": {
      "text/html": [
       "Tracking run with wandb version 0.19.8"
      ],
      "text/plain": [
       "<IPython.core.display.HTML object>"
      ]
     },
     "metadata": {},
     "output_type": "display_data"
    },
    {
     "data": {
      "text/html": [
       "Run data is saved locally in <code>/home/ritish/prog/college/VR/mini_project_1/wandb/run-20250306_195320-wd1yuuwm</code>"
      ],
      "text/plain": [
       "<IPython.core.display.HTML object>"
      ]
     },
     "metadata": {},
     "output_type": "display_data"
    },
    {
     "data": {
      "text/html": [
       "Syncing run <strong><a href='https://wandb.ai/ritishtest1/face-mask-detection-vr-mini-project-1/runs/wd1yuuwm' target=\"_blank\">misunderstood-sweep-6</a></strong> to <a href='https://wandb.ai/ritishtest1/face-mask-detection-vr-mini-project-1' target=\"_blank\">Weights & Biases</a> (<a href='https://wandb.me/developer-guide' target=\"_blank\">docs</a>)<br>Sweep page: <a href='https://wandb.ai/ritishtest1/face-mask-detection-vr-mini-project-1/sweeps/uo9mdr7h' target=\"_blank\">https://wandb.ai/ritishtest1/face-mask-detection-vr-mini-project-1/sweeps/uo9mdr7h</a>"
      ],
      "text/plain": [
       "<IPython.core.display.HTML object>"
      ]
     },
     "metadata": {},
     "output_type": "display_data"
    },
    {
     "data": {
      "text/html": [
       " View project at <a href='https://wandb.ai/ritishtest1/face-mask-detection-vr-mini-project-1' target=\"_blank\">https://wandb.ai/ritishtest1/face-mask-detection-vr-mini-project-1</a>"
      ],
      "text/plain": [
       "<IPython.core.display.HTML object>"
      ]
     },
     "metadata": {},
     "output_type": "display_data"
    },
    {
     "data": {
      "text/html": [
       " View sweep at <a href='https://wandb.ai/ritishtest1/face-mask-detection-vr-mini-project-1/sweeps/uo9mdr7h' target=\"_blank\">https://wandb.ai/ritishtest1/face-mask-detection-vr-mini-project-1/sweeps/uo9mdr7h</a>"
      ],
      "text/plain": [
       "<IPython.core.display.HTML object>"
      ]
     },
     "metadata": {},
     "output_type": "display_data"
    },
    {
     "data": {
      "text/html": [
       " View run at <a href='https://wandb.ai/ritishtest1/face-mask-detection-vr-mini-project-1/runs/wd1yuuwm' target=\"_blank\">https://wandb.ai/ritishtest1/face-mask-detection-vr-mini-project-1/runs/wd1yuuwm</a>"
      ],
      "text/plain": [
       "<IPython.core.display.HTML object>"
      ]
     },
     "metadata": {},
     "output_type": "display_data"
    },
    {
     "name": "stderr",
     "output_type": "stream",
     "text": [
      "libpng warning: iCCP: known incorrect sRGB profile\n",
      "libpng warning: iCCP: known incorrect sRGB profile\n"
     ]
    },
    {
     "name": "stdout",
     "output_type": "stream",
     "text": [
      "Epoch 1/10, Train Loss: 0.3533, Train Acc: 0.8565, Val Loss: 0.2599, Val Acc: 0.9084\n"
     ]
    },
    {
     "name": "stderr",
     "output_type": "stream",
     "text": [
      "libpng warning: iCCP: known incorrect sRGB profile\n",
      "libpng warning: iCCP: known incorrect sRGB profile\n"
     ]
    },
    {
     "name": "stdout",
     "output_type": "stream",
     "text": [
      "Epoch 2/10, Train Loss: 0.2316, Train Acc: 0.9170, Val Loss: 0.1794, Val Acc: 0.9304\n"
     ]
    },
    {
     "name": "stderr",
     "output_type": "stream",
     "text": [
      "libpng warning: iCCP: known incorrect sRGB profile\n",
      "libpng warning: iCCP: known incorrect sRGB profile\n"
     ]
    },
    {
     "name": "stdout",
     "output_type": "stream",
     "text": [
      "Epoch 3/10, Train Loss: 0.2193, Train Acc: 0.9200, Val Loss: 0.1955, Val Acc: 0.9341\n"
     ]
    },
    {
     "name": "stderr",
     "output_type": "stream",
     "text": [
      "libpng warning: iCCP: known incorrect sRGB profile\n",
      "libpng warning: iCCP: known incorrect sRGB profile\n"
     ]
    },
    {
     "name": "stdout",
     "output_type": "stream",
     "text": [
      "Epoch 4/10, Train Loss: 0.2127, Train Acc: 0.9249, Val Loss: 0.1737, Val Acc: 0.9316\n"
     ]
    },
    {
     "name": "stderr",
     "output_type": "stream",
     "text": [
      "libpng warning: iCCP: known incorrect sRGB profile\n",
      "libpng warning: iCCP: known incorrect sRGB profile\n"
     ]
    },
    {
     "name": "stdout",
     "output_type": "stream",
     "text": [
      "Epoch 5/10, Train Loss: 0.1882, Train Acc: 0.9301, Val Loss: 0.1449, Val Acc: 0.9438\n"
     ]
    },
    {
     "name": "stderr",
     "output_type": "stream",
     "text": [
      "libpng warning: iCCP: known incorrect sRGB profile\n",
      "libpng warning: iCCP: known incorrect sRGB profile\n"
     ]
    },
    {
     "name": "stdout",
     "output_type": "stream",
     "text": [
      "Epoch 6/10, Train Loss: 0.1866, Train Acc: 0.9301, Val Loss: 0.1952, Val Acc: 0.9231\n"
     ]
    },
    {
     "name": "stderr",
     "output_type": "stream",
     "text": [
      "libpng warning: iCCP: known incorrect sRGB profile\n",
      "libpng warning: iCCP: known incorrect sRGB profile\n"
     ]
    },
    {
     "name": "stdout",
     "output_type": "stream",
     "text": [
      "Epoch 7/10, Train Loss: 0.1744, Train Acc: 0.9393, Val Loss: 0.1089, Val Acc: 0.9560\n"
     ]
    },
    {
     "name": "stderr",
     "output_type": "stream",
     "text": [
      "libpng warning: iCCP: known incorrect sRGB profile\n",
      "libpng warning: iCCP: known incorrect sRGB profile\n"
     ]
    },
    {
     "name": "stdout",
     "output_type": "stream",
     "text": [
      "Epoch 8/10, Train Loss: 0.1550, Train Acc: 0.9444, Val Loss: 0.2904, Val Acc: 0.8803\n"
     ]
    },
    {
     "name": "stderr",
     "output_type": "stream",
     "text": [
      "libpng warning: iCCP: known incorrect sRGB profile\n",
      "libpng warning: iCCP: known incorrect sRGB profile\n"
     ]
    },
    {
     "name": "stdout",
     "output_type": "stream",
     "text": [
      "Epoch 9/10, Train Loss: 0.1699, Train Acc: 0.9402, Val Loss: 0.1572, Val Acc: 0.9451\n"
     ]
    },
    {
     "name": "stderr",
     "output_type": "stream",
     "text": [
      "libpng warning: iCCP: known incorrect sRGB profile\n",
      "libpng warning: iCCP: known incorrect sRGB profile\n"
     ]
    },
    {
     "name": "stdout",
     "output_type": "stream",
     "text": [
      "Epoch 10/10, Train Loss: 0.1457, Train Acc: 0.9490, Val Loss: 0.1862, Val Acc: 0.9182\n"
     ]
    },
    {
     "data": {
      "text/html": [],
      "text/plain": [
       "<IPython.core.display.HTML object>"
      ]
     },
     "metadata": {},
     "output_type": "display_data"
    },
    {
     "data": {
      "text/html": [
       "<br>    <style><br>        .wandb-row {<br>            display: flex;<br>            flex-direction: row;<br>            flex-wrap: wrap;<br>            justify-content: flex-start;<br>            width: 100%;<br>        }<br>        .wandb-col {<br>            display: flex;<br>            flex-direction: column;<br>            flex-basis: 100%;<br>            flex: 1;<br>            padding: 10px;<br>        }<br>    </style><br><div class=\"wandb-row\"><div class=\"wandb-col\"><h3>Run history:</h3><br/><table class=\"wandb\"><tr><td>epoch</td><td>▁▂▃▃▄▅▆▆▇█</td></tr><tr><td>train_accuracy</td><td>▁▆▆▆▇▇▇█▇█</td></tr><tr><td>train_loss</td><td>█▄▃▃▂▂▂▁▂▁</td></tr><tr><td>val_accuracy</td><td>▄▆▆▆▇▅█▁▇▅</td></tr><tr><td>val_loss</td><td>▇▄▄▃▂▄▁█▃▄</td></tr></table><br/></div><div class=\"wandb-col\"><h3>Run summary:</h3><br/><table class=\"wandb\"><tr><td>epoch</td><td>9</td></tr><tr><td>train_accuracy</td><td>0.94902</td></tr><tr><td>train_loss</td><td>0.14574</td></tr><tr><td>val_accuracy</td><td>0.91819</td></tr><tr><td>val_loss</td><td>0.18624</td></tr></table><br/></div></div>"
      ],
      "text/plain": [
       "<IPython.core.display.HTML object>"
      ]
     },
     "metadata": {},
     "output_type": "display_data"
    },
    {
     "data": {
      "text/html": [
       " View run <strong style=\"color:#cdcd00\">misunderstood-sweep-6</strong> at: <a href='https://wandb.ai/ritishtest1/face-mask-detection-vr-mini-project-1/runs/wd1yuuwm' target=\"_blank\">https://wandb.ai/ritishtest1/face-mask-detection-vr-mini-project-1/runs/wd1yuuwm</a><br> View project at: <a href='https://wandb.ai/ritishtest1/face-mask-detection-vr-mini-project-1' target=\"_blank\">https://wandb.ai/ritishtest1/face-mask-detection-vr-mini-project-1</a><br>Synced 5 W&B file(s), 0 media file(s), 0 artifact file(s) and 0 other file(s)"
      ],
      "text/plain": [
       "<IPython.core.display.HTML object>"
      ]
     },
     "metadata": {},
     "output_type": "display_data"
    },
    {
     "data": {
      "text/html": [
       "Find logs at: <code>./wandb/run-20250306_195320-wd1yuuwm/logs</code>"
      ],
      "text/plain": [
       "<IPython.core.display.HTML object>"
      ]
     },
     "metadata": {},
     "output_type": "display_data"
    },
    {
     "name": "stderr",
     "output_type": "stream",
     "text": [
      "\u001b[34m\u001b[1mwandb\u001b[0m: Agent Starting Run: gs67mx6o with config:\n",
      "\u001b[34m\u001b[1mwandb\u001b[0m: \tactivations: ['relu', 'relu', 'relu']\n",
      "\u001b[34m\u001b[1mwandb\u001b[0m: \tbatch_size: 128\n",
      "\u001b[34m\u001b[1mwandb\u001b[0m: \tconv_channels: [32, 64, 128]\n",
      "\u001b[34m\u001b[1mwandb\u001b[0m: \tdropout_rates: [0.5]\n",
      "\u001b[34m\u001b[1mwandb\u001b[0m: \tfc_sizes: [256, 128]\n",
      "\u001b[34m\u001b[1mwandb\u001b[0m: \tlearning_rate: 0.00884007052179035\n",
      "\u001b[34m\u001b[1mwandb\u001b[0m: \toptimizer: adamw\n",
      "\u001b[34m\u001b[1mwandb\u001b[0m: \tuse_batch_norm: False\n"
     ]
    },
    {
     "data": {
      "text/html": [
       "Tracking run with wandb version 0.19.8"
      ],
      "text/plain": [
       "<IPython.core.display.HTML object>"
      ]
     },
     "metadata": {},
     "output_type": "display_data"
    },
    {
     "data": {
      "text/html": [
       "Run data is saved locally in <code>/home/ritish/prog/college/VR/mini_project_1/wandb/run-20250306_195450-gs67mx6o</code>"
      ],
      "text/plain": [
       "<IPython.core.display.HTML object>"
      ]
     },
     "metadata": {},
     "output_type": "display_data"
    },
    {
     "data": {
      "text/html": [
       "Syncing run <strong><a href='https://wandb.ai/ritishtest1/face-mask-detection-vr-mini-project-1/runs/gs67mx6o' target=\"_blank\">stellar-sweep-7</a></strong> to <a href='https://wandb.ai/ritishtest1/face-mask-detection-vr-mini-project-1' target=\"_blank\">Weights & Biases</a> (<a href='https://wandb.me/developer-guide' target=\"_blank\">docs</a>)<br>Sweep page: <a href='https://wandb.ai/ritishtest1/face-mask-detection-vr-mini-project-1/sweeps/uo9mdr7h' target=\"_blank\">https://wandb.ai/ritishtest1/face-mask-detection-vr-mini-project-1/sweeps/uo9mdr7h</a>"
      ],
      "text/plain": [
       "<IPython.core.display.HTML object>"
      ]
     },
     "metadata": {},
     "output_type": "display_data"
    },
    {
     "data": {
      "text/html": [
       " View project at <a href='https://wandb.ai/ritishtest1/face-mask-detection-vr-mini-project-1' target=\"_blank\">https://wandb.ai/ritishtest1/face-mask-detection-vr-mini-project-1</a>"
      ],
      "text/plain": [
       "<IPython.core.display.HTML object>"
      ]
     },
     "metadata": {},
     "output_type": "display_data"
    },
    {
     "data": {
      "text/html": [
       " View sweep at <a href='https://wandb.ai/ritishtest1/face-mask-detection-vr-mini-project-1/sweeps/uo9mdr7h' target=\"_blank\">https://wandb.ai/ritishtest1/face-mask-detection-vr-mini-project-1/sweeps/uo9mdr7h</a>"
      ],
      "text/plain": [
       "<IPython.core.display.HTML object>"
      ]
     },
     "metadata": {},
     "output_type": "display_data"
    },
    {
     "data": {
      "text/html": [
       " View run at <a href='https://wandb.ai/ritishtest1/face-mask-detection-vr-mini-project-1/runs/gs67mx6o' target=\"_blank\">https://wandb.ai/ritishtest1/face-mask-detection-vr-mini-project-1/runs/gs67mx6o</a>"
      ],
      "text/plain": [
       "<IPython.core.display.HTML object>"
      ]
     },
     "metadata": {},
     "output_type": "display_data"
    },
    {
     "name": "stderr",
     "output_type": "stream",
     "text": [
      "libpng warning: iCCP: known incorrect sRGB profile\n",
      "libpng warning: iCCP: known incorrect sRGB profile\n"
     ]
    },
    {
     "name": "stdout",
     "output_type": "stream",
     "text": [
      "Epoch 1/10, Train Loss: 0.9137, Train Acc: 0.5082, Val Loss: 0.6935, Val Acc: 0.5055\n"
     ]
    },
    {
     "name": "stderr",
     "output_type": "stream",
     "text": [
      "libpng warning: iCCP: known incorrect sRGB profile\n",
      "libpng warning: iCCP: known incorrect sRGB profile\n"
     ]
    },
    {
     "name": "stdout",
     "output_type": "stream",
     "text": [
      "Epoch 2/10, Train Loss: 0.6918, Train Acc: 0.5357, Val Loss: 0.6943, Val Acc: 0.5055\n"
     ]
    },
    {
     "name": "stderr",
     "output_type": "stream",
     "text": [
      "libpng warning: iCCP: known incorrect sRGB profile\n",
      "libpng warning: iCCP: known incorrect sRGB profile\n"
     ]
    },
    {
     "name": "stdout",
     "output_type": "stream",
     "text": [
      "Epoch 3/10, Train Loss: 0.6911, Train Acc: 0.5345, Val Loss: 0.6945, Val Acc: 0.5055\n"
     ]
    },
    {
     "name": "stderr",
     "output_type": "stream",
     "text": [
      "libpng warning: iCCP: known incorrect sRGB profile\n",
      "libpng warning: iCCP: known incorrect sRGB profile\n"
     ]
    },
    {
     "name": "stdout",
     "output_type": "stream",
     "text": [
      "Epoch 4/10, Train Loss: 0.6903, Train Acc: 0.5345, Val Loss: 0.6947, Val Acc: 0.5055\n"
     ]
    },
    {
     "name": "stderr",
     "output_type": "stream",
     "text": [
      "libpng warning: iCCP: known incorrect sRGB profile\n",
      "libpng warning: iCCP: known incorrect sRGB profile\n"
     ]
    },
    {
     "name": "stdout",
     "output_type": "stream",
     "text": [
      "Epoch 5/10, Train Loss: 0.6921, Train Acc: 0.5345, Val Loss: 0.6936, Val Acc: 0.5055\n"
     ]
    },
    {
     "name": "stderr",
     "output_type": "stream",
     "text": [
      "libpng warning: iCCP: known incorrect sRGB profile\n",
      "libpng warning: iCCP: known incorrect sRGB profile\n"
     ]
    },
    {
     "name": "stdout",
     "output_type": "stream",
     "text": [
      "Epoch 6/10, Train Loss: 0.6908, Train Acc: 0.5345, Val Loss: 0.6947, Val Acc: 0.5055\n"
     ]
    },
    {
     "name": "stderr",
     "output_type": "stream",
     "text": [
      "libpng warning: iCCP: known incorrect sRGB profile\n",
      "libpng warning: iCCP: known incorrect sRGB profile\n"
     ]
    },
    {
     "name": "stdout",
     "output_type": "stream",
     "text": [
      "Epoch 7/10, Train Loss: 0.6909, Train Acc: 0.5345, Val Loss: 0.6946, Val Acc: 0.5055\n"
     ]
    },
    {
     "name": "stderr",
     "output_type": "stream",
     "text": [
      "libpng warning: iCCP: known incorrect sRGB profile\n",
      "libpng warning: iCCP: known incorrect sRGB profile\n"
     ]
    },
    {
     "name": "stdout",
     "output_type": "stream",
     "text": [
      "Epoch 8/10, Train Loss: 0.6909, Train Acc: 0.5345, Val Loss: 0.6939, Val Acc: 0.5055\n"
     ]
    },
    {
     "name": "stderr",
     "output_type": "stream",
     "text": [
      "libpng warning: iCCP: known incorrect sRGB profile\n",
      "libpng warning: iCCP: known incorrect sRGB profile\n"
     ]
    },
    {
     "name": "stdout",
     "output_type": "stream",
     "text": [
      "Epoch 9/10, Train Loss: 0.6909, Train Acc: 0.5345, Val Loss: 0.6947, Val Acc: 0.5055\n"
     ]
    },
    {
     "name": "stderr",
     "output_type": "stream",
     "text": [
      "libpng warning: iCCP: known incorrect sRGB profile\n",
      "libpng warning: iCCP: known incorrect sRGB profile\n"
     ]
    },
    {
     "name": "stdout",
     "output_type": "stream",
     "text": [
      "Epoch 10/10, Train Loss: 0.6908, Train Acc: 0.5345, Val Loss: 0.6945, Val Acc: 0.5055\n"
     ]
    },
    {
     "data": {
      "text/html": [],
      "text/plain": [
       "<IPython.core.display.HTML object>"
      ]
     },
     "metadata": {},
     "output_type": "display_data"
    },
    {
     "data": {
      "text/html": [
       "<br>    <style><br>        .wandb-row {<br>            display: flex;<br>            flex-direction: row;<br>            flex-wrap: wrap;<br>            justify-content: flex-start;<br>            width: 100%;<br>        }<br>        .wandb-col {<br>            display: flex;<br>            flex-direction: column;<br>            flex-basis: 100%;<br>            flex: 1;<br>            padding: 10px;<br>        }<br>    </style><br><div class=\"wandb-row\"><div class=\"wandb-col\"><h3>Run history:</h3><br/><table class=\"wandb\"><tr><td>epoch</td><td>▁▂▃▃▄▅▆▆▇█</td></tr><tr><td>train_accuracy</td><td>▁█████████</td></tr><tr><td>train_loss</td><td>█▁▁▁▁▁▁▁▁▁</td></tr><tr><td>val_accuracy</td><td>▁▁▁▁▁▁▁▁▁▁</td></tr><tr><td>val_loss</td><td>▁▆▆█▂█▇▄█▇</td></tr></table><br/></div><div class=\"wandb-col\"><h3>Run summary:</h3><br/><table class=\"wandb\"><tr><td>epoch</td><td>9</td></tr><tr><td>train_accuracy</td><td>0.53449</td></tr><tr><td>train_loss</td><td>0.69085</td></tr><tr><td>val_accuracy</td><td>0.50549</td></tr><tr><td>val_loss</td><td>0.6945</td></tr></table><br/></div></div>"
      ],
      "text/plain": [
       "<IPython.core.display.HTML object>"
      ]
     },
     "metadata": {},
     "output_type": "display_data"
    },
    {
     "data": {
      "text/html": [
       " View run <strong style=\"color:#cdcd00\">stellar-sweep-7</strong> at: <a href='https://wandb.ai/ritishtest1/face-mask-detection-vr-mini-project-1/runs/gs67mx6o' target=\"_blank\">https://wandb.ai/ritishtest1/face-mask-detection-vr-mini-project-1/runs/gs67mx6o</a><br> View project at: <a href='https://wandb.ai/ritishtest1/face-mask-detection-vr-mini-project-1' target=\"_blank\">https://wandb.ai/ritishtest1/face-mask-detection-vr-mini-project-1</a><br>Synced 5 W&B file(s), 0 media file(s), 0 artifact file(s) and 0 other file(s)"
      ],
      "text/plain": [
       "<IPython.core.display.HTML object>"
      ]
     },
     "metadata": {},
     "output_type": "display_data"
    },
    {
     "data": {
      "text/html": [
       "Find logs at: <code>./wandb/run-20250306_195450-gs67mx6o/logs</code>"
      ],
      "text/plain": [
       "<IPython.core.display.HTML object>"
      ]
     },
     "metadata": {},
     "output_type": "display_data"
    },
    {
     "name": "stderr",
     "output_type": "stream",
     "text": [
      "\u001b[34m\u001b[1mwandb\u001b[0m: Agent Starting Run: yu060go5 with config:\n",
      "\u001b[34m\u001b[1mwandb\u001b[0m: \tactivations: ['leaky_relu', 'leaky_relu', 'leaky_relu']\n",
      "\u001b[34m\u001b[1mwandb\u001b[0m: \tbatch_size: 16\n",
      "\u001b[34m\u001b[1mwandb\u001b[0m: \tconv_channels: [16, 32, 64, 128]\n",
      "\u001b[34m\u001b[1mwandb\u001b[0m: \tdropout_rates: [0]\n",
      "\u001b[34m\u001b[1mwandb\u001b[0m: \tfc_sizes: [128]\n",
      "\u001b[34m\u001b[1mwandb\u001b[0m: \tlearning_rate: 0.0056988487949122205\n",
      "\u001b[34m\u001b[1mwandb\u001b[0m: \toptimizer: adam\n",
      "\u001b[34m\u001b[1mwandb\u001b[0m: \tuse_batch_norm: True\n"
     ]
    },
    {
     "data": {
      "text/html": [
       "Tracking run with wandb version 0.19.8"
      ],
      "text/plain": [
       "<IPython.core.display.HTML object>"
      ]
     },
     "metadata": {},
     "output_type": "display_data"
    },
    {
     "data": {
      "text/html": [
       "Run data is saved locally in <code>/home/ritish/prog/college/VR/mini_project_1/wandb/run-20250306_195616-yu060go5</code>"
      ],
      "text/plain": [
       "<IPython.core.display.HTML object>"
      ]
     },
     "metadata": {},
     "output_type": "display_data"
    },
    {
     "data": {
      "text/html": [
       "Syncing run <strong><a href='https://wandb.ai/ritishtest1/face-mask-detection-vr-mini-project-1/runs/yu060go5' target=\"_blank\">flowing-sweep-8</a></strong> to <a href='https://wandb.ai/ritishtest1/face-mask-detection-vr-mini-project-1' target=\"_blank\">Weights & Biases</a> (<a href='https://wandb.me/developer-guide' target=\"_blank\">docs</a>)<br>Sweep page: <a href='https://wandb.ai/ritishtest1/face-mask-detection-vr-mini-project-1/sweeps/uo9mdr7h' target=\"_blank\">https://wandb.ai/ritishtest1/face-mask-detection-vr-mini-project-1/sweeps/uo9mdr7h</a>"
      ],
      "text/plain": [
       "<IPython.core.display.HTML object>"
      ]
     },
     "metadata": {},
     "output_type": "display_data"
    },
    {
     "data": {
      "text/html": [
       " View project at <a href='https://wandb.ai/ritishtest1/face-mask-detection-vr-mini-project-1' target=\"_blank\">https://wandb.ai/ritishtest1/face-mask-detection-vr-mini-project-1</a>"
      ],
      "text/plain": [
       "<IPython.core.display.HTML object>"
      ]
     },
     "metadata": {},
     "output_type": "display_data"
    },
    {
     "data": {
      "text/html": [
       " View sweep at <a href='https://wandb.ai/ritishtest1/face-mask-detection-vr-mini-project-1/sweeps/uo9mdr7h' target=\"_blank\">https://wandb.ai/ritishtest1/face-mask-detection-vr-mini-project-1/sweeps/uo9mdr7h</a>"
      ],
      "text/plain": [
       "<IPython.core.display.HTML object>"
      ]
     },
     "metadata": {},
     "output_type": "display_data"
    },
    {
     "data": {
      "text/html": [
       " View run at <a href='https://wandb.ai/ritishtest1/face-mask-detection-vr-mini-project-1/runs/yu060go5' target=\"_blank\">https://wandb.ai/ritishtest1/face-mask-detection-vr-mini-project-1/runs/yu060go5</a>"
      ],
      "text/plain": [
       "<IPython.core.display.HTML object>"
      ]
     },
     "metadata": {},
     "output_type": "display_data"
    },
    {
     "name": "stderr",
     "output_type": "stream",
     "text": [
      "libpng warning: iCCP: known incorrect sRGB profile\n",
      "libpng warning: iCCP: known incorrect sRGB profile\n"
     ]
    },
    {
     "name": "stdout",
     "output_type": "stream",
     "text": [
      "Epoch 1/10, Train Loss: 0.4615, Train Acc: 0.8541, Val Loss: 0.2659, Val Acc: 0.8987\n"
     ]
    },
    {
     "name": "stderr",
     "output_type": "stream",
     "text": [
      "libpng warning: iCCP: known incorrect sRGB profile\n",
      "libpng warning: iCCP: known incorrect sRGB profile\n"
     ]
    },
    {
     "name": "stdout",
     "output_type": "stream",
     "text": [
      "Epoch 2/10, Train Loss: 0.2749, Train Acc: 0.8987, Val Loss: 0.2780, Val Acc: 0.8950\n"
     ]
    },
    {
     "name": "stderr",
     "output_type": "stream",
     "text": [
      "libpng warning: iCCP: known incorrect sRGB profile\n",
      "libpng warning: iCCP: known incorrect sRGB profile\n"
     ]
    },
    {
     "name": "stdout",
     "output_type": "stream",
     "text": [
      "Epoch 3/10, Train Loss: 0.2415, Train Acc: 0.9081, Val Loss: 0.2312, Val Acc: 0.9243\n"
     ]
    },
    {
     "name": "stderr",
     "output_type": "stream",
     "text": [
      "libpng warning: iCCP: known incorrect sRGB profile\n",
      "libpng warning: iCCP: known incorrect sRGB profile\n"
     ]
    },
    {
     "name": "stdout",
     "output_type": "stream",
     "text": [
      "Epoch 4/10, Train Loss: 0.2286, Train Acc: 0.9093, Val Loss: 0.1910, Val Acc: 0.9365\n"
     ]
    },
    {
     "name": "stderr",
     "output_type": "stream",
     "text": [
      "libpng warning: iCCP: known incorrect sRGB profile\n",
      "libpng warning: iCCP: known incorrect sRGB profile\n"
     ]
    },
    {
     "name": "stdout",
     "output_type": "stream",
     "text": [
      "Epoch 5/10, Train Loss: 0.2011, Train Acc: 0.9286, Val Loss: 0.1921, Val Acc: 0.9231\n"
     ]
    },
    {
     "name": "stderr",
     "output_type": "stream",
     "text": [
      "libpng warning: iCCP: known incorrect sRGB profile\n",
      "libpng warning: iCCP: known incorrect sRGB profile\n"
     ]
    },
    {
     "name": "stdout",
     "output_type": "stream",
     "text": [
      "Epoch 6/10, Train Loss: 0.1921, Train Acc: 0.9258, Val Loss: 0.2217, Val Acc: 0.9280\n"
     ]
    },
    {
     "name": "stderr",
     "output_type": "stream",
     "text": [
      "libpng warning: iCCP: known incorrect sRGB profile\n",
      "libpng warning: iCCP: known incorrect sRGB profile\n"
     ]
    },
    {
     "name": "stdout",
     "output_type": "stream",
     "text": [
      "Epoch 7/10, Train Loss: 0.1826, Train Acc: 0.9325, Val Loss: 0.1398, Val Acc: 0.9512\n"
     ]
    },
    {
     "name": "stderr",
     "output_type": "stream",
     "text": [
      "libpng warning: iCCP: known incorrect sRGB profile\n",
      "libpng warning: iCCP: known incorrect sRGB profile\n"
     ]
    },
    {
     "name": "stdout",
     "output_type": "stream",
     "text": [
      "Epoch 8/10, Train Loss: 0.1588, Train Acc: 0.9423, Val Loss: 0.1558, Val Acc: 0.9512\n"
     ]
    },
    {
     "name": "stderr",
     "output_type": "stream",
     "text": [
      "libpng warning: iCCP: known incorrect sRGB profile\n",
      "libpng warning: iCCP: known incorrect sRGB profile\n"
     ]
    },
    {
     "name": "stdout",
     "output_type": "stream",
     "text": [
      "Epoch 9/10, Train Loss: 0.1434, Train Acc: 0.9466, Val Loss: 0.1390, Val Acc: 0.9524\n"
     ]
    },
    {
     "name": "stderr",
     "output_type": "stream",
     "text": [
      "libpng warning: iCCP: known incorrect sRGB profile\n",
      "libpng warning: iCCP: known incorrect sRGB profile\n"
     ]
    },
    {
     "name": "stdout",
     "output_type": "stream",
     "text": [
      "Epoch 10/10, Train Loss: 0.1437, Train Acc: 0.9457, Val Loss: 0.1599, Val Acc: 0.9475\n"
     ]
    },
    {
     "data": {
      "text/html": [],
      "text/plain": [
       "<IPython.core.display.HTML object>"
      ]
     },
     "metadata": {},
     "output_type": "display_data"
    },
    {
     "data": {
      "text/html": [
       "<br>    <style><br>        .wandb-row {<br>            display: flex;<br>            flex-direction: row;<br>            flex-wrap: wrap;<br>            justify-content: flex-start;<br>            width: 100%;<br>        }<br>        .wandb-col {<br>            display: flex;<br>            flex-direction: column;<br>            flex-basis: 100%;<br>            flex: 1;<br>            padding: 10px;<br>        }<br>    </style><br><div class=\"wandb-row\"><div class=\"wandb-col\"><h3>Run history:</h3><br/><table class=\"wandb\"><tr><td>epoch</td><td>▁▂▃▃▄▅▆▆▇█</td></tr><tr><td>train_accuracy</td><td>▁▄▅▅▇▆▇███</td></tr><tr><td>train_loss</td><td>█▄▃▃▂▂▂▁▁▁</td></tr><tr><td>val_accuracy</td><td>▁▁▅▆▄▅███▇</td></tr><tr><td>val_loss</td><td>▇█▆▄▄▅▁▂▁▂</td></tr></table><br/></div><div class=\"wandb-col\"><h3>Run summary:</h3><br/><table class=\"wandb\"><tr><td>epoch</td><td>9</td></tr><tr><td>train_accuracy</td><td>0.94567</td></tr><tr><td>train_loss</td><td>0.14372</td></tr><tr><td>val_accuracy</td><td>0.9475</td></tr><tr><td>val_loss</td><td>0.1599</td></tr></table><br/></div></div>"
      ],
      "text/plain": [
       "<IPython.core.display.HTML object>"
      ]
     },
     "metadata": {},
     "output_type": "display_data"
    },
    {
     "data": {
      "text/html": [
       " View run <strong style=\"color:#cdcd00\">flowing-sweep-8</strong> at: <a href='https://wandb.ai/ritishtest1/face-mask-detection-vr-mini-project-1/runs/yu060go5' target=\"_blank\">https://wandb.ai/ritishtest1/face-mask-detection-vr-mini-project-1/runs/yu060go5</a><br> View project at: <a href='https://wandb.ai/ritishtest1/face-mask-detection-vr-mini-project-1' target=\"_blank\">https://wandb.ai/ritishtest1/face-mask-detection-vr-mini-project-1</a><br>Synced 5 W&B file(s), 0 media file(s), 0 artifact file(s) and 0 other file(s)"
      ],
      "text/plain": [
       "<IPython.core.display.HTML object>"
      ]
     },
     "metadata": {},
     "output_type": "display_data"
    },
    {
     "data": {
      "text/html": [
       "Find logs at: <code>./wandb/run-20250306_195616-yu060go5/logs</code>"
      ],
      "text/plain": [
       "<IPython.core.display.HTML object>"
      ]
     },
     "metadata": {},
     "output_type": "display_data"
    },
    {
     "name": "stderr",
     "output_type": "stream",
     "text": [
      "\u001b[34m\u001b[1mwandb\u001b[0m: Agent Starting Run: bdk9h1w6 with config:\n",
      "\u001b[34m\u001b[1mwandb\u001b[0m: \tactivations: ['leaky_relu', 'leaky_relu', 'leaky_relu']\n",
      "\u001b[34m\u001b[1mwandb\u001b[0m: \tbatch_size: 32\n",
      "\u001b[34m\u001b[1mwandb\u001b[0m: \tconv_channels: [32, 64, 128]\n",
      "\u001b[34m\u001b[1mwandb\u001b[0m: \tdropout_rates: [0]\n",
      "\u001b[34m\u001b[1mwandb\u001b[0m: \tfc_sizes: [256]\n",
      "\u001b[34m\u001b[1mwandb\u001b[0m: \tlearning_rate: 0.004040960480563529\n",
      "\u001b[34m\u001b[1mwandb\u001b[0m: \toptimizer: adamw\n",
      "\u001b[34m\u001b[1mwandb\u001b[0m: \tuse_batch_norm: False\n"
     ]
    },
    {
     "data": {
      "text/html": [
       "Tracking run with wandb version 0.19.8"
      ],
      "text/plain": [
       "<IPython.core.display.HTML object>"
      ]
     },
     "metadata": {},
     "output_type": "display_data"
    },
    {
     "data": {
      "text/html": [
       "Run data is saved locally in <code>/home/ritish/prog/college/VR/mini_project_1/wandb/run-20250306_195746-bdk9h1w6</code>"
      ],
      "text/plain": [
       "<IPython.core.display.HTML object>"
      ]
     },
     "metadata": {},
     "output_type": "display_data"
    },
    {
     "data": {
      "text/html": [
       "Syncing run <strong><a href='https://wandb.ai/ritishtest1/face-mask-detection-vr-mini-project-1/runs/bdk9h1w6' target=\"_blank\">cerulean-sweep-9</a></strong> to <a href='https://wandb.ai/ritishtest1/face-mask-detection-vr-mini-project-1' target=\"_blank\">Weights & Biases</a> (<a href='https://wandb.me/developer-guide' target=\"_blank\">docs</a>)<br>Sweep page: <a href='https://wandb.ai/ritishtest1/face-mask-detection-vr-mini-project-1/sweeps/uo9mdr7h' target=\"_blank\">https://wandb.ai/ritishtest1/face-mask-detection-vr-mini-project-1/sweeps/uo9mdr7h</a>"
      ],
      "text/plain": [
       "<IPython.core.display.HTML object>"
      ]
     },
     "metadata": {},
     "output_type": "display_data"
    },
    {
     "data": {
      "text/html": [
       " View project at <a href='https://wandb.ai/ritishtest1/face-mask-detection-vr-mini-project-1' target=\"_blank\">https://wandb.ai/ritishtest1/face-mask-detection-vr-mini-project-1</a>"
      ],
      "text/plain": [
       "<IPython.core.display.HTML object>"
      ]
     },
     "metadata": {},
     "output_type": "display_data"
    },
    {
     "data": {
      "text/html": [
       " View sweep at <a href='https://wandb.ai/ritishtest1/face-mask-detection-vr-mini-project-1/sweeps/uo9mdr7h' target=\"_blank\">https://wandb.ai/ritishtest1/face-mask-detection-vr-mini-project-1/sweeps/uo9mdr7h</a>"
      ],
      "text/plain": [
       "<IPython.core.display.HTML object>"
      ]
     },
     "metadata": {},
     "output_type": "display_data"
    },
    {
     "data": {
      "text/html": [
       " View run at <a href='https://wandb.ai/ritishtest1/face-mask-detection-vr-mini-project-1/runs/bdk9h1w6' target=\"_blank\">https://wandb.ai/ritishtest1/face-mask-detection-vr-mini-project-1/runs/bdk9h1w6</a>"
      ],
      "text/plain": [
       "<IPython.core.display.HTML object>"
      ]
     },
     "metadata": {},
     "output_type": "display_data"
    },
    {
     "name": "stderr",
     "output_type": "stream",
     "text": [
      "libpng warning: iCCP: known incorrect sRGB profile\n",
      "libpng warning: iCCP: known incorrect sRGB profile\n"
     ]
    },
    {
     "name": "stdout",
     "output_type": "stream",
     "text": [
      "Epoch 1/10, Train Loss: 0.4403, Train Acc: 0.8327, Val Loss: 0.2263, Val Acc: 0.9121\n"
     ]
    },
    {
     "name": "stderr",
     "output_type": "stream",
     "text": [
      "libpng warning: iCCP: known incorrect sRGB profile\n",
      "libpng warning: iCCP: known incorrect sRGB profile\n"
     ]
    },
    {
     "name": "stdout",
     "output_type": "stream",
     "text": [
      "Epoch 2/10, Train Loss: 0.2629, Train Acc: 0.9045, Val Loss: 0.2926, Val Acc: 0.8938\n"
     ]
    },
    {
     "name": "stderr",
     "output_type": "stream",
     "text": [
      "libpng warning: iCCP: known incorrect sRGB profile\n",
      "libpng warning: iCCP: known incorrect sRGB profile\n"
     ]
    },
    {
     "name": "stdout",
     "output_type": "stream",
     "text": [
      "Epoch 3/10, Train Loss: 0.2165, Train Acc: 0.9182, Val Loss: 0.2206, Val Acc: 0.9280\n"
     ]
    },
    {
     "name": "stderr",
     "output_type": "stream",
     "text": [
      "libpng warning: iCCP: known incorrect sRGB profile\n",
      "libpng warning: iCCP: known incorrect sRGB profile\n"
     ]
    },
    {
     "name": "stdout",
     "output_type": "stream",
     "text": [
      "Epoch 4/10, Train Loss: 0.2156, Train Acc: 0.9179, Val Loss: 0.3841, Val Acc: 0.8596\n"
     ]
    },
    {
     "name": "stderr",
     "output_type": "stream",
     "text": [
      "libpng warning: iCCP: known incorrect sRGB profile\n",
      "libpng warning: iCCP: known incorrect sRGB profile\n"
     ]
    },
    {
     "name": "stdout",
     "output_type": "stream",
     "text": [
      "Epoch 5/10, Train Loss: 0.2055, Train Acc: 0.9203, Val Loss: 0.1858, Val Acc: 0.9243\n"
     ]
    },
    {
     "name": "stderr",
     "output_type": "stream",
     "text": [
      "libpng warning: iCCP: known incorrect sRGB profile\n",
      "libpng warning: iCCP: known incorrect sRGB profile\n"
     ]
    },
    {
     "name": "stdout",
     "output_type": "stream",
     "text": [
      "Epoch 6/10, Train Loss: 0.2288, Train Acc: 0.9121, Val Loss: 0.1688, Val Acc: 0.9414\n"
     ]
    },
    {
     "name": "stderr",
     "output_type": "stream",
     "text": [
      "libpng warning: iCCP: known incorrect sRGB profile\n",
      "libpng warning: iCCP: known incorrect sRGB profile\n"
     ]
    },
    {
     "name": "stdout",
     "output_type": "stream",
     "text": [
      "Epoch 7/10, Train Loss: 0.1739, Train Acc: 0.9313, Val Loss: 0.1342, Val Acc: 0.9463\n"
     ]
    },
    {
     "name": "stderr",
     "output_type": "stream",
     "text": [
      "libpng warning: iCCP: known incorrect sRGB profile\n",
      "libpng warning: iCCP: known incorrect sRGB profile\n"
     ]
    },
    {
     "name": "stdout",
     "output_type": "stream",
     "text": [
      "Epoch 8/10, Train Loss: 0.1778, Train Acc: 0.9350, Val Loss: 0.1847, Val Acc: 0.9304\n"
     ]
    },
    {
     "name": "stderr",
     "output_type": "stream",
     "text": [
      "libpng warning: iCCP: known incorrect sRGB profile\n",
      "libpng warning: iCCP: known incorrect sRGB profile\n"
     ]
    },
    {
     "name": "stdout",
     "output_type": "stream",
     "text": [
      "Epoch 9/10, Train Loss: 0.2362, Train Acc: 0.9154, Val Loss: 0.1535, Val Acc: 0.9414\n"
     ]
    },
    {
     "name": "stderr",
     "output_type": "stream",
     "text": [
      "libpng warning: iCCP: known incorrect sRGB profile\n",
      "libpng warning: iCCP: known incorrect sRGB profile\n"
     ]
    },
    {
     "name": "stdout",
     "output_type": "stream",
     "text": [
      "Epoch 10/10, Train Loss: 0.1674, Train Acc: 0.9393, Val Loss: 0.2719, Val Acc: 0.9060\n"
     ]
    },
    {
     "data": {
      "text/html": [],
      "text/plain": [
       "<IPython.core.display.HTML object>"
      ]
     },
     "metadata": {},
     "output_type": "display_data"
    },
    {
     "data": {
      "text/html": [
       "<br>    <style><br>        .wandb-row {<br>            display: flex;<br>            flex-direction: row;<br>            flex-wrap: wrap;<br>            justify-content: flex-start;<br>            width: 100%;<br>        }<br>        .wandb-col {<br>            display: flex;<br>            flex-direction: column;<br>            flex-basis: 100%;<br>            flex: 1;<br>            padding: 10px;<br>        }<br>    </style><br><div class=\"wandb-row\"><div class=\"wandb-col\"><h3>Run history:</h3><br/><table class=\"wandb\"><tr><td>epoch</td><td>▁▂▃▃▄▅▆▆▇█</td></tr><tr><td>train_accuracy</td><td>▁▆▇▇▇▆▇█▆█</td></tr><tr><td>train_loss</td><td>█▃▂▂▂▃▁▁▃▁</td></tr><tr><td>val_accuracy</td><td>▅▄▇▁▆██▇█▅</td></tr><tr><td>val_loss</td><td>▄▅▃█▂▂▁▂▂▅</td></tr></table><br/></div><div class=\"wandb-col\"><h3>Run summary:</h3><br/><table class=\"wandb\"><tr><td>epoch</td><td>9</td></tr><tr><td>train_accuracy</td><td>0.93926</td></tr><tr><td>train_loss</td><td>0.16735</td></tr><tr><td>val_accuracy</td><td>0.90598</td></tr><tr><td>val_loss</td><td>0.27186</td></tr></table><br/></div></div>"
      ],
      "text/plain": [
       "<IPython.core.display.HTML object>"
      ]
     },
     "metadata": {},
     "output_type": "display_data"
    },
    {
     "data": {
      "text/html": [
       " View run <strong style=\"color:#cdcd00\">cerulean-sweep-9</strong> at: <a href='https://wandb.ai/ritishtest1/face-mask-detection-vr-mini-project-1/runs/bdk9h1w6' target=\"_blank\">https://wandb.ai/ritishtest1/face-mask-detection-vr-mini-project-1/runs/bdk9h1w6</a><br> View project at: <a href='https://wandb.ai/ritishtest1/face-mask-detection-vr-mini-project-1' target=\"_blank\">https://wandb.ai/ritishtest1/face-mask-detection-vr-mini-project-1</a><br>Synced 5 W&B file(s), 0 media file(s), 0 artifact file(s) and 0 other file(s)"
      ],
      "text/plain": [
       "<IPython.core.display.HTML object>"
      ]
     },
     "metadata": {},
     "output_type": "display_data"
    },
    {
     "data": {
      "text/html": [
       "Find logs at: <code>./wandb/run-20250306_195746-bdk9h1w6/logs</code>"
      ],
      "text/plain": [
       "<IPython.core.display.HTML object>"
      ]
     },
     "metadata": {},
     "output_type": "display_data"
    },
    {
     "name": "stderr",
     "output_type": "stream",
     "text": [
      "\u001b[34m\u001b[1mwandb\u001b[0m: Agent Starting Run: zjbwu04z with config:\n",
      "\u001b[34m\u001b[1mwandb\u001b[0m: \tactivations: ['relu', 'relu', 'relu']\n",
      "\u001b[34m\u001b[1mwandb\u001b[0m: \tbatch_size: 32\n",
      "\u001b[34m\u001b[1mwandb\u001b[0m: \tconv_channels: [32, 64, 128]\n",
      "\u001b[34m\u001b[1mwandb\u001b[0m: \tdropout_rates: [0]\n",
      "\u001b[34m\u001b[1mwandb\u001b[0m: \tfc_sizes: [256]\n",
      "\u001b[34m\u001b[1mwandb\u001b[0m: \tlearning_rate: 0.004531057092431919\n",
      "\u001b[34m\u001b[1mwandb\u001b[0m: \toptimizer: adam\n",
      "\u001b[34m\u001b[1mwandb\u001b[0m: \tuse_batch_norm: False\n"
     ]
    },
    {
     "data": {
      "text/html": [
       "Tracking run with wandb version 0.19.8"
      ],
      "text/plain": [
       "<IPython.core.display.HTML object>"
      ]
     },
     "metadata": {},
     "output_type": "display_data"
    },
    {
     "data": {
      "text/html": [
       "Run data is saved locally in <code>/home/ritish/prog/college/VR/mini_project_1/wandb/run-20250306_195911-zjbwu04z</code>"
      ],
      "text/plain": [
       "<IPython.core.display.HTML object>"
      ]
     },
     "metadata": {},
     "output_type": "display_data"
    },
    {
     "data": {
      "text/html": [
       "Syncing run <strong><a href='https://wandb.ai/ritishtest1/face-mask-detection-vr-mini-project-1/runs/zjbwu04z' target=\"_blank\">radiant-sweep-10</a></strong> to <a href='https://wandb.ai/ritishtest1/face-mask-detection-vr-mini-project-1' target=\"_blank\">Weights & Biases</a> (<a href='https://wandb.me/developer-guide' target=\"_blank\">docs</a>)<br>Sweep page: <a href='https://wandb.ai/ritishtest1/face-mask-detection-vr-mini-project-1/sweeps/uo9mdr7h' target=\"_blank\">https://wandb.ai/ritishtest1/face-mask-detection-vr-mini-project-1/sweeps/uo9mdr7h</a>"
      ],
      "text/plain": [
       "<IPython.core.display.HTML object>"
      ]
     },
     "metadata": {},
     "output_type": "display_data"
    },
    {
     "data": {
      "text/html": [
       " View project at <a href='https://wandb.ai/ritishtest1/face-mask-detection-vr-mini-project-1' target=\"_blank\">https://wandb.ai/ritishtest1/face-mask-detection-vr-mini-project-1</a>"
      ],
      "text/plain": [
       "<IPython.core.display.HTML object>"
      ]
     },
     "metadata": {},
     "output_type": "display_data"
    },
    {
     "data": {
      "text/html": [
       " View sweep at <a href='https://wandb.ai/ritishtest1/face-mask-detection-vr-mini-project-1/sweeps/uo9mdr7h' target=\"_blank\">https://wandb.ai/ritishtest1/face-mask-detection-vr-mini-project-1/sweeps/uo9mdr7h</a>"
      ],
      "text/plain": [
       "<IPython.core.display.HTML object>"
      ]
     },
     "metadata": {},
     "output_type": "display_data"
    },
    {
     "data": {
      "text/html": [
       " View run at <a href='https://wandb.ai/ritishtest1/face-mask-detection-vr-mini-project-1/runs/zjbwu04z' target=\"_blank\">https://wandb.ai/ritishtest1/face-mask-detection-vr-mini-project-1/runs/zjbwu04z</a>"
      ],
      "text/plain": [
       "<IPython.core.display.HTML object>"
      ]
     },
     "metadata": {},
     "output_type": "display_data"
    },
    {
     "name": "stderr",
     "output_type": "stream",
     "text": [
      "libpng warning: iCCP: known incorrect sRGB profile\n",
      "libpng warning: iCCP: known incorrect sRGB profile\n"
     ]
    },
    {
     "name": "stdout",
     "output_type": "stream",
     "text": [
      "Epoch 1/10, Train Loss: 0.3714, Train Acc: 0.8513, Val Loss: 0.2427, Val Acc: 0.8999\n"
     ]
    },
    {
     "name": "stderr",
     "output_type": "stream",
     "text": [
      "libpng warning: iCCP: known incorrect sRGB profile\n",
      "libpng warning: iCCP: known incorrect sRGB profile\n"
     ]
    },
    {
     "name": "stdout",
     "output_type": "stream",
     "text": [
      "Epoch 2/10, Train Loss: 0.2434, Train Acc: 0.9042, Val Loss: 0.2034, Val Acc: 0.9182\n"
     ]
    },
    {
     "name": "stderr",
     "output_type": "stream",
     "text": [
      "libpng warning: iCCP: known incorrect sRGB profile\n",
      "libpng warning: iCCP: known incorrect sRGB profile\n"
     ]
    },
    {
     "name": "stdout",
     "output_type": "stream",
     "text": [
      "Epoch 3/10, Train Loss: 0.2284, Train Acc: 0.9161, Val Loss: 0.2099, Val Acc: 0.9158\n"
     ]
    },
    {
     "name": "stderr",
     "output_type": "stream",
     "text": [
      "libpng warning: iCCP: known incorrect sRGB profile\n",
      "libpng warning: iCCP: known incorrect sRGB profile\n"
     ]
    },
    {
     "name": "stdout",
     "output_type": "stream",
     "text": [
      "Epoch 4/10, Train Loss: 0.2034, Train Acc: 0.9216, Val Loss: 0.2625, Val Acc: 0.9084\n"
     ]
    },
    {
     "name": "stderr",
     "output_type": "stream",
     "text": [
      "libpng warning: iCCP: known incorrect sRGB profile\n",
      "libpng warning: iCCP: known incorrect sRGB profile\n"
     ]
    },
    {
     "name": "stdout",
     "output_type": "stream",
     "text": [
      "Epoch 5/10, Train Loss: 0.2377, Train Acc: 0.9127, Val Loss: 0.1941, Val Acc: 0.9304\n"
     ]
    },
    {
     "name": "stderr",
     "output_type": "stream",
     "text": [
      "libpng warning: iCCP: known incorrect sRGB profile\n",
      "libpng warning: iCCP: known incorrect sRGB profile\n"
     ]
    },
    {
     "name": "stdout",
     "output_type": "stream",
     "text": [
      "Epoch 6/10, Train Loss: 0.1909, Train Acc: 0.9277, Val Loss: 0.1906, Val Acc: 0.9377\n"
     ]
    },
    {
     "name": "stderr",
     "output_type": "stream",
     "text": [
      "libpng warning: iCCP: known incorrect sRGB profile\n",
      "libpng warning: iCCP: known incorrect sRGB profile\n"
     ]
    },
    {
     "name": "stdout",
     "output_type": "stream",
     "text": [
      "Epoch 7/10, Train Loss: 0.2050, Train Acc: 0.9209, Val Loss: 0.1687, Val Acc: 0.9304\n"
     ]
    },
    {
     "name": "stderr",
     "output_type": "stream",
     "text": [
      "libpng warning: iCCP: known incorrect sRGB profile\n",
      "libpng warning: iCCP: known incorrect sRGB profile\n"
     ]
    },
    {
     "name": "stdout",
     "output_type": "stream",
     "text": [
      "Epoch 8/10, Train Loss: 0.1713, Train Acc: 0.9313, Val Loss: 0.1675, Val Acc: 0.9304\n"
     ]
    },
    {
     "name": "stderr",
     "output_type": "stream",
     "text": [
      "libpng warning: iCCP: known incorrect sRGB profile\n",
      "libpng warning: iCCP: known incorrect sRGB profile\n"
     ]
    },
    {
     "name": "stdout",
     "output_type": "stream",
     "text": [
      "Epoch 9/10, Train Loss: 0.1736, Train Acc: 0.9328, Val Loss: 0.1753, Val Acc: 0.9353\n"
     ]
    },
    {
     "name": "stderr",
     "output_type": "stream",
     "text": [
      "libpng warning: iCCP: known incorrect sRGB profile\n",
      "libpng warning: iCCP: known incorrect sRGB profile\n"
     ]
    },
    {
     "name": "stdout",
     "output_type": "stream",
     "text": [
      "Epoch 10/10, Train Loss: 0.1647, Train Acc: 0.9307, Val Loss: 0.1536, Val Acc: 0.9426\n"
     ]
    },
    {
     "data": {
      "text/html": [],
      "text/plain": [
       "<IPython.core.display.HTML object>"
      ]
     },
     "metadata": {},
     "output_type": "display_data"
    },
    {
     "data": {
      "text/html": [
       "<br>    <style><br>        .wandb-row {<br>            display: flex;<br>            flex-direction: row;<br>            flex-wrap: wrap;<br>            justify-content: flex-start;<br>            width: 100%;<br>        }<br>        .wandb-col {<br>            display: flex;<br>            flex-direction: column;<br>            flex-basis: 100%;<br>            flex: 1;<br>            padding: 10px;<br>        }<br>    </style><br><div class=\"wandb-row\"><div class=\"wandb-col\"><h3>Run history:</h3><br/><table class=\"wandb\"><tr><td>epoch</td><td>▁▂▃▃▄▅▆▆▇█</td></tr><tr><td>train_accuracy</td><td>▁▆▇▇▆█▇███</td></tr><tr><td>train_loss</td><td>█▄▃▂▃▂▂▁▁▁</td></tr><tr><td>val_accuracy</td><td>▁▄▄▂▆▇▆▆▇█</td></tr><tr><td>val_loss</td><td>▇▄▅█▄▃▂▂▂▁</td></tr></table><br/></div><div class=\"wandb-col\"><h3>Run summary:</h3><br/><table class=\"wandb\"><tr><td>epoch</td><td>9</td></tr><tr><td>train_accuracy</td><td>0.93071</td></tr><tr><td>train_loss</td><td>0.16467</td></tr><tr><td>val_accuracy</td><td>0.94261</td></tr><tr><td>val_loss</td><td>0.15362</td></tr></table><br/></div></div>"
      ],
      "text/plain": [
       "<IPython.core.display.HTML object>"
      ]
     },
     "metadata": {},
     "output_type": "display_data"
    },
    {
     "data": {
      "text/html": [
       " View run <strong style=\"color:#cdcd00\">radiant-sweep-10</strong> at: <a href='https://wandb.ai/ritishtest1/face-mask-detection-vr-mini-project-1/runs/zjbwu04z' target=\"_blank\">https://wandb.ai/ritishtest1/face-mask-detection-vr-mini-project-1/runs/zjbwu04z</a><br> View project at: <a href='https://wandb.ai/ritishtest1/face-mask-detection-vr-mini-project-1' target=\"_blank\">https://wandb.ai/ritishtest1/face-mask-detection-vr-mini-project-1</a><br>Synced 5 W&B file(s), 0 media file(s), 0 artifact file(s) and 0 other file(s)"
      ],
      "text/plain": [
       "<IPython.core.display.HTML object>"
      ]
     },
     "metadata": {},
     "output_type": "display_data"
    },
    {
     "data": {
      "text/html": [
       "Find logs at: <code>./wandb/run-20250306_195911-zjbwu04z/logs</code>"
      ],
      "text/plain": [
       "<IPython.core.display.HTML object>"
      ]
     },
     "metadata": {},
     "output_type": "display_data"
    },
    {
     "name": "stderr",
     "output_type": "stream",
     "text": [
      "\u001b[34m\u001b[1mwandb\u001b[0m: Agent Starting Run: ujmtjct5 with config:\n",
      "\u001b[34m\u001b[1mwandb\u001b[0m: \tactivations: ['leaky_relu', 'leaky_relu', 'leaky_relu']\n",
      "\u001b[34m\u001b[1mwandb\u001b[0m: \tbatch_size: 16\n",
      "\u001b[34m\u001b[1mwandb\u001b[0m: \tconv_channels: [32, 64, 128]\n",
      "\u001b[34m\u001b[1mwandb\u001b[0m: \tdropout_rates: [0]\n",
      "\u001b[34m\u001b[1mwandb\u001b[0m: \tfc_sizes: [128, 64]\n",
      "\u001b[34m\u001b[1mwandb\u001b[0m: \tlearning_rate: 0.001488867856424226\n",
      "\u001b[34m\u001b[1mwandb\u001b[0m: \toptimizer: adamw\n",
      "\u001b[34m\u001b[1mwandb\u001b[0m: \tuse_batch_norm: False\n"
     ]
    },
    {
     "data": {
      "text/html": [
       "Tracking run with wandb version 0.19.8"
      ],
      "text/plain": [
       "<IPython.core.display.HTML object>"
      ]
     },
     "metadata": {},
     "output_type": "display_data"
    },
    {
     "data": {
      "text/html": [
       "Run data is saved locally in <code>/home/ritish/prog/college/VR/mini_project_1/wandb/run-20250306_200037-ujmtjct5</code>"
      ],
      "text/plain": [
       "<IPython.core.display.HTML object>"
      ]
     },
     "metadata": {},
     "output_type": "display_data"
    },
    {
     "data": {
      "text/html": [
       "Syncing run <strong><a href='https://wandb.ai/ritishtest1/face-mask-detection-vr-mini-project-1/runs/ujmtjct5' target=\"_blank\">kind-sweep-11</a></strong> to <a href='https://wandb.ai/ritishtest1/face-mask-detection-vr-mini-project-1' target=\"_blank\">Weights & Biases</a> (<a href='https://wandb.me/developer-guide' target=\"_blank\">docs</a>)<br>Sweep page: <a href='https://wandb.ai/ritishtest1/face-mask-detection-vr-mini-project-1/sweeps/uo9mdr7h' target=\"_blank\">https://wandb.ai/ritishtest1/face-mask-detection-vr-mini-project-1/sweeps/uo9mdr7h</a>"
      ],
      "text/plain": [
       "<IPython.core.display.HTML object>"
      ]
     },
     "metadata": {},
     "output_type": "display_data"
    },
    {
     "data": {
      "text/html": [
       " View project at <a href='https://wandb.ai/ritishtest1/face-mask-detection-vr-mini-project-1' target=\"_blank\">https://wandb.ai/ritishtest1/face-mask-detection-vr-mini-project-1</a>"
      ],
      "text/plain": [
       "<IPython.core.display.HTML object>"
      ]
     },
     "metadata": {},
     "output_type": "display_data"
    },
    {
     "data": {
      "text/html": [
       " View sweep at <a href='https://wandb.ai/ritishtest1/face-mask-detection-vr-mini-project-1/sweeps/uo9mdr7h' target=\"_blank\">https://wandb.ai/ritishtest1/face-mask-detection-vr-mini-project-1/sweeps/uo9mdr7h</a>"
      ],
      "text/plain": [
       "<IPython.core.display.HTML object>"
      ]
     },
     "metadata": {},
     "output_type": "display_data"
    },
    {
     "data": {
      "text/html": [
       " View run at <a href='https://wandb.ai/ritishtest1/face-mask-detection-vr-mini-project-1/runs/ujmtjct5' target=\"_blank\">https://wandb.ai/ritishtest1/face-mask-detection-vr-mini-project-1/runs/ujmtjct5</a>"
      ],
      "text/plain": [
       "<IPython.core.display.HTML object>"
      ]
     },
     "metadata": {},
     "output_type": "display_data"
    },
    {
     "name": "stderr",
     "output_type": "stream",
     "text": [
      "libpng warning: iCCP: known incorrect sRGB profile\n",
      "libpng warning: iCCP: known incorrect sRGB profile\n"
     ]
    },
    {
     "name": "stdout",
     "output_type": "stream",
     "text": [
      "Epoch 1/10, Train Loss: 0.3530, Train Acc: 0.8657, Val Loss: 0.1992, Val Acc: 0.9206\n"
     ]
    },
    {
     "name": "stderr",
     "output_type": "stream",
     "text": [
      "libpng warning: iCCP: known incorrect sRGB profile\n",
      "libpng warning: iCCP: known incorrect sRGB profile\n"
     ]
    },
    {
     "name": "stdout",
     "output_type": "stream",
     "text": [
      "Epoch 2/10, Train Loss: 0.2344, Train Acc: 0.9167, Val Loss: 0.2262, Val Acc: 0.9109\n"
     ]
    },
    {
     "name": "stderr",
     "output_type": "stream",
     "text": [
      "libpng warning: iCCP: known incorrect sRGB profile\n",
      "libpng warning: iCCP: known incorrect sRGB profile\n"
     ]
    },
    {
     "name": "stdout",
     "output_type": "stream",
     "text": [
      "Epoch 3/10, Train Loss: 0.2144, Train Acc: 0.9261, Val Loss: 0.1990, Val Acc: 0.9158\n"
     ]
    },
    {
     "name": "stderr",
     "output_type": "stream",
     "text": [
      "libpng warning: iCCP: known incorrect sRGB profile\n",
      "libpng warning: iCCP: known incorrect sRGB profile\n"
     ]
    },
    {
     "name": "stdout",
     "output_type": "stream",
     "text": [
      "Epoch 4/10, Train Loss: 0.1791, Train Acc: 0.9310, Val Loss: 0.1392, Val Acc: 0.9499\n"
     ]
    },
    {
     "name": "stderr",
     "output_type": "stream",
     "text": [
      "libpng warning: iCCP: known incorrect sRGB profile\n",
      "libpng warning: iCCP: known incorrect sRGB profile\n"
     ]
    },
    {
     "name": "stdout",
     "output_type": "stream",
     "text": [
      "Epoch 5/10, Train Loss: 0.1739, Train Acc: 0.9325, Val Loss: 0.1201, Val Acc: 0.9597\n"
     ]
    },
    {
     "name": "stderr",
     "output_type": "stream",
     "text": [
      "libpng warning: iCCP: known incorrect sRGB profile\n",
      "libpng warning: iCCP: known incorrect sRGB profile\n"
     ]
    },
    {
     "name": "stdout",
     "output_type": "stream",
     "text": [
      "Epoch 6/10, Train Loss: 0.1580, Train Acc: 0.9444, Val Loss: 0.1336, Val Acc: 0.9585\n"
     ]
    },
    {
     "name": "stderr",
     "output_type": "stream",
     "text": [
      "libpng warning: iCCP: known incorrect sRGB profile\n",
      "libpng warning: iCCP: known incorrect sRGB profile\n"
     ]
    },
    {
     "name": "stdout",
     "output_type": "stream",
     "text": [
      "Epoch 7/10, Train Loss: 0.1338, Train Acc: 0.9502, Val Loss: 0.1084, Val Acc: 0.9609\n"
     ]
    },
    {
     "name": "stderr",
     "output_type": "stream",
     "text": [
      "libpng warning: iCCP: known incorrect sRGB profile\n",
      "libpng warning: iCCP: known incorrect sRGB profile\n"
     ]
    },
    {
     "name": "stdout",
     "output_type": "stream",
     "text": [
      "Epoch 8/10, Train Loss: 0.1288, Train Acc: 0.9512, Val Loss: 0.1157, Val Acc: 0.9487\n"
     ]
    },
    {
     "name": "stderr",
     "output_type": "stream",
     "text": [
      "libpng warning: iCCP: known incorrect sRGB profile\n",
      "libpng warning: iCCP: known incorrect sRGB profile\n"
     ]
    },
    {
     "name": "stdout",
     "output_type": "stream",
     "text": [
      "Epoch 9/10, Train Loss: 0.1084, Train Acc: 0.9615, Val Loss: 0.0843, Val Acc: 0.9670\n"
     ]
    },
    {
     "name": "stderr",
     "output_type": "stream",
     "text": [
      "libpng warning: iCCP: known incorrect sRGB profile\n",
      "libpng warning: iCCP: known incorrect sRGB profile\n"
     ]
    },
    {
     "name": "stdout",
     "output_type": "stream",
     "text": [
      "Epoch 10/10, Train Loss: 0.0950, Train Acc: 0.9634, Val Loss: 0.1086, Val Acc: 0.9658\n"
     ]
    },
    {
     "data": {
      "text/html": [],
      "text/plain": [
       "<IPython.core.display.HTML object>"
      ]
     },
     "metadata": {},
     "output_type": "display_data"
    },
    {
     "data": {
      "text/html": [
       "<br>    <style><br>        .wandb-row {<br>            display: flex;<br>            flex-direction: row;<br>            flex-wrap: wrap;<br>            justify-content: flex-start;<br>            width: 100%;<br>        }<br>        .wandb-col {<br>            display: flex;<br>            flex-direction: column;<br>            flex-basis: 100%;<br>            flex: 1;<br>            padding: 10px;<br>        }<br>    </style><br><div class=\"wandb-row\"><div class=\"wandb-col\"><h3>Run history:</h3><br/><table class=\"wandb\"><tr><td>epoch</td><td>▁▂▃▃▄▅▆▆▇█</td></tr><tr><td>train_accuracy</td><td>▁▅▅▆▆▇▇▇██</td></tr><tr><td>train_loss</td><td>█▅▄▃▃▃▂▂▁▁</td></tr><tr><td>val_accuracy</td><td>▂▁▂▆▇▇▇▆██</td></tr><tr><td>val_loss</td><td>▇█▇▄▃▃▂▃▁▂</td></tr></table><br/></div><div class=\"wandb-col\"><h3>Run summary:</h3><br/><table class=\"wandb\"><tr><td>epoch</td><td>9</td></tr><tr><td>train_accuracy</td><td>0.96337</td></tr><tr><td>train_loss</td><td>0.09501</td></tr><tr><td>val_accuracy</td><td>0.96581</td></tr><tr><td>val_loss</td><td>0.10865</td></tr></table><br/></div></div>"
      ],
      "text/plain": [
       "<IPython.core.display.HTML object>"
      ]
     },
     "metadata": {},
     "output_type": "display_data"
    },
    {
     "data": {
      "text/html": [
       " View run <strong style=\"color:#cdcd00\">kind-sweep-11</strong> at: <a href='https://wandb.ai/ritishtest1/face-mask-detection-vr-mini-project-1/runs/ujmtjct5' target=\"_blank\">https://wandb.ai/ritishtest1/face-mask-detection-vr-mini-project-1/runs/ujmtjct5</a><br> View project at: <a href='https://wandb.ai/ritishtest1/face-mask-detection-vr-mini-project-1' target=\"_blank\">https://wandb.ai/ritishtest1/face-mask-detection-vr-mini-project-1</a><br>Synced 5 W&B file(s), 0 media file(s), 0 artifact file(s) and 0 other file(s)"
      ],
      "text/plain": [
       "<IPython.core.display.HTML object>"
      ]
     },
     "metadata": {},
     "output_type": "display_data"
    },
    {
     "data": {
      "text/html": [
       "Find logs at: <code>./wandb/run-20250306_200037-ujmtjct5/logs</code>"
      ],
      "text/plain": [
       "<IPython.core.display.HTML object>"
      ]
     },
     "metadata": {},
     "output_type": "display_data"
    },
    {
     "name": "stderr",
     "output_type": "stream",
     "text": [
      "\u001b[34m\u001b[1mwandb\u001b[0m: Agent Starting Run: fvirl0ih with config:\n",
      "\u001b[34m\u001b[1mwandb\u001b[0m: \tactivations: ['leaky_relu', 'leaky_relu', 'leaky_relu']\n",
      "\u001b[34m\u001b[1mwandb\u001b[0m: \tbatch_size: 16\n",
      "\u001b[34m\u001b[1mwandb\u001b[0m: \tconv_channels: [16, 32, 64]\n",
      "\u001b[34m\u001b[1mwandb\u001b[0m: \tdropout_rates: [0]\n",
      "\u001b[34m\u001b[1mwandb\u001b[0m: \tfc_sizes: [256]\n",
      "\u001b[34m\u001b[1mwandb\u001b[0m: \tlearning_rate: 0.0011602096491267796\n",
      "\u001b[34m\u001b[1mwandb\u001b[0m: \toptimizer: adam\n",
      "\u001b[34m\u001b[1mwandb\u001b[0m: \tuse_batch_norm: True\n"
     ]
    },
    {
     "data": {
      "text/html": [
       "Tracking run with wandb version 0.19.8"
      ],
      "text/plain": [
       "<IPython.core.display.HTML object>"
      ]
     },
     "metadata": {},
     "output_type": "display_data"
    },
    {
     "data": {
      "text/html": [
       "Run data is saved locally in <code>/home/ritish/prog/college/VR/mini_project_1/wandb/run-20250306_200202-fvirl0ih</code>"
      ],
      "text/plain": [
       "<IPython.core.display.HTML object>"
      ]
     },
     "metadata": {},
     "output_type": "display_data"
    },
    {
     "data": {
      "text/html": [
       "Syncing run <strong><a href='https://wandb.ai/ritishtest1/face-mask-detection-vr-mini-project-1/runs/fvirl0ih' target=\"_blank\">prime-sweep-12</a></strong> to <a href='https://wandb.ai/ritishtest1/face-mask-detection-vr-mini-project-1' target=\"_blank\">Weights & Biases</a> (<a href='https://wandb.me/developer-guide' target=\"_blank\">docs</a>)<br>Sweep page: <a href='https://wandb.ai/ritishtest1/face-mask-detection-vr-mini-project-1/sweeps/uo9mdr7h' target=\"_blank\">https://wandb.ai/ritishtest1/face-mask-detection-vr-mini-project-1/sweeps/uo9mdr7h</a>"
      ],
      "text/plain": [
       "<IPython.core.display.HTML object>"
      ]
     },
     "metadata": {},
     "output_type": "display_data"
    },
    {
     "data": {
      "text/html": [
       " View project at <a href='https://wandb.ai/ritishtest1/face-mask-detection-vr-mini-project-1' target=\"_blank\">https://wandb.ai/ritishtest1/face-mask-detection-vr-mini-project-1</a>"
      ],
      "text/plain": [
       "<IPython.core.display.HTML object>"
      ]
     },
     "metadata": {},
     "output_type": "display_data"
    },
    {
     "data": {
      "text/html": [
       " View sweep at <a href='https://wandb.ai/ritishtest1/face-mask-detection-vr-mini-project-1/sweeps/uo9mdr7h' target=\"_blank\">https://wandb.ai/ritishtest1/face-mask-detection-vr-mini-project-1/sweeps/uo9mdr7h</a>"
      ],
      "text/plain": [
       "<IPython.core.display.HTML object>"
      ]
     },
     "metadata": {},
     "output_type": "display_data"
    },
    {
     "data": {
      "text/html": [
       " View run at <a href='https://wandb.ai/ritishtest1/face-mask-detection-vr-mini-project-1/runs/fvirl0ih' target=\"_blank\">https://wandb.ai/ritishtest1/face-mask-detection-vr-mini-project-1/runs/fvirl0ih</a>"
      ],
      "text/plain": [
       "<IPython.core.display.HTML object>"
      ]
     },
     "metadata": {},
     "output_type": "display_data"
    },
    {
     "name": "stderr",
     "output_type": "stream",
     "text": [
      "libpng warning: iCCP: known incorrect sRGB profile\n",
      "libpng warning: iCCP: known incorrect sRGB profile\n"
     ]
    },
    {
     "name": "stdout",
     "output_type": "stream",
     "text": [
      "Epoch 1/10, Train Loss: 0.3056, Train Acc: 0.8761, Val Loss: 0.3049, Val Acc: 0.8828\n"
     ]
    },
    {
     "name": "stderr",
     "output_type": "stream",
     "text": [
      "libpng warning: iCCP: known incorrect sRGB profile\n",
      "libpng warning: iCCP: known incorrect sRGB profile\n"
     ]
    },
    {
     "name": "stdout",
     "output_type": "stream",
     "text": [
      "Epoch 2/10, Train Loss: 0.2215, Train Acc: 0.9167, Val Loss: 0.2034, Val Acc: 0.9255\n"
     ]
    },
    {
     "name": "stderr",
     "output_type": "stream",
     "text": [
      "libpng warning: iCCP: known incorrect sRGB profile\n",
      "libpng warning: iCCP: known incorrect sRGB profile\n"
     ]
    },
    {
     "name": "stdout",
     "output_type": "stream",
     "text": [
      "Epoch 3/10, Train Loss: 0.2034, Train Acc: 0.9203, Val Loss: 0.1539, Val Acc: 0.9353\n"
     ]
    },
    {
     "name": "stderr",
     "output_type": "stream",
     "text": [
      "libpng warning: iCCP: known incorrect sRGB profile\n",
      "libpng warning: iCCP: known incorrect sRGB profile\n"
     ]
    },
    {
     "name": "stdout",
     "output_type": "stream",
     "text": [
      "Epoch 4/10, Train Loss: 0.1682, Train Acc: 0.9371, Val Loss: 0.1301, Val Acc: 0.9597\n"
     ]
    },
    {
     "name": "stderr",
     "output_type": "stream",
     "text": [
      "libpng warning: iCCP: known incorrect sRGB profile\n",
      "libpng warning: iCCP: known incorrect sRGB profile\n"
     ]
    },
    {
     "name": "stdout",
     "output_type": "stream",
     "text": [
      "Epoch 5/10, Train Loss: 0.1452, Train Acc: 0.9454, Val Loss: 0.1035, Val Acc: 0.9658\n"
     ]
    },
    {
     "name": "stderr",
     "output_type": "stream",
     "text": [
      "libpng warning: iCCP: known incorrect sRGB profile\n",
      "libpng warning: iCCP: known incorrect sRGB profile\n"
     ]
    },
    {
     "name": "stdout",
     "output_type": "stream",
     "text": [
      "Epoch 6/10, Train Loss: 0.1331, Train Acc: 0.9509, Val Loss: 0.1080, Val Acc: 0.9573\n"
     ]
    },
    {
     "name": "stderr",
     "output_type": "stream",
     "text": [
      "libpng warning: iCCP: known incorrect sRGB profile\n",
      "libpng warning: iCCP: known incorrect sRGB profile\n"
     ]
    },
    {
     "name": "stdout",
     "output_type": "stream",
     "text": [
      "Epoch 7/10, Train Loss: 0.1287, Train Acc: 0.9515, Val Loss: 0.1546, Val Acc: 0.9463\n"
     ]
    },
    {
     "name": "stderr",
     "output_type": "stream",
     "text": [
      "libpng warning: iCCP: known incorrect sRGB profile\n",
      "libpng warning: iCCP: known incorrect sRGB profile\n"
     ]
    },
    {
     "name": "stdout",
     "output_type": "stream",
     "text": [
      "Epoch 8/10, Train Loss: 0.1257, Train Acc: 0.9551, Val Loss: 0.0937, Val Acc: 0.9707\n"
     ]
    },
    {
     "name": "stderr",
     "output_type": "stream",
     "text": [
      "libpng warning: iCCP: known incorrect sRGB profile\n",
      "libpng warning: iCCP: known incorrect sRGB profile\n"
     ]
    },
    {
     "name": "stdout",
     "output_type": "stream",
     "text": [
      "Epoch 9/10, Train Loss: 0.1072, Train Acc: 0.9600, Val Loss: 0.1092, Val Acc: 0.9634\n"
     ]
    },
    {
     "name": "stderr",
     "output_type": "stream",
     "text": [
      "libpng warning: iCCP: known incorrect sRGB profile\n",
      "libpng warning: iCCP: known incorrect sRGB profile\n"
     ]
    },
    {
     "name": "stdout",
     "output_type": "stream",
     "text": [
      "Epoch 10/10, Train Loss: 0.1071, Train Acc: 0.9557, Val Loss: 0.1057, Val Acc: 0.9585\n"
     ]
    },
    {
     "data": {
      "text/html": [],
      "text/plain": [
       "<IPython.core.display.HTML object>"
      ]
     },
     "metadata": {},
     "output_type": "display_data"
    },
    {
     "data": {
      "text/html": [
       "<br>    <style><br>        .wandb-row {<br>            display: flex;<br>            flex-direction: row;<br>            flex-wrap: wrap;<br>            justify-content: flex-start;<br>            width: 100%;<br>        }<br>        .wandb-col {<br>            display: flex;<br>            flex-direction: column;<br>            flex-basis: 100%;<br>            flex: 1;<br>            padding: 10px;<br>        }<br>    </style><br><div class=\"wandb-row\"><div class=\"wandb-col\"><h3>Run history:</h3><br/><table class=\"wandb\"><tr><td>epoch</td><td>▁▂▃▃▄▅▆▆▇█</td></tr><tr><td>train_accuracy</td><td>▁▄▅▆▇▇▇███</td></tr><tr><td>train_loss</td><td>█▅▄▃▂▂▂▂▁▁</td></tr><tr><td>val_accuracy</td><td>▁▄▅▇█▇▆█▇▇</td></tr><tr><td>val_loss</td><td>█▅▃▂▁▁▃▁▂▁</td></tr></table><br/></div><div class=\"wandb-col\"><h3>Run summary:</h3><br/><table class=\"wandb\"><tr><td>epoch</td><td>9</td></tr><tr><td>train_accuracy</td><td>0.95574</td></tr><tr><td>train_loss</td><td>0.10706</td></tr><tr><td>val_accuracy</td><td>0.95849</td></tr><tr><td>val_loss</td><td>0.10568</td></tr></table><br/></div></div>"
      ],
      "text/plain": [
       "<IPython.core.display.HTML object>"
      ]
     },
     "metadata": {},
     "output_type": "display_data"
    },
    {
     "data": {
      "text/html": [
       " View run <strong style=\"color:#cdcd00\">prime-sweep-12</strong> at: <a href='https://wandb.ai/ritishtest1/face-mask-detection-vr-mini-project-1/runs/fvirl0ih' target=\"_blank\">https://wandb.ai/ritishtest1/face-mask-detection-vr-mini-project-1/runs/fvirl0ih</a><br> View project at: <a href='https://wandb.ai/ritishtest1/face-mask-detection-vr-mini-project-1' target=\"_blank\">https://wandb.ai/ritishtest1/face-mask-detection-vr-mini-project-1</a><br>Synced 5 W&B file(s), 0 media file(s), 0 artifact file(s) and 0 other file(s)"
      ],
      "text/plain": [
       "<IPython.core.display.HTML object>"
      ]
     },
     "metadata": {},
     "output_type": "display_data"
    },
    {
     "data": {
      "text/html": [
       "Find logs at: <code>./wandb/run-20250306_200202-fvirl0ih/logs</code>"
      ],
      "text/plain": [
       "<IPython.core.display.HTML object>"
      ]
     },
     "metadata": {},
     "output_type": "display_data"
    },
    {
     "name": "stderr",
     "output_type": "stream",
     "text": [
      "\u001b[34m\u001b[1mwandb\u001b[0m: Agent Starting Run: a9pcp0oc with config:\n",
      "\u001b[34m\u001b[1mwandb\u001b[0m: \tactivations: ['relu', 'relu', 'relu']\n",
      "\u001b[34m\u001b[1mwandb\u001b[0m: \tbatch_size: 32\n",
      "\u001b[34m\u001b[1mwandb\u001b[0m: \tconv_channels: [16, 32, 64, 128]\n",
      "\u001b[34m\u001b[1mwandb\u001b[0m: \tdropout_rates: [0.3]\n",
      "\u001b[34m\u001b[1mwandb\u001b[0m: \tfc_sizes: [128]\n",
      "\u001b[34m\u001b[1mwandb\u001b[0m: \tlearning_rate: 0.005529335097769525\n",
      "\u001b[34m\u001b[1mwandb\u001b[0m: \toptimizer: adam\n",
      "\u001b[34m\u001b[1mwandb\u001b[0m: \tuse_batch_norm: False\n"
     ]
    },
    {
     "data": {
      "text/html": [
       "Tracking run with wandb version 0.19.8"
      ],
      "text/plain": [
       "<IPython.core.display.HTML object>"
      ]
     },
     "metadata": {},
     "output_type": "display_data"
    },
    {
     "data": {
      "text/html": [
       "Run data is saved locally in <code>/home/ritish/prog/college/VR/mini_project_1/wandb/run-20250306_200333-a9pcp0oc</code>"
      ],
      "text/plain": [
       "<IPython.core.display.HTML object>"
      ]
     },
     "metadata": {},
     "output_type": "display_data"
    },
    {
     "data": {
      "text/html": [
       "Syncing run <strong><a href='https://wandb.ai/ritishtest1/face-mask-detection-vr-mini-project-1/runs/a9pcp0oc' target=\"_blank\">still-sweep-13</a></strong> to <a href='https://wandb.ai/ritishtest1/face-mask-detection-vr-mini-project-1' target=\"_blank\">Weights & Biases</a> (<a href='https://wandb.me/developer-guide' target=\"_blank\">docs</a>)<br>Sweep page: <a href='https://wandb.ai/ritishtest1/face-mask-detection-vr-mini-project-1/sweeps/uo9mdr7h' target=\"_blank\">https://wandb.ai/ritishtest1/face-mask-detection-vr-mini-project-1/sweeps/uo9mdr7h</a>"
      ],
      "text/plain": [
       "<IPython.core.display.HTML object>"
      ]
     },
     "metadata": {},
     "output_type": "display_data"
    },
    {
     "data": {
      "text/html": [
       " View project at <a href='https://wandb.ai/ritishtest1/face-mask-detection-vr-mini-project-1' target=\"_blank\">https://wandb.ai/ritishtest1/face-mask-detection-vr-mini-project-1</a>"
      ],
      "text/plain": [
       "<IPython.core.display.HTML object>"
      ]
     },
     "metadata": {},
     "output_type": "display_data"
    },
    {
     "data": {
      "text/html": [
       " View sweep at <a href='https://wandb.ai/ritishtest1/face-mask-detection-vr-mini-project-1/sweeps/uo9mdr7h' target=\"_blank\">https://wandb.ai/ritishtest1/face-mask-detection-vr-mini-project-1/sweeps/uo9mdr7h</a>"
      ],
      "text/plain": [
       "<IPython.core.display.HTML object>"
      ]
     },
     "metadata": {},
     "output_type": "display_data"
    },
    {
     "data": {
      "text/html": [
       " View run at <a href='https://wandb.ai/ritishtest1/face-mask-detection-vr-mini-project-1/runs/a9pcp0oc' target=\"_blank\">https://wandb.ai/ritishtest1/face-mask-detection-vr-mini-project-1/runs/a9pcp0oc</a>"
      ],
      "text/plain": [
       "<IPython.core.display.HTML object>"
      ]
     },
     "metadata": {},
     "output_type": "display_data"
    },
    {
     "name": "stderr",
     "output_type": "stream",
     "text": [
      "libpng warning: iCCP: known incorrect sRGB profile\n",
      "libpng warning: iCCP: known incorrect sRGB profile\n"
     ]
    },
    {
     "name": "stdout",
     "output_type": "stream",
     "text": [
      "Epoch 1/10, Train Loss: 0.4475, Train Acc: 0.8059, Val Loss: 0.2680, Val Acc: 0.8999\n"
     ]
    },
    {
     "name": "stderr",
     "output_type": "stream",
     "text": [
      "libpng warning: iCCP: known incorrect sRGB profile\n",
      "libpng warning: iCCP: known incorrect sRGB profile\n"
     ]
    },
    {
     "name": "stdout",
     "output_type": "stream",
     "text": [
      "Epoch 2/10, Train Loss: 0.2985, Train Acc: 0.8895, Val Loss: 0.2700, Val Acc: 0.8864\n"
     ]
    },
    {
     "name": "stderr",
     "output_type": "stream",
     "text": [
      "libpng warning: iCCP: known incorrect sRGB profile\n",
      "libpng warning: iCCP: known incorrect sRGB profile\n"
     ]
    },
    {
     "name": "stdout",
     "output_type": "stream",
     "text": [
      "Epoch 3/10, Train Loss: 0.2424, Train Acc: 0.9087, Val Loss: 0.2260, Val Acc: 0.9023\n"
     ]
    },
    {
     "name": "stderr",
     "output_type": "stream",
     "text": [
      "libpng warning: iCCP: known incorrect sRGB profile\n",
      "libpng warning: iCCP: known incorrect sRGB profile\n"
     ]
    },
    {
     "name": "stdout",
     "output_type": "stream",
     "text": [
      "Epoch 4/10, Train Loss: 0.2244, Train Acc: 0.9197, Val Loss: 0.1989, Val Acc: 0.9316\n"
     ]
    },
    {
     "name": "stderr",
     "output_type": "stream",
     "text": [
      "libpng warning: iCCP: known incorrect sRGB profile\n",
      "libpng warning: iCCP: known incorrect sRGB profile\n"
     ]
    },
    {
     "name": "stdout",
     "output_type": "stream",
     "text": [
      "Epoch 5/10, Train Loss: 0.2049, Train Acc: 0.9243, Val Loss: 0.2350, Val Acc: 0.9035\n"
     ]
    },
    {
     "name": "stderr",
     "output_type": "stream",
     "text": [
      "libpng warning: iCCP: known incorrect sRGB profile\n",
      "libpng warning: iCCP: known incorrect sRGB profile\n"
     ]
    },
    {
     "name": "stdout",
     "output_type": "stream",
     "text": [
      "Epoch 6/10, Train Loss: 0.1864, Train Acc: 0.9332, Val Loss: 0.1832, Val Acc: 0.9365\n"
     ]
    },
    {
     "name": "stderr",
     "output_type": "stream",
     "text": [
      "libpng warning: iCCP: known incorrect sRGB profile\n",
      "libpng warning: iCCP: known incorrect sRGB profile\n"
     ]
    },
    {
     "name": "stdout",
     "output_type": "stream",
     "text": [
      "Epoch 7/10, Train Loss: 0.1950, Train Acc: 0.9304, Val Loss: 0.1831, Val Acc: 0.9341\n"
     ]
    },
    {
     "name": "stderr",
     "output_type": "stream",
     "text": [
      "libpng warning: iCCP: known incorrect sRGB profile\n",
      "libpng warning: iCCP: known incorrect sRGB profile\n"
     ]
    },
    {
     "name": "stdout",
     "output_type": "stream",
     "text": [
      "Epoch 8/10, Train Loss: 0.1927, Train Acc: 0.9270, Val Loss: 0.1523, Val Acc: 0.9438\n"
     ]
    },
    {
     "name": "stderr",
     "output_type": "stream",
     "text": [
      "libpng warning: iCCP: known incorrect sRGB profile\n",
      "libpng warning: iCCP: known incorrect sRGB profile\n"
     ]
    },
    {
     "name": "stdout",
     "output_type": "stream",
     "text": [
      "Epoch 9/10, Train Loss: 0.1689, Train Acc: 0.9350, Val Loss: 0.1287, Val Acc: 0.9487\n"
     ]
    },
    {
     "name": "stderr",
     "output_type": "stream",
     "text": [
      "libpng warning: iCCP: known incorrect sRGB profile\n",
      "libpng warning: iCCP: known incorrect sRGB profile\n"
     ]
    },
    {
     "name": "stdout",
     "output_type": "stream",
     "text": [
      "Epoch 10/10, Train Loss: 0.1433, Train Acc: 0.9447, Val Loss: 0.1282, Val Acc: 0.9463\n"
     ]
    },
    {
     "data": {
      "text/html": [],
      "text/plain": [
       "<IPython.core.display.HTML object>"
      ]
     },
     "metadata": {},
     "output_type": "display_data"
    },
    {
     "data": {
      "text/html": [
       "<br>    <style><br>        .wandb-row {<br>            display: flex;<br>            flex-direction: row;<br>            flex-wrap: wrap;<br>            justify-content: flex-start;<br>            width: 100%;<br>        }<br>        .wandb-col {<br>            display: flex;<br>            flex-direction: column;<br>            flex-basis: 100%;<br>            flex: 1;<br>            padding: 10px;<br>        }<br>    </style><br><div class=\"wandb-row\"><div class=\"wandb-col\"><h3>Run history:</h3><br/><table class=\"wandb\"><tr><td>epoch</td><td>▁▂▃▃▄▅▆▆▇█</td></tr><tr><td>train_accuracy</td><td>▁▅▆▇▇▇▇▇██</td></tr><tr><td>train_loss</td><td>█▅▃▃▂▂▂▂▂▁</td></tr><tr><td>val_accuracy</td><td>▃▁▃▆▃▇▆▇██</td></tr><tr><td>val_loss</td><td>██▆▄▆▄▄▂▁▁</td></tr></table><br/></div><div class=\"wandb-col\"><h3>Run summary:</h3><br/><table class=\"wandb\"><tr><td>epoch</td><td>9</td></tr><tr><td>train_accuracy</td><td>0.94475</td></tr><tr><td>train_loss</td><td>0.14331</td></tr><tr><td>val_accuracy</td><td>0.94628</td></tr><tr><td>val_loss</td><td>0.12822</td></tr></table><br/></div></div>"
      ],
      "text/plain": [
       "<IPython.core.display.HTML object>"
      ]
     },
     "metadata": {},
     "output_type": "display_data"
    },
    {
     "data": {
      "text/html": [
       " View run <strong style=\"color:#cdcd00\">still-sweep-13</strong> at: <a href='https://wandb.ai/ritishtest1/face-mask-detection-vr-mini-project-1/runs/a9pcp0oc' target=\"_blank\">https://wandb.ai/ritishtest1/face-mask-detection-vr-mini-project-1/runs/a9pcp0oc</a><br> View project at: <a href='https://wandb.ai/ritishtest1/face-mask-detection-vr-mini-project-1' target=\"_blank\">https://wandb.ai/ritishtest1/face-mask-detection-vr-mini-project-1</a><br>Synced 5 W&B file(s), 0 media file(s), 0 artifact file(s) and 0 other file(s)"
      ],
      "text/plain": [
       "<IPython.core.display.HTML object>"
      ]
     },
     "metadata": {},
     "output_type": "display_data"
    },
    {
     "data": {
      "text/html": [
       "Find logs at: <code>./wandb/run-20250306_200333-a9pcp0oc/logs</code>"
      ],
      "text/plain": [
       "<IPython.core.display.HTML object>"
      ]
     },
     "metadata": {},
     "output_type": "display_data"
    },
    {
     "name": "stderr",
     "output_type": "stream",
     "text": [
      "\u001b[34m\u001b[1mwandb\u001b[0m: Agent Starting Run: 3ti8y94v with config:\n",
      "\u001b[34m\u001b[1mwandb\u001b[0m: \tactivations: ['relu', 'relu', 'relu']\n",
      "\u001b[34m\u001b[1mwandb\u001b[0m: \tbatch_size: 16\n",
      "\u001b[34m\u001b[1mwandb\u001b[0m: \tconv_channels: [16, 32, 64]\n",
      "\u001b[34m\u001b[1mwandb\u001b[0m: \tdropout_rates: [0]\n",
      "\u001b[34m\u001b[1mwandb\u001b[0m: \tfc_sizes: [128, 64]\n",
      "\u001b[34m\u001b[1mwandb\u001b[0m: \tlearning_rate: 0.0008802964311920451\n",
      "\u001b[34m\u001b[1mwandb\u001b[0m: \toptimizer: adam\n",
      "\u001b[34m\u001b[1mwandb\u001b[0m: \tuse_batch_norm: True\n"
     ]
    },
    {
     "data": {
      "text/html": [
       "Tracking run with wandb version 0.19.8"
      ],
      "text/plain": [
       "<IPython.core.display.HTML object>"
      ]
     },
     "metadata": {},
     "output_type": "display_data"
    },
    {
     "data": {
      "text/html": [
       "Run data is saved locally in <code>/home/ritish/prog/college/VR/mini_project_1/wandb/run-20250306_200458-3ti8y94v</code>"
      ],
      "text/plain": [
       "<IPython.core.display.HTML object>"
      ]
     },
     "metadata": {},
     "output_type": "display_data"
    },
    {
     "data": {
      "text/html": [
       "Syncing run <strong><a href='https://wandb.ai/ritishtest1/face-mask-detection-vr-mini-project-1/runs/3ti8y94v' target=\"_blank\">celestial-sweep-14</a></strong> to <a href='https://wandb.ai/ritishtest1/face-mask-detection-vr-mini-project-1' target=\"_blank\">Weights & Biases</a> (<a href='https://wandb.me/developer-guide' target=\"_blank\">docs</a>)<br>Sweep page: <a href='https://wandb.ai/ritishtest1/face-mask-detection-vr-mini-project-1/sweeps/uo9mdr7h' target=\"_blank\">https://wandb.ai/ritishtest1/face-mask-detection-vr-mini-project-1/sweeps/uo9mdr7h</a>"
      ],
      "text/plain": [
       "<IPython.core.display.HTML object>"
      ]
     },
     "metadata": {},
     "output_type": "display_data"
    },
    {
     "data": {
      "text/html": [
       " View project at <a href='https://wandb.ai/ritishtest1/face-mask-detection-vr-mini-project-1' target=\"_blank\">https://wandb.ai/ritishtest1/face-mask-detection-vr-mini-project-1</a>"
      ],
      "text/plain": [
       "<IPython.core.display.HTML object>"
      ]
     },
     "metadata": {},
     "output_type": "display_data"
    },
    {
     "data": {
      "text/html": [
       " View sweep at <a href='https://wandb.ai/ritishtest1/face-mask-detection-vr-mini-project-1/sweeps/uo9mdr7h' target=\"_blank\">https://wandb.ai/ritishtest1/face-mask-detection-vr-mini-project-1/sweeps/uo9mdr7h</a>"
      ],
      "text/plain": [
       "<IPython.core.display.HTML object>"
      ]
     },
     "metadata": {},
     "output_type": "display_data"
    },
    {
     "data": {
      "text/html": [
       " View run at <a href='https://wandb.ai/ritishtest1/face-mask-detection-vr-mini-project-1/runs/3ti8y94v' target=\"_blank\">https://wandb.ai/ritishtest1/face-mask-detection-vr-mini-project-1/runs/3ti8y94v</a>"
      ],
      "text/plain": [
       "<IPython.core.display.HTML object>"
      ]
     },
     "metadata": {},
     "output_type": "display_data"
    },
    {
     "name": "stderr",
     "output_type": "stream",
     "text": [
      "libpng warning: iCCP: known incorrect sRGB profile\n",
      "libpng warning: iCCP: known incorrect sRGB profile\n",
      "\u001b[34m\u001b[1mwandb\u001b[0m: Ctrl + C detected. Stopping sweep.\n"
     ]
    },
    {
     "name": "stdout",
     "output_type": "stream",
     "text": [
      "Error in callback <bound method _WandbInit._pause_backend of <wandb.sdk.wandb_init._WandbInit object at 0x787be107ef90>> (for post_run_cell), with arguments args (<ExecutionResult object at 787be323a990, execution_count=7 error_before_exec=None error_in_exec=None info=<ExecutionInfo object at 787be323a8a0, raw_cell=\"# Initialize a sweep\n",
      "sweep_id = wandb.sweep(sweep_..\" store_history=True silent=False shell_futures=True cell_id=vscode-notebook-cell:/home/ritish/prog/college/VR/mini_project_1/face_mask_classifier.ipynb#X15sZmlsZQ%3D%3D> result=None>,),kwargs {}:\n"
     ]
    },
    {
     "name": "stderr",
     "output_type": "stream",
     "text": [
      "Exception in thread Thread-47 (_run_job):\n"
     ]
    },
    {
     "ename": "BrokenPipeError",
     "evalue": "[Errno 32] Broken pipe",
     "output_type": "error",
     "traceback": [
      "\u001b[0;31m---------------------------------------------------------------------------\u001b[0m",
      "\u001b[0;31mBrokenPipeError\u001b[0m                           Traceback (most recent call last)",
      "File \u001b[0;32m~/prog/ML/.venv/lib/python3.13/site-packages/wandb/sdk/wandb_init.py:565\u001b[0m, in \u001b[0;36m_WandbInit._pause_backend\u001b[0;34m(self, *args, **kwargs)\u001b[0m\n\u001b[1;32m    563\u001b[0m \u001b[38;5;28;01mif\u001b[39;00m \u001b[38;5;28mself\u001b[39m\u001b[38;5;241m.\u001b[39mbackend\u001b[38;5;241m.\u001b[39minterface \u001b[38;5;129;01mis\u001b[39;00m \u001b[38;5;129;01mnot\u001b[39;00m \u001b[38;5;28;01mNone\u001b[39;00m:\n\u001b[1;32m    564\u001b[0m     \u001b[38;5;28mself\u001b[39m\u001b[38;5;241m.\u001b[39m_logger\u001b[38;5;241m.\u001b[39minfo(\u001b[38;5;124m\"\u001b[39m\u001b[38;5;124mpausing backend\u001b[39m\u001b[38;5;124m\"\u001b[39m)  \u001b[38;5;66;03m# type: ignore\u001b[39;00m\n\u001b[0;32m--> 565\u001b[0m     \u001b[38;5;28;43mself\u001b[39;49m\u001b[38;5;241;43m.\u001b[39;49m\u001b[43mbackend\u001b[49m\u001b[38;5;241;43m.\u001b[39;49m\u001b[43minterface\u001b[49m\u001b[38;5;241;43m.\u001b[39;49m\u001b[43mpublish_pause\u001b[49m\u001b[43m(\u001b[49m\u001b[43m)\u001b[49m\n",
      "File \u001b[0;32m~/prog/ML/.venv/lib/python3.13/site-packages/wandb/sdk/interface/interface.py:769\u001b[0m, in \u001b[0;36mInterfaceBase.publish_pause\u001b[0;34m(self)\u001b[0m\n\u001b[1;32m    767\u001b[0m \u001b[38;5;28;01mdef\u001b[39;00m\u001b[38;5;250m \u001b[39m\u001b[38;5;21mpublish_pause\u001b[39m(\u001b[38;5;28mself\u001b[39m) \u001b[38;5;241m-\u001b[39m\u001b[38;5;241m>\u001b[39m \u001b[38;5;28;01mNone\u001b[39;00m:\n\u001b[1;32m    768\u001b[0m     pause \u001b[38;5;241m=\u001b[39m pb\u001b[38;5;241m.\u001b[39mPauseRequest()\n\u001b[0;32m--> 769\u001b[0m     \u001b[38;5;28;43mself\u001b[39;49m\u001b[38;5;241;43m.\u001b[39;49m\u001b[43m_publish_pause\u001b[49m\u001b[43m(\u001b[49m\u001b[43mpause\u001b[49m\u001b[43m)\u001b[49m\n",
      "File \u001b[0;32m~/prog/ML/.venv/lib/python3.13/site-packages/wandb/sdk/interface/interface_shared.py:289\u001b[0m, in \u001b[0;36mInterfaceShared._publish_pause\u001b[0;34m(self, pause)\u001b[0m\n\u001b[1;32m    287\u001b[0m \u001b[38;5;28;01mdef\u001b[39;00m\u001b[38;5;250m \u001b[39m\u001b[38;5;21m_publish_pause\u001b[39m(\u001b[38;5;28mself\u001b[39m, pause: pb\u001b[38;5;241m.\u001b[39mPauseRequest) \u001b[38;5;241m-\u001b[39m\u001b[38;5;241m>\u001b[39m \u001b[38;5;28;01mNone\u001b[39;00m:\n\u001b[1;32m    288\u001b[0m     rec \u001b[38;5;241m=\u001b[39m \u001b[38;5;28mself\u001b[39m\u001b[38;5;241m.\u001b[39m_make_request(pause\u001b[38;5;241m=\u001b[39mpause)\n\u001b[0;32m--> 289\u001b[0m     \u001b[38;5;28;43mself\u001b[39;49m\u001b[38;5;241;43m.\u001b[39;49m\u001b[43m_publish\u001b[49m\u001b[43m(\u001b[49m\u001b[43mrec\u001b[49m\u001b[43m)\u001b[49m\n",
      "File \u001b[0;32m~/prog/ML/.venv/lib/python3.13/site-packages/wandb/sdk/interface/interface_sock.py:39\u001b[0m, in \u001b[0;36mInterfaceSock._publish\u001b[0;34m(self, record, local)\u001b[0m\n\u001b[1;32m     37\u001b[0m \u001b[38;5;28;01mdef\u001b[39;00m\u001b[38;5;250m \u001b[39m\u001b[38;5;21m_publish\u001b[39m(\u001b[38;5;28mself\u001b[39m, record: \u001b[38;5;124m\"\u001b[39m\u001b[38;5;124mpb.Record\u001b[39m\u001b[38;5;124m\"\u001b[39m, local: Optional[\u001b[38;5;28mbool\u001b[39m] \u001b[38;5;241m=\u001b[39m \u001b[38;5;28;01mNone\u001b[39;00m) \u001b[38;5;241m-\u001b[39m\u001b[38;5;241m>\u001b[39m \u001b[38;5;28;01mNone\u001b[39;00m:\n\u001b[1;32m     38\u001b[0m     \u001b[38;5;28mself\u001b[39m\u001b[38;5;241m.\u001b[39m_assign(record)\n\u001b[0;32m---> 39\u001b[0m     \u001b[38;5;28;43mself\u001b[39;49m\u001b[38;5;241;43m.\u001b[39;49m\u001b[43m_sock_client\u001b[49m\u001b[38;5;241;43m.\u001b[39;49m\u001b[43msend_record_publish\u001b[49m\u001b[43m(\u001b[49m\u001b[43mrecord\u001b[49m\u001b[43m)\u001b[49m\n",
      "File \u001b[0;32m~/prog/ML/.venv/lib/python3.13/site-packages/wandb/sdk/lib/sock_client.py:174\u001b[0m, in \u001b[0;36mSockClient.send_record_publish\u001b[0;34m(self, record)\u001b[0m\n\u001b[1;32m    172\u001b[0m server_req\u001b[38;5;241m.\u001b[39mrequest_id \u001b[38;5;241m=\u001b[39m record\u001b[38;5;241m.\u001b[39mcontrol\u001b[38;5;241m.\u001b[39mmailbox_slot\n\u001b[1;32m    173\u001b[0m server_req\u001b[38;5;241m.\u001b[39mrecord_publish\u001b[38;5;241m.\u001b[39mCopyFrom(record)\n\u001b[0;32m--> 174\u001b[0m \u001b[38;5;28;43mself\u001b[39;49m\u001b[38;5;241;43m.\u001b[39;49m\u001b[43msend_server_request\u001b[49m\u001b[43m(\u001b[49m\u001b[43mserver_req\u001b[49m\u001b[43m)\u001b[49m\n",
      "File \u001b[0;32m~/prog/ML/.venv/lib/python3.13/site-packages/wandb/sdk/lib/sock_client.py:154\u001b[0m, in \u001b[0;36mSockClient.send_server_request\u001b[0;34m(self, msg)\u001b[0m\n\u001b[1;32m    153\u001b[0m \u001b[38;5;28;01mdef\u001b[39;00m\u001b[38;5;250m \u001b[39m\u001b[38;5;21msend_server_request\u001b[39m(\u001b[38;5;28mself\u001b[39m, msg: spb\u001b[38;5;241m.\u001b[39mServerRequest) \u001b[38;5;241m-\u001b[39m\u001b[38;5;241m>\u001b[39m \u001b[38;5;28;01mNone\u001b[39;00m:\n\u001b[0;32m--> 154\u001b[0m     \u001b[38;5;28;43mself\u001b[39;49m\u001b[38;5;241;43m.\u001b[39;49m\u001b[43m_send_message\u001b[49m\u001b[43m(\u001b[49m\u001b[43mmsg\u001b[49m\u001b[43m)\u001b[49m\n",
      "File \u001b[0;32m~/prog/ML/.venv/lib/python3.13/site-packages/wandb/sdk/lib/sock_client.py:151\u001b[0m, in \u001b[0;36mSockClient._send_message\u001b[0;34m(self, msg)\u001b[0m\n\u001b[1;32m    149\u001b[0m header \u001b[38;5;241m=\u001b[39m struct\u001b[38;5;241m.\u001b[39mpack(\u001b[38;5;124m\"\u001b[39m\u001b[38;5;124m<BI\u001b[39m\u001b[38;5;124m\"\u001b[39m, \u001b[38;5;28mord\u001b[39m(\u001b[38;5;124m\"\u001b[39m\u001b[38;5;124mW\u001b[39m\u001b[38;5;124m\"\u001b[39m), raw_size)\n\u001b[1;32m    150\u001b[0m \u001b[38;5;28;01mwith\u001b[39;00m \u001b[38;5;28mself\u001b[39m\u001b[38;5;241m.\u001b[39m_lock:\n\u001b[0;32m--> 151\u001b[0m     \u001b[38;5;28;43mself\u001b[39;49m\u001b[38;5;241;43m.\u001b[39;49m\u001b[43m_sendall_with_error_handle\u001b[49m\u001b[43m(\u001b[49m\u001b[43mheader\u001b[49m\u001b[43m \u001b[49m\u001b[38;5;241;43m+\u001b[39;49m\u001b[43m \u001b[49m\u001b[43mdata\u001b[49m\u001b[43m)\u001b[49m\n",
      "File \u001b[0;32m~/prog/ML/.venv/lib/python3.13/site-packages/wandb/sdk/lib/sock_client.py:130\u001b[0m, in \u001b[0;36mSockClient._sendall_with_error_handle\u001b[0;34m(self, data)\u001b[0m\n\u001b[1;32m    128\u001b[0m start_time \u001b[38;5;241m=\u001b[39m time\u001b[38;5;241m.\u001b[39mmonotonic()\n\u001b[1;32m    129\u001b[0m \u001b[38;5;28;01mtry\u001b[39;00m:\n\u001b[0;32m--> 130\u001b[0m     sent \u001b[38;5;241m=\u001b[39m \u001b[38;5;28;43mself\u001b[39;49m\u001b[38;5;241;43m.\u001b[39;49m\u001b[43m_sock\u001b[49m\u001b[38;5;241;43m.\u001b[39;49m\u001b[43msend\u001b[49m\u001b[43m(\u001b[49m\u001b[43mdata\u001b[49m\u001b[43m)\u001b[49m\n\u001b[1;32m    131\u001b[0m     \u001b[38;5;66;03m# sent equal to 0 indicates a closed socket\u001b[39;00m\n\u001b[1;32m    132\u001b[0m     \u001b[38;5;28;01mif\u001b[39;00m sent \u001b[38;5;241m==\u001b[39m \u001b[38;5;241m0\u001b[39m:\n",
      "\u001b[0;31mBrokenPipeError\u001b[0m: [Errno 32] Broken pipe"
     ]
    },
    {
     "name": "stderr",
     "output_type": "stream",
     "text": [
      "Traceback (most recent call last):\n"
     ]
    },
    {
     "name": "stderr",
     "output_type": "stream",
     "text": [
      "  File \u001b[35m\"/home/ritish/prog/ML/.venv/lib/python3.13/site-packages/ipykernel/iostream.py\"\u001b[0m, line \u001b[35m509\u001b[0m, in \u001b[35mparent_header\u001b[0m\n",
      "    return \u001b[31mself._parent_header.get\u001b[0m\u001b[1;31m()\u001b[0m\n",
      "           \u001b[31m~~~~~~~~~~~~~~~~~~~~~~~\u001b[0m\u001b[1;31m^^\u001b[0m\n"
     ]
    }
   ],
   "source": [
    "# Initialize a sweep\n",
    "sweep_id = wandb.sweep(sweep_config, project='face-mask-detection-vr-mini-project-1', entity='ritishtest1')\n",
    "\n",
    "# Run the sweep\n",
    "wandb.agent(sweep_id, function=train_model)"
   ]
  },
  {
   "cell_type": "code",
   "execution_count": 9,
   "metadata": {},
   "outputs": [
    {
     "name": "stdout",
     "output_type": "stream",
     "text": [
      "Validation accuracy: 0.8974358974358975\n"
     ]
    }
   ],
   "source": [
    "# Test accuracy on validation set\n",
    "model.eval()\n",
    "correct = 0\n",
    "total = 0\n",
    "with torch.no_grad():\n",
    "    for images, labels in val_loader:\n",
    "        images = images.to(device)\n",
    "        labels = labels.to(device)\n",
    "        outputs = model(images)\n",
    "        _, predicted = torch.max(outputs, 1)\n",
    "        total += labels.size(0)\n",
    "        correct += (predicted == labels).sum().item()\n",
    "print(f'Validation accuracy: {correct / total}')"
   ]
  }
 ],
 "metadata": {
  "kernelspec": {
   "display_name": ".venv",
   "language": "python",
   "name": ".venv"
  },
  "language_info": {
   "codemirror_mode": {
    "name": "ipython",
    "version": 3
   },
   "file_extension": ".py",
   "mimetype": "text/x-python",
   "name": "python",
   "nbconvert_exporter": "python",
   "pygments_lexer": "ipython3",
   "version": "3.13.2"
  }
 },
 "nbformat": 4,
 "nbformat_minor": 2
}
